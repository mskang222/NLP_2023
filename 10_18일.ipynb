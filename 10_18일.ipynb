{
  "nbformat": 4,
  "nbformat_minor": 0,
  "metadata": {
    "colab": {
      "provenance": [],
      "authorship_tag": "ABX9TyOA/5+QxPcNm5ZiYt2SPbSO",
      "include_colab_link": true
    },
    "kernelspec": {
      "name": "python3",
      "display_name": "Python 3"
    },
    "language_info": {
      "name": "python"
    }
  },
  "cells": [
    {
      "cell_type": "markdown",
      "metadata": {
        "id": "view-in-github",
        "colab_type": "text"
      },
      "source": [
        "<a href=\"https://colab.research.google.com/github/mskang222/NLP_2023/blob/main/10_18%EC%9D%BC.ipynb\" target=\"_parent\"><img src=\"https://colab.research.google.com/assets/colab-badge.svg\" alt=\"Open In Colab\"/></a>"
      ]
    },
    {
      "cell_type": "markdown",
      "source": [
        "# if문"
      ],
      "metadata": {
        "id": "2d1SugQdMFef"
      }
    },
    {
      "cell_type": "code",
      "execution_count": 3,
      "metadata": {
        "colab": {
          "base_uri": "https://localhost:8080/"
        },
        "id": "ubVtWcTJLvGA",
        "outputId": "0800ee8f-f2d3-41be-eda8-d354ca2f5bd1"
      },
      "outputs": [
        {
          "output_type": "stream",
          "name": "stdout",
          "text": [
            "걸어가라\n"
          ]
        }
      ],
      "source": [
        "#예제:만약 3000원 이상의 돈을 가지고 있으면 택시를 타고 가고, 그렇지 않으면 걸어가라.\n",
        "\n",
        "money = 2000\n",
        "if money >= 3000:\n",
        "    print(\"택시를 타고 가라\")\n",
        "else:\n",
        "      print(\"걸어가라\")"
      ]
    },
    {
      "cell_type": "code",
      "source": [
        "#돈이 3000원 이상 있거나 카드가 있다면 택시를 타고 가고, 그렇지 않으면 걸어가라.\n",
        "\n",
        "money = 2000\n",
        "card = True\n",
        "if money >= 3000 or card:\n",
        "    print(\"택시를 타고 가라\")\n",
        "else:\n",
        "    print(\"걸어가라\")\n",
        "#card가 True이기 때문에 money >= 3000 or card 조건문이 참으로 나온다."
      ],
      "metadata": {
        "colab": {
          "base_uri": "https://localhost:8080/"
        },
        "id": "J2TiNo_4Mbod",
        "outputId": "323226e7-3557-4d66-ed04-0051880c08a6"
      },
      "execution_count": 5,
      "outputs": [
        {
          "output_type": "stream",
          "name": "stdout",
          "text": [
            "택시를 타고 가라\n"
          ]
        }
      ]
    },
    {
      "cell_type": "markdown",
      "source": [
        "in, not in"
      ],
      "metadata": {
        "id": "zcV4cSESMuMk"
      }
    },
    {
      "cell_type": "code",
      "source": [
        "1 in [1, 2, 3]   #'[1, 2, 3]이라는 리스트 안에 1이 있는가?’라는 조건문"
      ],
      "metadata": {
        "colab": {
          "base_uri": "https://localhost:8080/"
        },
        "id": "R-msdcIfMrWo",
        "outputId": "2ab1636c-8119-46ad-cf9b-50f715993fb2"
      },
      "execution_count": 7,
      "outputs": [
        {
          "output_type": "execute_result",
          "data": {
            "text/plain": [
              "True"
            ]
          },
          "metadata": {},
          "execution_count": 7
        }
      ]
    },
    {
      "cell_type": "code",
      "source": [
        "1 not in [1, 2, 3] #‘[1, 2, 3] 리스트 안에 1이 없는가?’라는 조건문"
      ],
      "metadata": {
        "colab": {
          "base_uri": "https://localhost:8080/"
        },
        "id": "JNrt6paQM7I1",
        "outputId": "84a8bfb5-1837-487c-a6f5-b5b4033adc9d"
      },
      "execution_count": 8,
      "outputs": [
        {
          "output_type": "execute_result",
          "data": {
            "text/plain": [
              "False"
            ]
          },
          "metadata": {},
          "execution_count": 8
        }
      ]
    },
    {
      "cell_type": "markdown",
      "source": [
        "튜플과 문자열에서도 적용가능하다."
      ],
      "metadata": {
        "id": "K_xI6Vq-NG6W"
      }
    },
    {
      "cell_type": "code",
      "source": [
        "'a' in ('a', 'b', 'c')"
      ],
      "metadata": {
        "colab": {
          "base_uri": "https://localhost:8080/"
        },
        "id": "gY6sCYB6NJ9D",
        "outputId": "bbc48972-e087-455d-a444-17d949dbf046"
      },
      "execution_count": 9,
      "outputs": [
        {
          "output_type": "execute_result",
          "data": {
            "text/plain": [
              "True"
            ]
          },
          "metadata": {},
          "execution_count": 9
        }
      ]
    },
    {
      "cell_type": "code",
      "source": [
        "'j' not in 'python'"
      ],
      "metadata": {
        "colab": {
          "base_uri": "https://localhost:8080/"
        },
        "id": "vKwm3MtlNN2o",
        "outputId": "2c4be67c-0d36-4060-f4a8-c96a63f71308"
      },
      "execution_count": 10,
      "outputs": [
        {
          "output_type": "execute_result",
          "data": {
            "text/plain": [
              "True"
            ]
          },
          "metadata": {},
          "execution_count": 10
        }
      ]
    },
    {
      "cell_type": "code",
      "source": [
        "#예제: 만약 주머니에 돈이 있으면 택시를 타고 가고, 없으면 걸어가라.\n",
        "\n",
        "pocket = ['book', 'pencil', 'money']\n",
        "if 'money' in pocket:\n",
        "    print(\"택시를 타고 가라\")\n",
        "else:\n",
        "    print(\"걸어가라\")"
      ],
      "metadata": {
        "colab": {
          "base_uri": "https://localhost:8080/"
        },
        "id": "ETOGXDFVNRJc",
        "outputId": "ebf61350-c6eb-4dd9-d1a3-097b17926f41"
      },
      "execution_count": 11,
      "outputs": [
        {
          "output_type": "stream",
          "name": "stdout",
          "text": [
            "택시를 타고 가라\n"
          ]
        }
      ]
    }
  ]
}