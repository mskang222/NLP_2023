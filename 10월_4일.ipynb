{
  "nbformat": 4,
  "nbformat_minor": 0,
  "metadata": {
    "colab": {
      "provenance": [],
      "authorship_tag": "ABX9TyNVmZslEp112mLpefvFovYb",
      "include_colab_link": true
    },
    "kernelspec": {
      "name": "python3",
      "display_name": "Python 3"
    },
    "language_info": {
      "name": "python"
    }
  },
  "cells": [
    {
      "cell_type": "markdown",
      "metadata": {
        "id": "view-in-github",
        "colab_type": "text"
      },
      "source": [
        "<a href=\"https://colab.research.google.com/github/mskang222/NLP_2023/blob/main/10%EC%9B%94_4%EC%9D%BC.ipynb\" target=\"_parent\"><img src=\"https://colab.research.google.com/assets/colab-badge.svg\" alt=\"Open In Colab\"/></a>"
      ]
    },
    {
      "cell_type": "markdown",
      "source": [
        "튜플 곱하기"
      ],
      "metadata": {
        "id": "2THXLi33LYAa"
      }
    },
    {
      "cell_type": "code",
      "execution_count": 1,
      "metadata": {
        "colab": {
          "base_uri": "https://localhost:8080/"
        },
        "id": "MioGGyQFLTBJ",
        "outputId": "64b9ee64-d9bf-4da6-fafe-43fc7bae08d4"
      },
      "outputs": [
        {
          "output_type": "execute_result",
          "data": {
            "text/plain": [
              "(3, 4, 3, 4, 3, 4)"
            ]
          },
          "metadata": {},
          "execution_count": 1
        }
      ],
      "source": [
        "t2 = (3, 4)\n",
        "t3 = t2 * 3\n",
        "t3"
      ]
    },
    {
      "cell_type": "markdown",
      "source": [
        "튜플 길이 구하기"
      ],
      "metadata": {
        "id": "ny2Z-VbNLdBQ"
      }
    },
    {
      "cell_type": "code",
      "source": [
        "t1 = (1, 2, 'a', 'b')\n",
        "len(t1)"
      ],
      "metadata": {
        "colab": {
          "base_uri": "https://localhost:8080/"
        },
        "id": "0yVfWTHhLbhq",
        "outputId": "79330c07-8ef4-43ff-e76f-0048976898d8"
      },
      "execution_count": 2,
      "outputs": [
        {
          "output_type": "execute_result",
          "data": {
            "text/plain": [
              "4"
            ]
          },
          "metadata": {},
          "execution_count": 2
        }
      ]
    },
    {
      "cell_type": "markdown",
      "source": [
        "#딕셔너리 자료형"
      ],
      "metadata": {
        "id": "InBwso3ALiiY"
      }
    },
    {
      "cell_type": "code",
      "source": [
        "#딕셔너리의 예시\n",
        "dic = {'name': 'pey', 'phone': '010-9999-1234', 'birth': '1118'}\n",
        "#Key는 각각 'name', 'phone', 'birth', 각각의 Key에 해당하는 Value는 'pey', '010-9999-1234', '1118'이 된다."
      ],
      "metadata": {
        "id": "gD3olqsJLfUp"
      },
      "execution_count": 3,
      "outputs": []
    },
    {
      "cell_type": "code",
      "source": [
        "a = {1: 'hi'}  #Key로 정숫값 1, Value로 문자열 'hi'를 사용한 예시"
      ],
      "metadata": {
        "id": "DesRVDMjL0Ir"
      },
      "execution_count": 4,
      "outputs": []
    },
    {
      "cell_type": "code",
      "source": [
        "a = {'a': [1, 2, 3]}   #Value에 리스트도 넣을 수 있다."
      ],
      "metadata": {
        "id": "trf9GRZIL7dd"
      },
      "execution_count": 5,
      "outputs": []
    }
  ]
}