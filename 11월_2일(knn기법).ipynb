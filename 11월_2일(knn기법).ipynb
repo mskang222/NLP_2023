{
  "nbformat": 4,
  "nbformat_minor": 0,
  "metadata": {
    "colab": {
      "provenance": [],
      "authorship_tag": "ABX9TyPKfUnaN6guMcu08ZDykxGt",
      "include_colab_link": true
    },
    "kernelspec": {
      "name": "python3",
      "display_name": "Python 3"
    },
    "language_info": {
      "name": "python"
    }
  },
  "cells": [
    {
      "cell_type": "markdown",
      "metadata": {
        "id": "view-in-github",
        "colab_type": "text"
      },
      "source": [
        "<a href=\"https://colab.research.google.com/github/mskang222/NLP_2023/blob/main/11%EC%9B%94_2%EC%9D%BC(knn%EA%B8%B0%EB%B2%95).ipynb\" target=\"_parent\"><img src=\"https://colab.research.google.com/assets/colab-badge.svg\" alt=\"Open In Colab\"/></a>"
      ]
    },
    {
      "cell_type": "code",
      "execution_count": 2,
      "metadata": {
        "id": "AVdHwU4wIcCw"
      },
      "outputs": [],
      "source": [
        "import pandas as pd\n",
        "import pickle\n",
        "import matplotlib.pyplot as plt\n",
        "import seaborn as sns\n",
        "import numpy as np\n",
        "\n",
        "# 그래프 출력을 위해 선언합니다.\n",
        "%matplotlib inline\n",
        "# sklearn 모델의 동일한 결과 출력을 위해 선언합니다.\n",
        "np.random.seed(5)"
      ]
    },
    {
      "cell_type": "code",
      "source": [
        "df= pd.read_csv(\"https://raw.githubusercontent.com/wikibook/machine-learning/2.0/data/csv/basketball_stat.csv\")\n",
        "df.head(3)"
      ],
      "metadata": {
        "colab": {
          "base_uri": "https://localhost:8080/",
          "height": 143
        },
        "id": "nnrT6bO9Ipjo",
        "outputId": "2389c9ac-f2e7-44eb-c57a-6baa3f1637ee"
      },
      "execution_count": 3,
      "outputs": [
        {
          "output_type": "execute_result",
          "data": {
            "text/plain": [
              "          Player Pos   3P   2P  TRB  AST  STL  BLK\n",
              "0   Alex Abrines  SG  1.4  0.6  1.3  0.6  0.5  0.1\n",
              "1   Steven Adams   C  0.0  4.7  7.7  1.1  1.1  1.0\n",
              "2  Alexis Ajinca   C  0.0  2.3  4.5  0.3  0.5  0.6"
            ],
            "text/html": [
              "\n",
              "  <div id=\"df-68c50d34-c520-44c9-9fce-0d076f295d43\" class=\"colab-df-container\">\n",
              "    <div>\n",
              "<style scoped>\n",
              "    .dataframe tbody tr th:only-of-type {\n",
              "        vertical-align: middle;\n",
              "    }\n",
              "\n",
              "    .dataframe tbody tr th {\n",
              "        vertical-align: top;\n",
              "    }\n",
              "\n",
              "    .dataframe thead th {\n",
              "        text-align: right;\n",
              "    }\n",
              "</style>\n",
              "<table border=\"1\" class=\"dataframe\">\n",
              "  <thead>\n",
              "    <tr style=\"text-align: right;\">\n",
              "      <th></th>\n",
              "      <th>Player</th>\n",
              "      <th>Pos</th>\n",
              "      <th>3P</th>\n",
              "      <th>2P</th>\n",
              "      <th>TRB</th>\n",
              "      <th>AST</th>\n",
              "      <th>STL</th>\n",
              "      <th>BLK</th>\n",
              "    </tr>\n",
              "  </thead>\n",
              "  <tbody>\n",
              "    <tr>\n",
              "      <th>0</th>\n",
              "      <td>Alex Abrines</td>\n",
              "      <td>SG</td>\n",
              "      <td>1.4</td>\n",
              "      <td>0.6</td>\n",
              "      <td>1.3</td>\n",
              "      <td>0.6</td>\n",
              "      <td>0.5</td>\n",
              "      <td>0.1</td>\n",
              "    </tr>\n",
              "    <tr>\n",
              "      <th>1</th>\n",
              "      <td>Steven Adams</td>\n",
              "      <td>C</td>\n",
              "      <td>0.0</td>\n",
              "      <td>4.7</td>\n",
              "      <td>7.7</td>\n",
              "      <td>1.1</td>\n",
              "      <td>1.1</td>\n",
              "      <td>1.0</td>\n",
              "    </tr>\n",
              "    <tr>\n",
              "      <th>2</th>\n",
              "      <td>Alexis Ajinca</td>\n",
              "      <td>C</td>\n",
              "      <td>0.0</td>\n",
              "      <td>2.3</td>\n",
              "      <td>4.5</td>\n",
              "      <td>0.3</td>\n",
              "      <td>0.5</td>\n",
              "      <td>0.6</td>\n",
              "    </tr>\n",
              "  </tbody>\n",
              "</table>\n",
              "</div>\n",
              "    <div class=\"colab-df-buttons\">\n",
              "\n",
              "  <div class=\"colab-df-container\">\n",
              "    <button class=\"colab-df-convert\" onclick=\"convertToInteractive('df-68c50d34-c520-44c9-9fce-0d076f295d43')\"\n",
              "            title=\"Convert this dataframe to an interactive table.\"\n",
              "            style=\"display:none;\">\n",
              "\n",
              "  <svg xmlns=\"http://www.w3.org/2000/svg\" height=\"24px\" viewBox=\"0 -960 960 960\">\n",
              "    <path d=\"M120-120v-720h720v720H120Zm60-500h600v-160H180v160Zm220 220h160v-160H400v160Zm0 220h160v-160H400v160ZM180-400h160v-160H180v160Zm440 0h160v-160H620v160ZM180-180h160v-160H180v160Zm440 0h160v-160H620v160Z\"/>\n",
              "  </svg>\n",
              "    </button>\n",
              "\n",
              "  <style>\n",
              "    .colab-df-container {\n",
              "      display:flex;\n",
              "      gap: 12px;\n",
              "    }\n",
              "\n",
              "    .colab-df-convert {\n",
              "      background-color: #E8F0FE;\n",
              "      border: none;\n",
              "      border-radius: 50%;\n",
              "      cursor: pointer;\n",
              "      display: none;\n",
              "      fill: #1967D2;\n",
              "      height: 32px;\n",
              "      padding: 0 0 0 0;\n",
              "      width: 32px;\n",
              "    }\n",
              "\n",
              "    .colab-df-convert:hover {\n",
              "      background-color: #E2EBFA;\n",
              "      box-shadow: 0px 1px 2px rgba(60, 64, 67, 0.3), 0px 1px 3px 1px rgba(60, 64, 67, 0.15);\n",
              "      fill: #174EA6;\n",
              "    }\n",
              "\n",
              "    .colab-df-buttons div {\n",
              "      margin-bottom: 4px;\n",
              "    }\n",
              "\n",
              "    [theme=dark] .colab-df-convert {\n",
              "      background-color: #3B4455;\n",
              "      fill: #D2E3FC;\n",
              "    }\n",
              "\n",
              "    [theme=dark] .colab-df-convert:hover {\n",
              "      background-color: #434B5C;\n",
              "      box-shadow: 0px 1px 3px 1px rgba(0, 0, 0, 0.15);\n",
              "      filter: drop-shadow(0px 1px 2px rgba(0, 0, 0, 0.3));\n",
              "      fill: #FFFFFF;\n",
              "    }\n",
              "  </style>\n",
              "\n",
              "    <script>\n",
              "      const buttonEl =\n",
              "        document.querySelector('#df-68c50d34-c520-44c9-9fce-0d076f295d43 button.colab-df-convert');\n",
              "      buttonEl.style.display =\n",
              "        google.colab.kernel.accessAllowed ? 'block' : 'none';\n",
              "\n",
              "      async function convertToInteractive(key) {\n",
              "        const element = document.querySelector('#df-68c50d34-c520-44c9-9fce-0d076f295d43');\n",
              "        const dataTable =\n",
              "          await google.colab.kernel.invokeFunction('convertToInteractive',\n",
              "                                                    [key], {});\n",
              "        if (!dataTable) return;\n",
              "\n",
              "        const docLinkHtml = 'Like what you see? Visit the ' +\n",
              "          '<a target=\"_blank\" href=https://colab.research.google.com/notebooks/data_table.ipynb>data table notebook</a>'\n",
              "          + ' to learn more about interactive tables.';\n",
              "        element.innerHTML = '';\n",
              "        dataTable['output_type'] = 'display_data';\n",
              "        await google.colab.output.renderOutput(dataTable, element);\n",
              "        const docLink = document.createElement('div');\n",
              "        docLink.innerHTML = docLinkHtml;\n",
              "        element.appendChild(docLink);\n",
              "      }\n",
              "    </script>\n",
              "  </div>\n",
              "\n",
              "\n",
              "<div id=\"df-9ca672c3-affe-469a-84ad-e614d9297ba9\">\n",
              "  <button class=\"colab-df-quickchart\" onclick=\"quickchart('df-9ca672c3-affe-469a-84ad-e614d9297ba9')\"\n",
              "            title=\"Suggest charts.\"\n",
              "            style=\"display:none;\">\n",
              "\n",
              "<svg xmlns=\"http://www.w3.org/2000/svg\" height=\"24px\"viewBox=\"0 0 24 24\"\n",
              "     width=\"24px\">\n",
              "    <g>\n",
              "        <path d=\"M19 3H5c-1.1 0-2 .9-2 2v14c0 1.1.9 2 2 2h14c1.1 0 2-.9 2-2V5c0-1.1-.9-2-2-2zM9 17H7v-7h2v7zm4 0h-2V7h2v10zm4 0h-2v-4h2v4z\"/>\n",
              "    </g>\n",
              "</svg>\n",
              "  </button>\n",
              "\n",
              "<style>\n",
              "  .colab-df-quickchart {\n",
              "      --bg-color: #E8F0FE;\n",
              "      --fill-color: #1967D2;\n",
              "      --hover-bg-color: #E2EBFA;\n",
              "      --hover-fill-color: #174EA6;\n",
              "      --disabled-fill-color: #AAA;\n",
              "      --disabled-bg-color: #DDD;\n",
              "  }\n",
              "\n",
              "  [theme=dark] .colab-df-quickchart {\n",
              "      --bg-color: #3B4455;\n",
              "      --fill-color: #D2E3FC;\n",
              "      --hover-bg-color: #434B5C;\n",
              "      --hover-fill-color: #FFFFFF;\n",
              "      --disabled-bg-color: #3B4455;\n",
              "      --disabled-fill-color: #666;\n",
              "  }\n",
              "\n",
              "  .colab-df-quickchart {\n",
              "    background-color: var(--bg-color);\n",
              "    border: none;\n",
              "    border-radius: 50%;\n",
              "    cursor: pointer;\n",
              "    display: none;\n",
              "    fill: var(--fill-color);\n",
              "    height: 32px;\n",
              "    padding: 0;\n",
              "    width: 32px;\n",
              "  }\n",
              "\n",
              "  .colab-df-quickchart:hover {\n",
              "    background-color: var(--hover-bg-color);\n",
              "    box-shadow: 0 1px 2px rgba(60, 64, 67, 0.3), 0 1px 3px 1px rgba(60, 64, 67, 0.15);\n",
              "    fill: var(--button-hover-fill-color);\n",
              "  }\n",
              "\n",
              "  .colab-df-quickchart-complete:disabled,\n",
              "  .colab-df-quickchart-complete:disabled:hover {\n",
              "    background-color: var(--disabled-bg-color);\n",
              "    fill: var(--disabled-fill-color);\n",
              "    box-shadow: none;\n",
              "  }\n",
              "\n",
              "  .colab-df-spinner {\n",
              "    border: 2px solid var(--fill-color);\n",
              "    border-color: transparent;\n",
              "    border-bottom-color: var(--fill-color);\n",
              "    animation:\n",
              "      spin 1s steps(1) infinite;\n",
              "  }\n",
              "\n",
              "  @keyframes spin {\n",
              "    0% {\n",
              "      border-color: transparent;\n",
              "      border-bottom-color: var(--fill-color);\n",
              "      border-left-color: var(--fill-color);\n",
              "    }\n",
              "    20% {\n",
              "      border-color: transparent;\n",
              "      border-left-color: var(--fill-color);\n",
              "      border-top-color: var(--fill-color);\n",
              "    }\n",
              "    30% {\n",
              "      border-color: transparent;\n",
              "      border-left-color: var(--fill-color);\n",
              "      border-top-color: var(--fill-color);\n",
              "      border-right-color: var(--fill-color);\n",
              "    }\n",
              "    40% {\n",
              "      border-color: transparent;\n",
              "      border-right-color: var(--fill-color);\n",
              "      border-top-color: var(--fill-color);\n",
              "    }\n",
              "    60% {\n",
              "      border-color: transparent;\n",
              "      border-right-color: var(--fill-color);\n",
              "    }\n",
              "    80% {\n",
              "      border-color: transparent;\n",
              "      border-right-color: var(--fill-color);\n",
              "      border-bottom-color: var(--fill-color);\n",
              "    }\n",
              "    90% {\n",
              "      border-color: transparent;\n",
              "      border-bottom-color: var(--fill-color);\n",
              "    }\n",
              "  }\n",
              "</style>\n",
              "\n",
              "  <script>\n",
              "    async function quickchart(key) {\n",
              "      const quickchartButtonEl =\n",
              "        document.querySelector('#' + key + ' button');\n",
              "      quickchartButtonEl.disabled = true;  // To prevent multiple clicks.\n",
              "      quickchartButtonEl.classList.add('colab-df-spinner');\n",
              "      try {\n",
              "        const charts = await google.colab.kernel.invokeFunction(\n",
              "            'suggestCharts', [key], {});\n",
              "      } catch (error) {\n",
              "        console.error('Error during call to suggestCharts:', error);\n",
              "      }\n",
              "      quickchartButtonEl.classList.remove('colab-df-spinner');\n",
              "      quickchartButtonEl.classList.add('colab-df-quickchart-complete');\n",
              "    }\n",
              "    (() => {\n",
              "      let quickchartButtonEl =\n",
              "        document.querySelector('#df-9ca672c3-affe-469a-84ad-e614d9297ba9 button');\n",
              "      quickchartButtonEl.style.display =\n",
              "        google.colab.kernel.accessAllowed ? 'block' : 'none';\n",
              "    })();\n",
              "  </script>\n",
              "</div>\n",
              "    </div>\n",
              "  </div>\n"
            ]
          },
          "metadata": {},
          "execution_count": 3
        }
      ]
    },
    {
      "cell_type": "code",
      "source": [
        "#sklearn의 train_test_split을 사용하면 라인 한줄로 손쉽게 데이터를 나눌 수 있다.\n",
        "from sklearn.model_selection import train_test_split\n",
        "\n",
        "#다듬어진 데이터에서 20%를 테스트 데이터로 분류합니다.\n",
        "train_6, test_6= train_test_split(df,test_size=0.2,random_state=99)  #traning:test=8:2\n",
        "\n",
        "print(train_6.shape,test_6.shape)"
      ],
      "metadata": {
        "colab": {
          "base_uri": "https://localhost:8080/"
        },
        "id": "873jEvs7Ip9c",
        "outputId": "3612d195-a94e-4885-d60e-70d674485ca7"
      },
      "execution_count": 4,
      "outputs": [
        {
          "output_type": "stream",
          "name": "stdout",
          "text": [
            "(80, 8) (20, 8)\n"
          ]
        }
      ]
    },
    {
      "cell_type": "code",
      "source": [
        "train_3 = pd.read_csv(\"https://raw.githubusercontent.com/wikibook/machine-learning/2.0/data/csv/basketball_train.csv\")\n",
        "test_3 = pd.read_csv(\"https://raw.githubusercontent.com/wikibook/machine-learning/2.0/data/csv/basketball_test.csv\")"
      ],
      "metadata": {
        "id": "grWCHj2NIrx-"
      },
      "execution_count": 5,
      "outputs": []
    },
    {
      "cell_type": "code",
      "source": [
        "x_train_3=train_3[['3P','TRB','BLK']] #학습할때 사용할 문제\n",
        "y_train_3=train_3[['Pos']]    #학습할때 사용할 답"
      ],
      "metadata": {
        "id": "PcCTOGXOIvvx"
      },
      "execution_count": 6,
      "outputs": []
    },
    {
      "cell_type": "markdown",
      "source": [
        "최적의 k 찾기 (교차 검증 - cross validation"
      ],
      "metadata": {
        "id": "hm81pQQ_I4hl"
      }
    },
    {
      "cell_type": "code",
      "source": [
        "# import kNN library\n",
        "from sklearn.neighbors import KNeighborsClassifier #KNN분류기 불러오기\n",
        "from sklearn.model_selection import cross_val_score #학습할때 교차검증 방법을 사용, 모의고사\n",
        "\n",
        "# find best k, range from 3 to half of the number of data\n",
        "max_k_range = train_6.shape[0] // 2  # -> 80/2\n",
        "k_list = []   # k_list를 빈공간으로 만든다.\n",
        "for i in range(3, max_k_range, 2):    #3부터 2씩증가 (홀수만)\n",
        "    k_list.append(i)        # 최적의 k의 후보군 (KNN사용시 하이퍼 파라미터)\n",
        "\n",
        "cross_validation_scores = []\n",
        "x_train = train_6[['3P', 'BLK' , 'TRB']]\n",
        "y_train = train_6[['Pos']]\n",
        "\n",
        "# 10-fold cross validation\n",
        "for k in k_list:\n",
        "    knn = KNeighborsClassifier(n_neighbors=k)\n",
        "    scores = cross_val_score(knn, x_train, y_train.values.ravel(),\n",
        "                             cv=10, scoring='accuracy')\n",
        "    cross_validation_scores.append(scores.mean())\n",
        "\n",
        "cross_validation_scores"
      ],
      "metadata": {
        "colab": {
          "base_uri": "https://localhost:8080/"
        },
        "id": "QhdF41SIIymm",
        "outputId": "90b19ccd-625d-4fe8-a742-cff497166cc9"
      },
      "execution_count": 7,
      "outputs": [
        {
          "output_type": "execute_result",
          "data": {
            "text/plain": [
              "[0.95,\n",
              " 0.925,\n",
              " 0.925,\n",
              " 0.9125,\n",
              " 0.9125,\n",
              " 0.925,\n",
              " 0.9125,\n",
              " 0.8875,\n",
              " 0.8875,\n",
              " 0.8875,\n",
              " 0.875,\n",
              " 0.8625,\n",
              " 0.85,\n",
              " 0.8375,\n",
              " 0.8375,\n",
              " 0.8375,\n",
              " 0.8375,\n",
              " 0.8125,\n",
              " 0.8]"
            ]
          },
          "metadata": {},
          "execution_count": 7
        }
      ]
    },
    {
      "cell_type": "code",
      "source": [
        "k_list"
      ],
      "metadata": {
        "colab": {
          "base_uri": "https://localhost:8080/"
        },
        "id": "nwcN8tZ3I3-4",
        "outputId": "9ae3a530-d730-4f50-95ff-cf5efdfc1836"
      },
      "execution_count": 8,
      "outputs": [
        {
          "output_type": "execute_result",
          "data": {
            "text/plain": [
              "[3, 5, 7, 9, 11, 13, 15, 17, 19, 21, 23, 25, 27, 29, 31, 33, 35, 37, 39]"
            ]
          },
          "metadata": {},
          "execution_count": 8
        }
      ]
    },
    {
      "cell_type": "markdown",
      "source": [
        "지도학습에서는 문제X와 답Y를 정확하게 구분해야 한다."
      ],
      "metadata": {
        "id": "ms6h0PDrJBOc"
      }
    },
    {
      "cell_type": "code",
      "source": [
        "# 3개 짜리\n",
        "x_train=train_6[['3P','BLK','TRB']] #학습할때 사용할 문제(x)\n",
        "y_train=train_6[['Pos']]    #학습할때 사용할 답(y)"
      ],
      "metadata": {
        "id": "MBMlcbIwI-d5"
      },
      "execution_count": 9,
      "outputs": []
    },
    {
      "cell_type": "code",
      "source": [
        "y_train.values   #답안지를 사용할 때는 데이터 프레임안에 있는 내용만 불러온다,"
      ],
      "metadata": {
        "colab": {
          "base_uri": "https://localhost:8080/"
        },
        "id": "XvaMZkOzJD_d",
        "outputId": "33d53803-d64e-4a76-b80d-ba5c440458c5"
      },
      "execution_count": 10,
      "outputs": [
        {
          "output_type": "execute_result",
          "data": {
            "text/plain": [
              "array([['SG'],\n",
              "       ['SG'],\n",
              "       ['SG'],\n",
              "       ['C'],\n",
              "       ['C'],\n",
              "       ['C'],\n",
              "       ['C'],\n",
              "       ['C'],\n",
              "       ['SG'],\n",
              "       ['SG'],\n",
              "       ['SG'],\n",
              "       ['SG'],\n",
              "       ['C'],\n",
              "       ['SG'],\n",
              "       ['C'],\n",
              "       ['SG'],\n",
              "       ['SG'],\n",
              "       ['SG'],\n",
              "       ['SG'],\n",
              "       ['C'],\n",
              "       ['SG'],\n",
              "       ['C'],\n",
              "       ['SG'],\n",
              "       ['C'],\n",
              "       ['SG'],\n",
              "       ['C'],\n",
              "       ['SG'],\n",
              "       ['C'],\n",
              "       ['C'],\n",
              "       ['C'],\n",
              "       ['SG'],\n",
              "       ['C'],\n",
              "       ['C'],\n",
              "       ['C'],\n",
              "       ['SG'],\n",
              "       ['C'],\n",
              "       ['C'],\n",
              "       ['C'],\n",
              "       ['C'],\n",
              "       ['C'],\n",
              "       ['SG'],\n",
              "       ['SG'],\n",
              "       ['SG'],\n",
              "       ['C'],\n",
              "       ['C'],\n",
              "       ['SG'],\n",
              "       ['SG'],\n",
              "       ['SG'],\n",
              "       ['SG'],\n",
              "       ['SG'],\n",
              "       ['SG'],\n",
              "       ['SG'],\n",
              "       ['C'],\n",
              "       ['C'],\n",
              "       ['C'],\n",
              "       ['SG'],\n",
              "       ['SG'],\n",
              "       ['SG'],\n",
              "       ['SG'],\n",
              "       ['SG'],\n",
              "       ['SG'],\n",
              "       ['SG'],\n",
              "       ['SG'],\n",
              "       ['C'],\n",
              "       ['SG'],\n",
              "       ['C'],\n",
              "       ['SG'],\n",
              "       ['SG'],\n",
              "       ['C'],\n",
              "       ['C'],\n",
              "       ['SG'],\n",
              "       ['C'],\n",
              "       ['C'],\n",
              "       ['SG'],\n",
              "       ['SG'],\n",
              "       ['SG'],\n",
              "       ['C'],\n",
              "       ['C'],\n",
              "       ['C'],\n",
              "       ['C']], dtype=object)"
            ]
          },
          "metadata": {},
          "execution_count": 10
        }
      ]
    },
    {
      "cell_type": "code",
      "source": [
        "y_train.values.shape   #2차원으로 보임"
      ],
      "metadata": {
        "colab": {
          "base_uri": "https://localhost:8080/"
        },
        "id": "9kNqaD0QJGoK",
        "outputId": "f85b13d0-0d21-45f1-e7ff-6a8085ebba38"
      },
      "execution_count": 11,
      "outputs": [
        {
          "output_type": "execute_result",
          "data": {
            "text/plain": [
              "(80, 1)"
            ]
          },
          "metadata": {},
          "execution_count": 11
        }
      ]
    },
    {
      "cell_type": "code",
      "source": [
        "cross_validation_scores=[]   #cross_validation_scores를 리스트로 담아둔다.\n",
        "#10-fold cross validation\n",
        "for k in k_list: #3,5,7,9,...\n",
        "   knn=KNeighborsClassifier(n_neighbors=k)  #KNN 방법의 핵심 파라미터는 k, 파라미터를 변화해가면서 돌린다.\n",
        "   scores=cross_val_score(knn,x_train,y_train.values.ravel(),\n",
        "                          cv=10,scoring='accuracy')  #cv:몇번 나눠서 시험을 볼건지\n",
        "   print(scores)      # k=3일때,10번의 점수\n",
        "                      # k=5일때, 10번의 점수"
      ],
      "metadata": {
        "colab": {
          "base_uri": "https://localhost:8080/"
        },
        "id": "xrU5Xmf5JJT9",
        "outputId": "d76d7db3-1339-4ed4-8a8c-9ee38b76b13e"
      },
      "execution_count": 12,
      "outputs": [
        {
          "output_type": "stream",
          "name": "stdout",
          "text": [
            "[0.875 1.    1.    0.875 0.875 1.    1.    1.    1.    0.875]\n",
            "[0.875 0.875 1.    0.875 0.75  1.    1.    0.875 1.    1.   ]\n",
            "[0.875 0.875 1.    0.875 0.75  1.    1.    0.875 1.    1.   ]\n",
            "[0.875 0.75  1.    0.875 0.75  1.    1.    0.875 1.    1.   ]\n",
            "[0.875 0.75  1.    0.875 0.75  1.    1.    0.875 1.    1.   ]\n",
            "[0.875 0.75  1.    1.    0.75  1.    1.    0.875 1.    1.   ]\n",
            "[0.875 0.75  1.    0.875 0.75  1.    1.    0.875 1.    1.   ]\n",
            "[0.875 0.75  0.875 0.875 0.75  0.875 1.    0.875 1.    1.   ]\n",
            "[0.875 0.75  0.875 0.875 0.75  0.875 1.    0.875 1.    1.   ]\n",
            "[0.875 0.75  0.875 0.875 0.75  0.875 1.    0.875 1.    1.   ]\n",
            "[0.875 0.75  0.875 0.875 0.75  0.875 1.    0.875 1.    0.875]\n",
            "[0.875 0.625 0.875 0.875 0.75  0.75  1.    1.    1.    0.875]\n",
            "[0.875 0.625 0.875 0.875 0.75  0.75  1.    1.    0.875 0.875]\n",
            "[0.875 0.625 0.875 0.875 0.75  0.75  1.    0.875 0.875 0.875]\n",
            "[0.875 0.625 0.875 0.875 0.75  0.75  1.    0.875 0.875 0.875]\n",
            "[0.875 0.625 0.875 0.875 0.75  0.75  1.    0.875 0.875 0.875]\n",
            "[0.875 0.625 0.75  1.    0.75  0.75  1.    0.875 0.875 0.875]\n",
            "[0.875 0.625 0.75  0.875 0.75  0.75  0.875 0.875 0.875 0.875]\n",
            "[0.875 0.625 0.75  0.75  0.75  0.75  0.875 0.875 0.875 0.875]\n"
          ]
        }
      ]
    },
    {
      "cell_type": "markdown",
      "source": [
        "평균값 구하는 것은: .mean"
      ],
      "metadata": {
        "id": "0tbt7BTaJPz9"
      }
    },
    {
      "cell_type": "code",
      "source": [
        "cross_validation_scores=[]\n",
        "#10-fold cross validation\n",
        "for k in k_list: #3,5,7,9,...\n",
        "   knn=KNeighborsClassifier(n_neighbors=k)  #KNN 방법의 핵심 파라미터는 k, 파라미터를 변화해가면서 돌린다.\n",
        "   scores=cross_val_score(knn,x_train,y_train.values.ravel(),cv=10,scoring='accuracy')  #cv:몇번 나눠서 시험을 볼건지\n",
        "   print(scores.mean())   #평균값: score 뒤에 .maean()를 붙인다\n",
        "                          # k가 3일때 평균값\n",
        "                          # k가 5일때 평균값"
      ],
      "metadata": {
        "colab": {
          "base_uri": "https://localhost:8080/"
        },
        "id": "12aVG90NJLkT",
        "outputId": "7bbf48e5-8886-4544-bb39-d60139aded4c"
      },
      "execution_count": 13,
      "outputs": [
        {
          "output_type": "stream",
          "name": "stdout",
          "text": [
            "0.95\n",
            "0.925\n",
            "0.925\n",
            "0.9125\n",
            "0.9125\n",
            "0.925\n",
            "0.9125\n",
            "0.8875\n",
            "0.8875\n",
            "0.8875\n",
            "0.875\n",
            "0.8625\n",
            "0.85\n",
            "0.8375\n",
            "0.8375\n",
            "0.8375\n",
            "0.8375\n",
            "0.8125\n",
            "0.8\n"
          ]
        }
      ]
    },
    {
      "cell_type": "code",
      "source": [
        "cross_validation_scores=[]\n",
        "#10-fold cross validation\n",
        "for k in k_list: #3,5,7,9,...\n",
        "   knn=KNeighborsClassifier(n_neighbors=k)  #KNN 방법의 핵심 파라미터는 k, 파라미터를 변화해가면서 돌린다.\n",
        "   scores=cross_val_score(knn,x_train,y_train.values.ravel(),cv=10,scoring='accuracy')  #cv:몇번 나눠서 시험을 볼건지\n",
        "   cross_validation_scores.append(scores.mean()) #평균값: score 뒤에 .maean()를 붙인다\n",
        "                                                 #append: scores.mean()의 값을 cross_validation_scores=[]의 빈 리스트에 담는다."
      ],
      "metadata": {
        "id": "cdwC3gAEJR7B"
      },
      "execution_count": 14,
      "outputs": []
    },
    {
      "cell_type": "markdown",
      "source": [
        "적절한 k를 찾는것"
      ],
      "metadata": {
        "id": "G7zPYVwiJZ3V"
      }
    },
    {
      "cell_type": "code",
      "source": [
        "# visualize accuracy according to k\n",
        "plt.plot(k_list, cross_validation_scores)\n",
        "plt.xlabel('the number of k')\n",
        "plt.ylabel('Accuracy')\n",
        "plt.show()"
      ],
      "metadata": {
        "colab": {
          "base_uri": "https://localhost:8080/",
          "height": 449
        },
        "id": "081chNclJWLn",
        "outputId": "1d8a3b30-44f1-42c9-f759-4e23e1b32ff5"
      },
      "execution_count": 15,
      "outputs": [
        {
          "output_type": "display_data",
          "data": {
            "text/plain": [
              "<Figure size 640x480 with 1 Axes>"
            ],
            "image/png": "[encoded data removed]"
          },
          "metadata": {}
        }
      ]
    }
  ]
}