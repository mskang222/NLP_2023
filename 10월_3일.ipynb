{
  "nbformat": 4,
  "nbformat_minor": 0,
  "metadata": {
    "colab": {
      "provenance": [],
      "authorship_tag": "ABX9TyPHsS+fLTlumrKQ1w5jcUrY",
      "include_colab_link": true
    },
    "kernelspec": {
      "name": "python3",
      "display_name": "Python 3"
    },
    "language_info": {
      "name": "python"
    }
  },
  "cells": [
    {
      "cell_type": "markdown",
      "metadata": {
        "id": "view-in-github",
        "colab_type": "text"
      },
      "source": [
        "<a href=\"https://colab.research.google.com/github/mskang222/NLP_2023/blob/main/10%EC%9B%94_3%EC%9D%BC.ipynb\" target=\"_parent\"><img src=\"https://colab.research.google.com/assets/colab-badge.svg\" alt=\"Open In Colab\"/></a>"
      ]
    },
    {
      "cell_type": "markdown",
      "source": [
        "리스트에 포함된 요소 x의 개수 세기 - count"
      ],
      "metadata": {
        "id": "e7Q-T1re4akE"
      }
    },
    {
      "cell_type": "code",
      "execution_count": 1,
      "metadata": {
        "colab": {
          "base_uri": "https://localhost:8080/"
        },
        "id": "nztpUqJj4Wot",
        "outputId": "d0000d9f-a057-471e-aa2f-f5122b825dcb"
      },
      "outputs": [
        {
          "output_type": "execute_result",
          "data": {
            "text/plain": [
              "2"
            ]
          },
          "metadata": {},
          "execution_count": 1
        }
      ],
      "source": [
        "a = [1, 2, 3, 1]  #count(x)는 리스트 안에 x가 몇 개 있는지 조사하여 그 개수를 리턴하는 함수\n",
        "a.count(1)"
      ]
    },
    {
      "cell_type": "markdown",
      "source": [
        "리스트 확장 - extend"
      ],
      "metadata": {
        "id": "yAFWSh6C4jED"
      }
    },
    {
      "cell_type": "code",
      "source": [
        "a = [1, 2, 3]    #extend(x)에서 x에는 리스트만 올 수 있으며 원래의 a 리스트에 x 리스트를 더하게 된다.\n",
        "a.extend([4, 5])\n",
        "a"
      ],
      "metadata": {
        "colab": {
          "base_uri": "https://localhost:8080/"
        },
        "id": "LN9xfokr4hRz",
        "outputId": "f5e598da-9e34-44e4-dbc8-d01e795897c5"
      },
      "execution_count": 2,
      "outputs": [
        {
          "output_type": "execute_result",
          "data": {
            "text/plain": [
              "[1, 2, 3, 4, 5]"
            ]
          },
          "metadata": {},
          "execution_count": 2
        }
      ]
    },
    {
      "cell_type": "code",
      "source": [
        "b = [6, 7]\n",
        "a.extend(b)\n",
        "a"
      ],
      "metadata": {
        "colab": {
          "base_uri": "https://localhost:8080/"
        },
        "id": "ZFrEll1m4nXM",
        "outputId": "f33e3830-c50e-4807-c823-b92c1c27051f"
      },
      "execution_count": 3,
      "outputs": [
        {
          "output_type": "execute_result",
          "data": {
            "text/plain": [
              "[1, 2, 3, 4, 5, 6, 7]"
            ]
          },
          "metadata": {},
          "execution_count": 3
        }
      ]
    },
    {
      "cell_type": "markdown",
      "source": [
        "#튜플 자료형"
      ],
      "metadata": {
        "id": "b5P2cA9l4z--"
      }
    },
    {
      "cell_type": "markdown",
      "source": [
        "튜플의 형태   \n",
        "t1 = ()     \n",
        "t2 = (1,)    \n",
        "t3 = (1, 2, 3)    \n",
        "t4 = 1, 2, 3     \n",
        "t5 = ('a', 'b', ('ab', 'cd'))"
      ],
      "metadata": {
        "id": "p-q06IbF476F"
      }
    },
    {
      "cell_type": "markdown",
      "source": [
        "#인덱싱하기"
      ],
      "metadata": {
        "id": "FNa5Gbm75Icr"
      }
    },
    {
      "cell_type": "code",
      "source": [
        "t1 = (1, 2, 'a', 'b')\n",
        "t1[0]"
      ],
      "metadata": {
        "colab": {
          "base_uri": "https://localhost:8080/"
        },
        "id": "obEE_RTY4qAJ",
        "outputId": "27d1ce28-120e-4065-f422-05a3e789f38c"
      },
      "execution_count": 4,
      "outputs": [
        {
          "output_type": "execute_result",
          "data": {
            "text/plain": [
              "1"
            ]
          },
          "metadata": {},
          "execution_count": 4
        }
      ]
    },
    {
      "cell_type": "code",
      "source": [
        "t1[3]"
      ],
      "metadata": {
        "colab": {
          "base_uri": "https://localhost:8080/",
          "height": 35
        },
        "id": "c95rPI_T5NVE",
        "outputId": "8c0bbad5-d3e7-480f-a652-595c00673fc1"
      },
      "execution_count": 5,
      "outputs": [
        {
          "output_type": "execute_result",
          "data": {
            "text/plain": [
              "'b'"
            ],
            "application/vnd.google.colaboratory.intrinsic+json": {
              "type": "string"
            }
          },
          "metadata": {},
          "execution_count": 5
        }
      ]
    },
    {
      "cell_type": "markdown",
      "source": [
        "튜플 더하기"
      ],
      "metadata": {
        "id": "ny6GvH-95Sc7"
      }
    },
    {
      "cell_type": "code",
      "source": [
        "t1 = (1, 2, 'a', 'b')\n",
        "t2 = (3, 4)\n",
        "t3 = t1 + t2\n",
        "t3"
      ],
      "metadata": {
        "colab": {
          "base_uri": "https://localhost:8080/"
        },
        "id": "vUUi1uBa5PTM",
        "outputId": "1beab759-e54f-4d32-83c6-94c71f2cb28a"
      },
      "execution_count": 6,
      "outputs": [
        {
          "output_type": "execute_result",
          "data": {
            "text/plain": [
              "(1, 2, 'a', 'b', 3, 4)"
            ]
          },
          "metadata": {},
          "execution_count": 6
        }
      ]
    }
  ]
}