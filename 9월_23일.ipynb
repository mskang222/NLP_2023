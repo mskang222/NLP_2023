{
  "nbformat": 4,
  "nbformat_minor": 0,
  "metadata": {
    "colab": {
      "provenance": [],
      "authorship_tag": "ABX9TyOEPmDQjZ/n5WklVqfmlCZe",
      "include_colab_link": true
    },
    "kernelspec": {
      "name": "python3",
      "display_name": "Python 3"
    },
    "language_info": {
      "name": "python"
    }
  },
  "cells": [
    {
      "cell_type": "markdown",
      "metadata": {
        "id": "view-in-github",
        "colab_type": "text"
      },
      "source": [
        "<a href=\"https://colab.research.google.com/github/mskang222/NLP_2023/blob/main/9%EC%9B%94_23%EC%9D%BC.ipynb\" target=\"_parent\"><img src=\"https://colab.research.google.com/assets/colab-badge.svg\" alt=\"Open In Colab\"/></a>"
      ]
    },
    {
      "cell_type": "markdown",
      "source": [
        "문자열 삽입 - join"
      ],
      "metadata": {
        "id": "RTCowCP6JKKO"
      }
    },
    {
      "cell_type": "code",
      "execution_count": null,
      "metadata": {
        "colab": {
          "base_uri": "https://localhost:8080/",
          "height": 35
        },
        "id": "fxTt2df-I_S5",
        "outputId": "07617234-9c9e-4612-96ec-da6ff8b88778"
      },
      "outputs": [
        {
          "output_type": "execute_result",
          "data": {
            "text/plain": [
              "'a,b,c,d'"
            ],
            "application/vnd.google.colaboratory.intrinsic+json": {
              "type": "string"
            }
          },
          "metadata": {},
          "execution_count": 1
        }
      ],
      "source": [
        "\",\".join('abcd')"
      ]
    },
    {
      "cell_type": "code",
      "source": [
        "\",\".join(['a', 'b', 'c', 'd'])"
      ],
      "metadata": {
        "colab": {
          "base_uri": "https://localhost:8080/",
          "height": 35
        },
        "id": "XB9nXUejJO1X",
        "outputId": "b45651ca-5307-466b-8d4a-f8afa8a9202f"
      },
      "execution_count": null,
      "outputs": [
        {
          "output_type": "execute_result",
          "data": {
            "text/plain": [
              "'a,b,c,d'"
            ],
            "application/vnd.google.colaboratory.intrinsic+json": {
              "type": "string"
            }
          },
          "metadata": {},
          "execution_count": 2
        }
      ]
    },
    {
      "cell_type": "markdown",
      "source": [
        "왼쪽 공백 지우기 - lstrip"
      ],
      "metadata": {
        "id": "ePXnegeBJeIU"
      }
    },
    {
      "cell_type": "code",
      "source": [
        "a = \" hi \"\n",
        "a.lstrip()"
      ],
      "metadata": {
        "colab": {
          "base_uri": "https://localhost:8080/",
          "height": 35
        },
        "id": "1jd7s1vJJiH9",
        "outputId": "ed598b6c-db10-4299-915d-96817e1ed0c5"
      },
      "execution_count": null,
      "outputs": [
        {
          "output_type": "execute_result",
          "data": {
            "text/plain": [
              "'hi '"
            ],
            "application/vnd.google.colaboratory.intrinsic+json": {
              "type": "string"
            }
          },
          "metadata": {},
          "execution_count": 3
        }
      ]
    },
    {
      "cell_type": "markdown",
      "source": [
        "오른쪽 공백 지우기 - rstrip"
      ],
      "metadata": {
        "id": "8_BgQSeiJs_O"
      }
    },
    {
      "cell_type": "code",
      "source": [
        "a= \" hi \"\n",
        "a.rstrip()"
      ],
      "metadata": {
        "colab": {
          "base_uri": "https://localhost:8080/",
          "height": 35
        },
        "id": "8DN1grZsJn9D",
        "outputId": "1dde6f5e-2cce-45db-9116-d157b6c24aae"
      },
      "execution_count": null,
      "outputs": [
        {
          "output_type": "execute_result",
          "data": {
            "text/plain": [
              "' hi'"
            ],
            "application/vnd.google.colaboratory.intrinsic+json": {
              "type": "string"
            }
          },
          "metadata": {},
          "execution_count": 6
        }
      ]
    },
    {
      "cell_type": "markdown",
      "source": [
        "양쪽 공백 지우기 - strip"
      ],
      "metadata": {
        "id": "ApQxIaWMKDmK"
      }
    },
    {
      "cell_type": "code",
      "source": [
        "a = \" hi \"  #strip 함수는 문자열 양쪽에 있는 한 칸 이상의 연속된 공백을 모두 지운다.\n",
        "a.strip()"
      ],
      "metadata": {
        "colab": {
          "base_uri": "https://localhost:8080/",
          "height": 35
        },
        "id": "3UCFdS17JxLj",
        "outputId": "c06ab70f-0bed-4893-f425-cae269697796"
      },
      "execution_count": null,
      "outputs": [
        {
          "output_type": "execute_result",
          "data": {
            "text/plain": [
              "'hi'"
            ],
            "application/vnd.google.colaboratory.intrinsic+json": {
              "type": "string"
            }
          },
          "metadata": {},
          "execution_count": 7
        }
      ]
    },
    {
      "cell_type": "markdown",
      "source": [
        "문자열 바꾸기 - replace"
      ],
      "metadata": {
        "id": "VUXPUeePKTB-"
      }
    },
    {
      "cell_type": "code",
      "source": [
        "a = \"Life is too short\"    #replace(바뀔_문자열, 바꿀_문자열)처럼 사용해서 문자열 안의 특정한 값을 다른 값으로 치환\n",
        "a.replace(\"Life\", \"Your leg\")"
      ],
      "metadata": {
        "id": "OKA4KOblKH7t",
        "outputId": "ccdb5fbc-c902-451e-c050-b67962c46b90",
        "colab": {
          "base_uri": "https://localhost:8080/",
          "height": 35
        }
      },
      "execution_count": 1,
      "outputs": [
        {
          "output_type": "execute_result",
          "data": {
            "text/plain": [
              "'Your leg is too short'"
            ],
            "application/vnd.google.colaboratory.intrinsic+json": {
              "type": "string"
            }
          },
          "metadata": {},
          "execution_count": 1
        }
      ]
    }
  ]
}