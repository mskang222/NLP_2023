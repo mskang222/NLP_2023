{
  "nbformat": 4,
  "nbformat_minor": 0,
  "metadata": {
    "colab": {
      "provenance": [],
      "authorship_tag": "ABX9TyP+F4c9+Q4gmHmIYa8kku9e",
      "include_colab_link": true
    },
    "kernelspec": {
      "name": "python3",
      "display_name": "Python 3"
    },
    "language_info": {
      "name": "python"
    }
  },
  "cells": [
    {
      "cell_type": "markdown",
      "metadata": {
        "id": "view-in-github",
        "colab_type": "text"
      },
      "source": [
        "<a href=\"https://colab.research.google.com/github/mskang222/NLP_2023/blob/main/12%EC%9B%94_1%EC%9D%BC.ipynb\" target=\"_parent\"><img src=\"https://colab.research.google.com/assets/colab-badge.svg\" alt=\"Open In Colab\"/></a>"
      ]
    },
    {
      "cell_type": "markdown",
      "source": [
        "보팅_앙상블_손글씨 분류"
      ],
      "metadata": {
        "id": "SAUsKZOIiUMH"
      }
    },
    {
      "cell_type": "code",
      "execution_count": 1,
      "metadata": {
        "id": "WqqFHJJKiA_f"
      },
      "outputs": [],
      "source": [
        "from sklearn import datasets\n",
        "from sklearn import tree\n",
        "from sklearn.neighbors import KNeighborsClassifier\n",
        "from sklearn.svm import SVC\n",
        "from sklearn.ensemble import VotingClassifier\n",
        "from sklearn.model_selection import train_test_split\n",
        "from sklearn.metrics import accuracy_score"
      ]
    },
    {
      "cell_type": "code",
      "source": [
        "import numpy as np\n",
        "np.random.seed(5)"
      ],
      "metadata": {
        "id": "DFmtoORpibbQ"
      },
      "execution_count": 2,
      "outputs": []
    },
    {
      "cell_type": "code",
      "source": [
        "#손글씨 데이터 로드\n",
        "mnist = datasets.load_digits()\n",
        "features, labels = mnist.data, mnist.target\n",
        "X_train,X_test,y_train,y_test=train_test_split(features,labels,test_size=0.2)"
      ],
      "metadata": {
        "id": "vTEPsf9oieDz"
      },
      "execution_count": 3,
      "outputs": []
    },
    {
      "cell_type": "code",
      "source": [
        "X_train.shape"
      ],
      "metadata": {
        "colab": {
          "base_uri": "https://localhost:8080/"
        },
        "id": "PAGPdSXYinWX",
        "outputId": "aa0254e9-2548-4b72-b16b-f074fff8bed0"
      },
      "execution_count": 4,
      "outputs": [
        {
          "output_type": "execute_result",
          "data": {
            "text/plain": [
              "(1437, 64)"
            ]
          },
          "metadata": {},
          "execution_count": 4
        }
      ]
    },
    {
      "cell_type": "code",
      "source": [
        "import matplotlib.pyplot as plt"
      ],
      "metadata": {
        "id": "A6Bc52ebipVr"
      },
      "execution_count": 5,
      "outputs": []
    },
    {
      "cell_type": "code",
      "source": [
        "plt.imshow(X_train[0].reshape(8,8),cmap='gray')\n",
        "plt.title(y_train[0])"
      ],
      "metadata": {
        "colab": {
          "base_uri": "https://localhost:8080/",
          "height": 470
        },
        "id": "6o6yVVJpirrY",
        "outputId": "c4d72cb1-40ad-4f6c-9d0e-c445188e0a70"
      },
      "execution_count": 6,
      "outputs": [
        {
          "output_type": "execute_result",
          "data": {
            "text/plain": [
              "Text(0.5, 1.0, '9')"
            ]
          },
          "metadata": {},
          "execution_count": 6
        },
        {
          "output_type": "display_data",
          "data": {
            "text/plain": [
              "<Figure size 640x480 with 1 Axes>"
            ],
            "image/png": "[encoded data removed]"
          },
          "metadata": {}
        }
      ]
    },
    {
      "cell_type": "code",
      "source": [
        "X_test.shape"
      ],
      "metadata": {
        "colab": {
          "base_uri": "https://localhost:8080/"
        },
        "id": "PJmoZj2eiu6C",
        "outputId": "62a7eeb0-368d-46e4-9299-1ecd8c445ce3"
      },
      "execution_count": 7,
      "outputs": [
        {
          "output_type": "execute_result",
          "data": {
            "text/plain": [
              "(360, 64)"
            ]
          },
          "metadata": {},
          "execution_count": 7
        }
      ]
    },
    {
      "cell_type": "markdown",
      "source": [
        "단일 모델 정확도 측정  \n",
        "의사결정트리, knn, svm 모델의 정확도를 측정"
      ],
      "metadata": {
        "id": "miZVni_Ei12X"
      }
    },
    {
      "cell_type": "code",
      "source": [
        "dtree = tree.DecisionTreeClassifier(\n",
        "    criterion=\"gini\", max_depth=8, max_features=32,random_state=35)\n",
        "\n",
        "dtree = dtree.fit(X_train, y_train)\n",
        "dtree_predicted = dtree.predict(X_test)\n",
        "\n",
        "knn = KNeighborsClassifier(n_neighbors=299).fit(X_train, y_train)\n",
        "knn_predicted = knn.predict(X_test)\n",
        "\n",
        "svm = SVC(C=0.1, gamma=0.003,\n",
        "          probability=True,random_state=35).fit(X_train, y_train)\n",
        "svm_predicted = svm.predict(X_test)"
      ],
      "metadata": {
        "id": "K8GYf1Qeiyrz"
      },
      "execution_count": 8,
      "outputs": []
    },
    {
      "cell_type": "code",
      "source": [
        "dtree_predicted.shape   #test가 360이기 때문에 predict도 360개이다."
      ],
      "metadata": {
        "colab": {
          "base_uri": "https://localhost:8080/"
        },
        "id": "E2RZW5hKi7Gb",
        "outputId": "544a4fd1-8b2e-4c83-d2cd-58e2163da1f7"
      },
      "execution_count": 9,
      "outputs": [
        {
          "output_type": "execute_result",
          "data": {
            "text/plain": [
              "(360,)"
            ]
          },
          "metadata": {},
          "execution_count": 9
        }
      ]
    },
    {
      "cell_type": "code",
      "source": [
        "print(\"[accuarcy]\")\n",
        "print(\"d-tree: \",accuracy_score(y_test, dtree_predicted))\n",
        "print(\"knn   : \",accuracy_score(y_test, knn_predicted))\n",
        "print(\"svm   : \",accuracy_score(y_test, svm_predicted))"
      ],
      "metadata": {
        "colab": {
          "base_uri": "https://localhost:8080/"
        },
        "id": "1TLzjk-Ai-xB",
        "outputId": "d0581945-6ed6-4f4a-c5cf-136cc8b00a01"
      },
      "execution_count": 10,
      "outputs": [
        {
          "output_type": "stream",
          "name": "stdout",
          "text": [
            "[accuarcy]\n",
            "d-tree:  0.8277777777777777\n",
            "knn   :  0.8944444444444445\n",
            "svm   :  0.8916666666666667\n"
          ]
        }
      ]
    },
    {
      "cell_type": "code",
      "source": [
        "svm_proba = svm.predict_proba(X_test)\n",
        "print(svm_proba[0:2])"
      ],
      "metadata": {
        "colab": {
          "base_uri": "https://localhost:8080/"
        },
        "id": "1n8tjC6njA_4",
        "outputId": "3b2fb027-b731-4273-e142-9b80c0a0c4ec"
      },
      "execution_count": 11,
      "outputs": [
        {
          "output_type": "stream",
          "name": "stdout",
          "text": [
            "[[0.00129293 0.00434548 0.00446459 0.00248053 0.00336731 0.93848315\n",
            "  0.00127073 0.00448341 0.02477231 0.01503956]\n",
            " [0.00189233 0.00631647 0.92958418 0.00345522 0.0030971  0.00828454\n",
            "  0.00186869 0.0048112  0.03092707 0.0097632 ]]\n"
          ]
        }
      ]
    },
    {
      "cell_type": "markdown",
      "source": [
        "하드 보팅:\n",
        "하드 보팅은 일반적인 투표와 같이, 각각의 분류기의 예측값들을 모아, 가장 많은 득표를 받은 예측값으로 최종 결론을 내는 방식\n",
        "\n"
      ],
      "metadata": {
        "id": "ZiYgtpCjjNwr"
      }
    },
    {
      "cell_type": "code",
      "source": [
        "voting_clf = VotingClassifier(estimators=[\n",
        "    ('decision_tree', dtree), ('knn', knn), ('svm', svm)],\n",
        "    weights=[1,2,3], voting='hard').fit(X_train, y_train)\n",
        "hard_voting_predicted = voting_clf.predict(X_test)\n",
        "accuracy_score(y_test, hard_voting_predicted)"
      ],
      "metadata": {
        "colab": {
          "base_uri": "https://localhost:8080/"
        },
        "id": "9_rRfLBTjE6q",
        "outputId": "aedb152c-0707-492a-85b8-fd2e6ed350e8"
      },
      "execution_count": 12,
      "outputs": [
        {
          "output_type": "execute_result",
          "data": {
            "text/plain": [
              "0.925"
            ]
          },
          "metadata": {},
          "execution_count": 12
        }
      ]
    },
    {
      "cell_type": "markdown",
      "source": [
        "소프트 보팅:\n",
        "소프트 보팅은 각각의 분류모델의 predict_proba을 활용하여, 모든 분류값들의 확률들을 더해서,\n",
        "가장 높은 점수를 획득한 분류값으로 최종 결론을 내는 방식"
      ],
      "metadata": {
        "id": "eKVWDg5njXKy"
      }
    },
    {
      "cell_type": "code",
      "source": [
        "voting_clf = VotingClassifier(estimators=[\n",
        "    ('decision_tree', dtree), ('knn', knn), ('svm', svm)],\n",
        "    weights=[1,3,2], voting='soft').fit(X_train, y_train)\n",
        "soft_voting_predicted = voting_clf.predict(X_test)\n",
        "accuracy_score(y_test, soft_voting_predicted)"
      ],
      "metadata": {
        "colab": {
          "base_uri": "https://localhost:8080/"
        },
        "id": "9h9jmGkmjTNF",
        "outputId": "cf7f95fb-2fc1-427b-b565-545ba6b52060"
      },
      "execution_count": 13,
      "outputs": [
        {
          "output_type": "execute_result",
          "data": {
            "text/plain": [
              "0.9388888888888889"
            ]
          },
          "metadata": {},
          "execution_count": 13
        }
      ]
    }
  ]
}