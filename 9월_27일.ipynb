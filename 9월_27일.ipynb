{
  "nbformat": 4,
  "nbformat_minor": 0,
  "metadata": {
    "colab": {
      "provenance": [],
      "authorship_tag": "ABX9TyN/U4Y4zml2vTlux+lafrjl",
      "include_colab_link": true
    },
    "kernelspec": {
      "name": "python3",
      "display_name": "Python 3"
    },
    "language_info": {
      "name": "python"
    }
  },
  "cells": [
    {
      "cell_type": "markdown",
      "metadata": {
        "id": "view-in-github",
        "colab_type": "text"
      },
      "source": [
        "<a href=\"https://colab.research.google.com/github/mskang222/NLP_2023/blob/main/9%EC%9B%94_27%EC%9D%BC.ipynb\" target=\"_parent\"><img src=\"https://colab.research.google.com/assets/colab-badge.svg\" alt=\"Open In Colab\"/></a>"
      ]
    },
    {
      "cell_type": "markdown",
      "source": [
        "리스트의 값 수정하기"
      ],
      "metadata": {
        "id": "tbTtuxwZ9ZU5"
      }
    },
    {
      "cell_type": "code",
      "execution_count": 1,
      "metadata": {
        "colab": {
          "base_uri": "https://localhost:8080/"
        },
        "id": "FS9Y8ZIE9Pvp",
        "outputId": "5ee7a993-cfa3-4be9-827c-5450076d0305"
      },
      "outputs": [
        {
          "output_type": "execute_result",
          "data": {
            "text/plain": [
              "[1, 2, 4]"
            ]
          },
          "metadata": {},
          "execution_count": 1
        }
      ],
      "source": [
        " a = [1, 2, 3]   #a[2]의 3이 4로 바꾸는 방법.\n",
        " a[2] = 4\n",
        " a"
      ]
    },
    {
      "cell_type": "markdown",
      "source": [
        "del 함수를 사용해 리스트 요소 삭제하기"
      ],
      "metadata": {
        "id": "wETRU_rm9qc4"
      }
    },
    {
      "cell_type": "markdown",
      "source": [
        "del a[x]는 x번째 요솟값을 삭제한다."
      ],
      "metadata": {
        "id": "mhuHKF3w90Qz"
      }
    },
    {
      "cell_type": "code",
      "source": [
        "a = [1, 2, 3]\n",
        "del a[1]\n",
        "a"
      ],
      "metadata": {
        "colab": {
          "base_uri": "https://localhost:8080/"
        },
        "id": "HHyttucg9sGR",
        "outputId": "72c134b9-84fc-4d75-fd0e-221e0f3faf6f"
      },
      "execution_count": 3,
      "outputs": [
        {
          "output_type": "execute_result",
          "data": {
            "text/plain": [
              "[1, 3]"
            ]
          },
          "metadata": {},
          "execution_count": 3
        }
      ]
    },
    {
      "cell_type": "code",
      "source": [
        "a = [1, 2, 3, 4, 5]    #슬라이싱 기법을 사용하여 리스트의 요소 여러 개를 한꺼번에 삭제할 수도 있다\n",
        "del a[2:]\n",
        "a"
      ],
      "metadata": {
        "colab": {
          "base_uri": "https://localhost:8080/"
        },
        "id": "nUn8eYLh-A9Y",
        "outputId": "b167745e-c88e-4b1f-f446-fc973add77f4"
      },
      "execution_count": 4,
      "outputs": [
        {
          "output_type": "execute_result",
          "data": {
            "text/plain": [
              "[1, 2]"
            ]
          },
          "metadata": {},
          "execution_count": 4
        }
      ]
    },
    {
      "cell_type": "markdown",
      "source": [
        "#리스트 관련 함수"
      ],
      "metadata": {
        "id": "SRuHYvXh-Qtx"
      }
    },
    {
      "cell_type": "markdown",
      "source": [
        "리스트에 요소 추가하기 - append"
      ],
      "metadata": {
        "id": "_au_WOmY-R7_"
      }
    },
    {
      "cell_type": "code",
      "source": [
        "#append(x)는 리스트의 맨 마지막에 x를 추가하는 함수이다.\n",
        "a = [1, 2, 3]\n",
        "a.append(4)\n",
        "a\n"
      ],
      "metadata": {
        "colab": {
          "base_uri": "https://localhost:8080/"
        },
        "id": "4x0w6_F--UU3",
        "outputId": "d7375403-77fc-4e7e-ce27-c7b22d27a8e4"
      },
      "execution_count": 5,
      "outputs": [
        {
          "output_type": "execute_result",
          "data": {
            "text/plain": [
              "[1, 2, 3, 4]"
            ]
          },
          "metadata": {},
          "execution_count": 5
        }
      ]
    },
    {
      "cell_type": "code",
      "source": [
        "#리스트에 다시 리스트를 추가한 예시\n",
        "a.append([5, 6])\n",
        "a"
      ],
      "metadata": {
        "colab": {
          "base_uri": "https://localhost:8080/"
        },
        "id": "xoDGQHWT-e7_",
        "outputId": "e4078fb1-a721-4466-bda0-0eaae2203e34"
      },
      "execution_count": 6,
      "outputs": [
        {
          "output_type": "execute_result",
          "data": {
            "text/plain": [
              "[1, 2, 3, 4, [5, 6]]"
            ]
          },
          "metadata": {},
          "execution_count": 6
        }
      ]
    }
  ]
}