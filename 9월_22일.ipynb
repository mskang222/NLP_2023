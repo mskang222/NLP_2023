{
  "nbformat": 4,
  "nbformat_minor": 0,
  "metadata": {
    "colab": {
      "provenance": [],
      "authorship_tag": "ABX9TyOSG4oqwRzz2Koa4mRo/J7k",
      "include_colab_link": true
    },
    "kernelspec": {
      "name": "python3",
      "display_name": "Python 3"
    },
    "language_info": {
      "name": "python"
    }
  },
  "cells": [
    {
      "cell_type": "markdown",
      "metadata": {
        "id": "view-in-github",
        "colab_type": "text"
      },
      "source": [
        "<a href=\"https://colab.research.google.com/github/mskang222/NLP_2023/blob/main/9%EC%9B%94_22%EC%9D%BC.ipynb\" target=\"_parent\"><img src=\"https://colab.research.google.com/assets/colab-badge.svg\" alt=\"Open In Colab\"/></a>"
      ]
    },
    {
      "cell_type": "markdown",
      "source": [
        "공백 채우기"
      ],
      "metadata": {
        "id": "oEAOfReO_INy"
      }
    },
    {
      "cell_type": "code",
      "execution_count": 1,
      "metadata": {
        "colab": {
          "base_uri": "https://localhost:8080/",
          "height": 35
        },
        "id": "vbCkoBRq-yIz",
        "outputId": "284a5dc9-8a64-4592-8eea-a2325981ffc2"
      },
      "outputs": [
        {
          "output_type": "execute_result",
          "data": {
            "text/plain": [
              "'====hi===='"
            ],
            "application/vnd.google.colaboratory.intrinsic+json": {
              "type": "string"
            }
          },
          "metadata": {},
          "execution_count": 1
        }
      ],
      "source": [
        "\"{0:=^10}\".format(\"hi\")    #채워 넣을 문자 값은 정렬 문자 <, >, ^ 바로 앞에 넣어야 한다.\n",
        "                           #가운데(^)로 정렬하고 빈 공간을 =로 채웠다."
      ]
    },
    {
      "cell_type": "code",
      "source": [
        "\"{0:!<10}\".format(\"hi\")   #왼쪽(<)으로 정렬하고 빈 공간을 !로 채웠다."
      ],
      "metadata": {
        "colab": {
          "base_uri": "https://localhost:8080/",
          "height": 35
        },
        "id": "PI9Jr8MP_YJ-",
        "outputId": "3b4aaef6-ab08-49cb-d02b-f8555983865a"
      },
      "execution_count": 2,
      "outputs": [
        {
          "output_type": "execute_result",
          "data": {
            "text/plain": [
              "'hi!!!!!!!!'"
            ],
            "application/vnd.google.colaboratory.intrinsic+json": {
              "type": "string"
            }
          },
          "metadata": {},
          "execution_count": 2
        }
      ]
    },
    {
      "cell_type": "markdown",
      "source": [
        "소수점 표현하기"
      ],
      "metadata": {
        "id": "pfD-TL37_hqf"
      }
    },
    {
      "cell_type": "code",
      "source": [
        "y = 3.42134234\n",
        "\"{0:0.4f}\".format(y)      # format 함수를 사용해 소수점을 4자리까지만 표현하는 방법"
      ],
      "metadata": {
        "colab": {
          "base_uri": "https://localhost:8080/",
          "height": 35
        },
        "id": "Z-uqTmfq_hYn",
        "outputId": "1543afa7-ec76-4520-ce0c-dc99851193dd"
      },
      "execution_count": 3,
      "outputs": [
        {
          "output_type": "execute_result",
          "data": {
            "text/plain": [
              "'3.4213'"
            ],
            "application/vnd.google.colaboratory.intrinsic+json": {
              "type": "string"
            }
          },
          "metadata": {},
          "execution_count": 3
        }
      ]
    },
    {
      "cell_type": "markdown",
      "source": [
        "문자 개수 세기 - count"
      ],
      "metadata": {
        "id": "liZob75VAK9o"
      }
    },
    {
      "cell_type": "code",
      "source": [
        "a = \"hobby\"\n",
        "a.count('b')"
      ],
      "metadata": {
        "colab": {
          "base_uri": "https://localhost:8080/"
        },
        "id": "EoS-zxSWAFVv",
        "outputId": "8ec62d76-4d13-439c-c6a8-682a7b23056d"
      },
      "execution_count": 5,
      "outputs": [
        {
          "output_type": "execute_result",
          "data": {
            "text/plain": [
              "2"
            ]
          },
          "metadata": {},
          "execution_count": 5
        }
      ]
    },
    {
      "cell_type": "markdown",
      "source": [
        "위치 알려 주기 1 - find"
      ],
      "metadata": {
        "id": "h2O1cWsaAV5u"
      }
    },
    {
      "cell_type": "code",
      "source": [
        "a = \"Python is the best choice\"   #find 함수로 문자열 중 문자 b가 처음으로 나온 위치를 반환하고 없으면 -1을 반환한다.\n",
        "a.find('b')"
      ],
      "metadata": {
        "colab": {
          "base_uri": "https://localhost:8080/"
        },
        "id": "28LaGc6cAOJH",
        "outputId": "bdba7c59-1dd3-499f-9bea-1bea3155438f"
      },
      "execution_count": 7,
      "outputs": [
        {
          "output_type": "execute_result",
          "data": {
            "text/plain": [
              "14"
            ]
          },
          "metadata": {},
          "execution_count": 7
        }
      ]
    },
    {
      "cell_type": "markdown",
      "source": [
        "위치 알려 주기 2 - index"
      ],
      "metadata": {
        "id": "6JjUJciHAnfg"
      }
    },
    {
      "cell_type": "code",
      "source": [
        "a = \"Life is too short\"        #문자열 중 문자 t가 맨 처음으로 나온 위치를 반환, 없으면 오류가 발생한다.\n",
        "a.index('t')"
      ],
      "metadata": {
        "colab": {
          "base_uri": "https://localhost:8080/"
        },
        "id": "1Zkl_dEIAo4r",
        "outputId": "cd68d5dd-afef-454e-95c3-cbffacbdd714"
      },
      "execution_count": 8,
      "outputs": [
        {
          "output_type": "execute_result",
          "data": {
            "text/plain": [
              "8"
            ]
          },
          "metadata": {},
          "execution_count": 8
        }
      ]
    }
  ]
}