{
  "nbformat": 4,
  "nbformat_minor": 0,
  "metadata": {
    "colab": {
      "provenance": [],
      "authorship_tag": "ABX9TyOmwv+XmWfkhV3Lgkao4dwq",
      "include_colab_link": true
    },
    "kernelspec": {
      "name": "python3",
      "display_name": "Python 3"
    },
    "language_info": {
      "name": "python"
    }
  },
  "cells": [
    {
      "cell_type": "markdown",
      "metadata": {
        "id": "view-in-github",
        "colab_type": "text"
      },
      "source": [
        "<a href=\"https://colab.research.google.com/github/mskang222/NLP_2023/blob/main/10%EC%9B%94_26%EC%9D%BC.ipynb\" target=\"_parent\"><img src=\"https://colab.research.google.com/assets/colab-badge.svg\" alt=\"Open In Colab\"/></a>"
      ]
    },
    {
      "cell_type": "markdown",
      "source": [
        "#for문"
      ],
      "metadata": {
        "id": "fjz47LDl3J2o"
      }
    },
    {
      "cell_type": "code",
      "execution_count": 1,
      "metadata": {
        "colab": {
          "base_uri": "https://localhost:8080/"
        },
        "id": "Pe6QKgJG2aSa",
        "outputId": "43d57cfa-20a5-4187-82af-50cdd8569024"
      },
      "outputs": [
        {
          "output_type": "stream",
          "name": "stdout",
          "text": [
            "one\n",
            "two\n",
            "three\n"
          ]
        }
      ],
      "source": [
        "test_list = ['one', 'two', 'three']\n",
        "for i in test_list:\n",
        "     print(i)"
      ]
    },
    {
      "cell_type": "code",
      "source": [
        " a = [(1,2), (3,4), (5,6)]\n",
        "for (first, last) in a:\n",
        "     print(first + last)"
      ],
      "metadata": {
        "colab": {
          "base_uri": "https://localhost:8080/"
        },
        "id": "LNl4QE7X3OO6",
        "outputId": "41c0884b-21b3-4bd1-d63b-8cebdd56df74"
      },
      "execution_count": 2,
      "outputs": [
        {
          "output_type": "stream",
          "name": "stdout",
          "text": [
            "3\n",
            "7\n",
            "11\n"
          ]
        }
      ]
    },
    {
      "cell_type": "code",
      "source": [
        "# for 문의 응용\n",
        "marks = [90, 25, 67, 45, 80]   # 학생들의 시험 점수 리스트\n",
        "\n",
        "number = 0   # 학생에게 붙여 줄 번호\n",
        "for mark in marks:   # 90, 25, 67, 45, 80을 순서대로 mark에 대입\n",
        "    number = number +1\n",
        "    if mark >= 60:\n",
        "        print(\"%d번 학생은 합격입니다.\" % number)\n",
        "    else:\n",
        "        print(\"%d번 학생은 불합격입니다.\" % number)\n",
        "#for 문이 한 번씩 수행될 때마다 number는 1씩 증가한다."
      ],
      "metadata": {
        "colab": {
          "base_uri": "https://localhost:8080/"
        },
        "id": "1I5Tsb3f3WLU",
        "outputId": "c9603156-b680-4216-85eb-ad0aea298de6"
      },
      "execution_count": 4,
      "outputs": [
        {
          "output_type": "stream",
          "name": "stdout",
          "text": [
            "1번 학생은 합격입니다.\n",
            "2번 학생은 불합격입니다.\n",
            "3번 학생은 합격입니다.\n",
            "4번 학생은 불합격입니다.\n",
            "5번 학생은 합격입니다.\n"
          ]
        }
      ]
    },
    {
      "cell_type": "markdown",
      "source": [
        "for 문과 continue 문"
      ],
      "metadata": {
        "id": "Lcj6Ifai3sVX"
      }
    },
    {
      "cell_type": "code",
      "source": [
        "marks = [90, 25, 67, 45, 80]\n",
        "\n",
        "number = 0\n",
        "for mark in marks:\n",
        "    number = number +1\n",
        "    if mark < 60:\n",
        "        continue\n",
        "    print(\"%d번 학생 축하합니다. 합격입니다. \" % number)"
      ],
      "metadata": {
        "colab": {
          "base_uri": "https://localhost:8080/"
        },
        "id": "oTjwN8vz3hLp",
        "outputId": "d31104ba-1c42-4edf-d675-f183be197a4f"
      },
      "execution_count": 5,
      "outputs": [
        {
          "output_type": "stream",
          "name": "stdout",
          "text": [
            "1번 학생 축하합니다. 합격입니다. \n",
            "3번 학생 축하합니다. 합격입니다. \n",
            "5번 학생 축하합니다. 합격입니다. \n"
          ]
        }
      ]
    },
    {
      "cell_type": "markdown",
      "source": [
        "for 문과 함께 자주 사용하는 range 함수"
      ],
      "metadata": {
        "id": "gSv1xDTh4ArY"
      }
    },
    {
      "cell_type": "code",
      "source": [
        " add = 0\n",
        "for i in range(1, 11):\n",
        "     add = add + i\n",
        "\n",
        "print(add)\n",
        "#i 변수에 숫자가 1부터 10까지 하나씩 차례로 대입되면서 add = add + i 문장을 반복적으로 수행하고 add는 최종적으로 55가 된다."
      ],
      "metadata": {
        "colab": {
          "base_uri": "https://localhost:8080/"
        },
        "id": "1-EMR4Lk3xRH",
        "outputId": "d04e1b4e-142e-422e-9082-7a29446fd9fa"
      },
      "execution_count": 7,
      "outputs": [
        {
          "output_type": "stream",
          "name": "stdout",
          "text": [
            "55\n"
          ]
        }
      ]
    }
  ]
}