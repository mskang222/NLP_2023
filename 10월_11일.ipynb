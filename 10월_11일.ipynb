{
  "nbformat": 4,
  "nbformat_minor": 0,
  "metadata": {
    "colab": {
      "provenance": [],
      "authorship_tag": "ABX9TyMDJ+il24XpRyJYZ6p+nerK",
      "include_colab_link": true
    },
    "kernelspec": {
      "name": "python3",
      "display_name": "Python 3"
    },
    "language_info": {
      "name": "python"
    }
  },
  "cells": [
    {
      "cell_type": "markdown",
      "metadata": {
        "id": "view-in-github",
        "colab_type": "text"
      },
      "source": [
        "<a href=\"https://colab.research.google.com/github/mskang222/NLP_2023/blob/main/10%EC%9B%94_11%EC%9D%BC.ipynb\" target=\"_parent\"><img src=\"https://colab.research.google.com/assets/colab-badge.svg\" alt=\"Open In Colab\"/></a>"
      ]
    },
    {
      "cell_type": "markdown",
      "source": [
        "Key로 Value 얻기 - get"
      ],
      "metadata": {
        "id": "XrS6LHHpXHa1"
      }
    },
    {
      "cell_type": "code",
      "execution_count": 1,
      "metadata": {
        "colab": {
          "base_uri": "https://localhost:8080/",
          "height": 35
        },
        "id": "rIxugofHXBBt",
        "outputId": "62975026-017a-4d5f-aa81-ff49e57fca11"
      },
      "outputs": [
        {
          "output_type": "execute_result",
          "data": {
            "text/plain": [
              "'pey'"
            ],
            "application/vnd.google.colaboratory.intrinsic+json": {
              "type": "string"
            }
          },
          "metadata": {},
          "execution_count": 1
        }
      ],
      "source": [
        "a = {'name': 'pey', 'phone': '010-9999-1234', 'birth': '1118'}\n",
        "a.get('name') #get(x) 함수는 x라는 Key에 대응되는 Value를 리턴한다."
      ]
    },
    {
      "cell_type": "code",
      "source": [
        "a.get('birth')"
      ],
      "metadata": {
        "colab": {
          "base_uri": "https://localhost:8080/",
          "height": 35
        },
        "id": "1x5tzSA-XKlh",
        "outputId": "a4548491-d2aa-4687-9620-5070ad219c62"
      },
      "execution_count": 2,
      "outputs": [
        {
          "output_type": "execute_result",
          "data": {
            "text/plain": [
              "'1118'"
            ],
            "application/vnd.google.colaboratory.intrinsic+json": {
              "type": "string"
            }
          },
          "metadata": {},
          "execution_count": 2
        }
      ]
    },
    {
      "cell_type": "code",
      "source": [
        "a.get('nokey', 'foo') #딕셔너리 a에는 'nokey'에 해당하는 Key를 찾고 없으면 디폴트 값인 'foo'를 리턴한다."
      ],
      "metadata": {
        "id": "bsjzcc6dXnE7"
      },
      "execution_count": null,
      "outputs": []
    },
    {
      "cell_type": "markdown",
      "source": [
        "해당 Key가 딕셔너리 안에 있는지 조사하기 - in"
      ],
      "metadata": {
        "id": "jzh26rKFXxfM"
      }
    },
    {
      "cell_type": "code",
      "source": [
        "a = {'name':'pey', 'phone':'010-9999-1234', 'birth': '1118'}\n",
        "'name' in a"
      ],
      "metadata": {
        "colab": {
          "base_uri": "https://localhost:8080/"
        },
        "id": "_xi0bJNnXxGV",
        "outputId": "f65ae747-c0ca-46e2-dfa7-c8b62ce623ce"
      },
      "execution_count": 3,
      "outputs": [
        {
          "output_type": "execute_result",
          "data": {
            "text/plain": [
              "True"
            ]
          },
          "metadata": {},
          "execution_count": 3
        }
      ]
    },
    {
      "cell_type": "code",
      "source": [
        "'email' in a"
      ],
      "metadata": {
        "colab": {
          "base_uri": "https://localhost:8080/"
        },
        "id": "t_h3A5tgX04v",
        "outputId": "0beb4a05-51bb-4c07-d8dd-5262083f0bb4"
      },
      "execution_count": 4,
      "outputs": [
        {
          "output_type": "execute_result",
          "data": {
            "text/plain": [
              "False"
            ]
          },
          "metadata": {},
          "execution_count": 4
        }
      ]
    },
    {
      "cell_type": "markdown",
      "source": [
        "#집합 자료형"
      ],
      "metadata": {
        "id": "46MvE9taX-KZ"
      }
    },
    {
      "cell_type": "code",
      "source": [
        "#집합 자료형은 set 키워드를 사용해 만들 수 있다.\n",
        "s1 = set([1, 2, 3])\n",
        "s1"
      ],
      "metadata": {
        "colab": {
          "base_uri": "https://localhost:8080/"
        },
        "id": "uMbhUXvAYDQ1",
        "outputId": "97b65cf6-0d6a-4cb1-bcc5-6537e2d7aa94"
      },
      "execution_count": 5,
      "outputs": [
        {
          "output_type": "execute_result",
          "data": {
            "text/plain": [
              "{1, 2, 3}"
            ]
          },
          "metadata": {},
          "execution_count": 5
        }
      ]
    },
    {
      "cell_type": "code",
      "source": [
        "#set()의 괄호 안에 리스트를 입력하여 만들거나 문자열을 입력하여 만들 수도 있다.\n",
        "s2 = set(\"Hello\")\n",
        "s2   #집합자료형 특징: 1.중복을 허용하지 않는다.  2.순서가 없다."
      ],
      "metadata": {
        "colab": {
          "base_uri": "https://localhost:8080/"
        },
        "id": "XiVK3dJwYLq9",
        "outputId": "bfdda702-91e7-4efb-e0a1-ef02a77a2502"
      },
      "execution_count": 7,
      "outputs": [
        {
          "output_type": "execute_result",
          "data": {
            "text/plain": [
              "{'H', 'e', 'l', 'o'}"
            ]
          },
          "metadata": {},
          "execution_count": 7
        }
      ]
    },
    {
      "cell_type": "markdown",
      "source": [
        "비어 있는 집합 자료형은 s = set()로 만들 수 있다."
      ],
      "metadata": {
        "id": "ZxIPMB73YYhx"
      }
    }
  ]
}