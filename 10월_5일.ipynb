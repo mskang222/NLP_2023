{
  "nbformat": 4,
  "nbformat_minor": 0,
  "metadata": {
    "colab": {
      "provenance": [],
      "authorship_tag": "ABX9TyMvESu3JLl/FtSEz/qk9wPA",
      "include_colab_link": true
    },
    "kernelspec": {
      "name": "python3",
      "display_name": "Python 3"
    },
    "language_info": {
      "name": "python"
    }
  },
  "cells": [
    {
      "cell_type": "markdown",
      "metadata": {
        "id": "view-in-github",
        "colab_type": "text"
      },
      "source": [
        "<a href=\"https://colab.research.google.com/github/mskang222/NLP_2023/blob/main/10%EC%9B%94_5%EC%9D%BC.ipynb\" target=\"_parent\"><img src=\"https://colab.research.google.com/assets/colab-badge.svg\" alt=\"Open In Colab\"/></a>"
      ]
    },
    {
      "cell_type": "markdown",
      "source": [
        "딕셔너리 쌍 추가하기"
      ],
      "metadata": {
        "id": "bVMjUENRNvpR"
      }
    },
    {
      "cell_type": "code",
      "execution_count": 1,
      "metadata": {
        "colab": {
          "base_uri": "https://localhost:8080/"
        },
        "id": "jvNSJ6ToNrsE",
        "outputId": "ebaf9532-fc88-4bb2-fc40-ded2da9ec5bb"
      },
      "outputs": [
        {
          "output_type": "execute_result",
          "data": {
            "text/plain": [
              "{1: 'a', 2: 'd'}"
            ]
          },
          "metadata": {},
          "execution_count": 1
        }
      ],
      "source": [
        "a = {1: 'a'}\n",
        "a[2] = 'd'   #딕셔너리 a에 Key와 Value가 각각 2와 'b'인 {2: 'd'} 딕셔너리 쌍이 추가\n",
        "a"
      ]
    },
    {
      "cell_type": "code",
      "source": [
        "a['name'] = 'pey'\n",
        "a    #딕셔너리 a에 {'name': 'pey'} 쌍이 추가"
      ],
      "metadata": {
        "colab": {
          "base_uri": "https://localhost:8080/"
        },
        "id": "NzFdSNw6N7sL",
        "outputId": "02791cd1-38b3-4a38-8b6d-37bf656f237a"
      },
      "execution_count": 2,
      "outputs": [
        {
          "output_type": "execute_result",
          "data": {
            "text/plain": [
              "{1: 'a', 2: 'd', 'name': 'pey'}"
            ]
          },
          "metadata": {},
          "execution_count": 2
        }
      ]
    },
    {
      "cell_type": "markdown",
      "source": [
        "딕셔너리 요소 삭제하기"
      ],
      "metadata": {
        "id": "DQOjbIyHO1jM"
      }
    },
    {
      "cell_type": "code",
      "source": [
        "#del a[key]를 입력하면 지정한 Key에 해당하는 {Key: Value} 쌍이 삭제된다.\n",
        "del a[1]\n",
        "a"
      ],
      "metadata": {
        "colab": {
          "base_uri": "https://localhost:8080/"
        },
        "id": "gYfzSRtlOnB3",
        "outputId": "316324f0-8823-4f06-f681-d8a44687b77b"
      },
      "execution_count": 3,
      "outputs": [
        {
          "output_type": "execute_result",
          "data": {
            "text/plain": [
              "{2: 'd', 'name': 'pey'}"
            ]
          },
          "metadata": {},
          "execution_count": 3
        }
      ]
    },
    {
      "cell_type": "markdown",
      "source": [
        "#딕셔너리를 사용하는 방법"
      ],
      "metadata": {
        "id": "NF-jAPDJPEHN"
      }
    },
    {
      "cell_type": "markdown",
      "source": [
        "딕셔너리에서 Key를 사용해 Value 얻기"
      ],
      "metadata": {
        "id": "IwYNLQ7APOSD"
      }
    },
    {
      "cell_type": "code",
      "source": [
        "#예시1\n",
        "grade = {'pey': 10, 'julliet': 99}\n",
        "grade['pey']\n"
      ],
      "metadata": {
        "colab": {
          "base_uri": "https://localhost:8080/"
        },
        "id": "nqyGqd2wO4bP",
        "outputId": "2c32821b-2160-415e-c465-0aee3fd925d6"
      },
      "execution_count": 7,
      "outputs": [
        {
          "output_type": "execute_result",
          "data": {
            "text/plain": [
              "10"
            ]
          },
          "metadata": {},
          "execution_count": 7
        }
      ]
    },
    {
      "cell_type": "code",
      "source": [
        "grade['julliet']"
      ],
      "metadata": {
        "colab": {
          "base_uri": "https://localhost:8080/"
        },
        "id": "vowMlA_lPSRH",
        "outputId": "ccf9521a-a04b-44bc-8a16-60d01582683b"
      },
      "execution_count": 8,
      "outputs": [
        {
          "output_type": "execute_result",
          "data": {
            "text/plain": [
              "99"
            ]
          },
          "metadata": {},
          "execution_count": 8
        }
      ]
    },
    {
      "cell_type": "code",
      "source": [
        "#예시2\n",
        "a = {1:'a', 2:'b'}\n",
        "a[1]"
      ],
      "metadata": {
        "colab": {
          "base_uri": "https://localhost:8080/",
          "height": 35
        },
        "id": "LtuJ6HFePwPP",
        "outputId": "2835d8c9-e1bb-4645-e429-122cd04d2f45"
      },
      "execution_count": 9,
      "outputs": [
        {
          "output_type": "execute_result",
          "data": {
            "text/plain": [
              "'a'"
            ],
            "application/vnd.google.colaboratory.intrinsic+json": {
              "type": "string"
            }
          },
          "metadata": {},
          "execution_count": 9
        }
      ]
    },
    {
      "cell_type": "code",
      "source": [
        "a[2]"
      ],
      "metadata": {
        "colab": {
          "base_uri": "https://localhost:8080/",
          "height": 35
        },
        "id": "bS0DbftqP7xe",
        "outputId": "cd326315-33de-4539-bade-ce53fb2f2ff2"
      },
      "execution_count": 10,
      "outputs": [
        {
          "output_type": "execute_result",
          "data": {
            "text/plain": [
              "'b'"
            ],
            "application/vnd.google.colaboratory.intrinsic+json": {
              "type": "string"
            }
          },
          "metadata": {},
          "execution_count": 10
        }
      ]
    }
  ]
}