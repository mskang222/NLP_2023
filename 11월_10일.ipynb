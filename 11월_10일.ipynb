{
  "nbformat": 4,
  "nbformat_minor": 0,
  "metadata": {
    "colab": {
      "provenance": [],
      "authorship_tag": "ABX9TyN6dPkKQFvdO7Sfs9iduCtu",
      "include_colab_link": true
    },
    "kernelspec": {
      "name": "python3",
      "display_name": "Python 3"
    },
    "language_info": {
      "name": "python"
    }
  },
  "cells": [
    {
      "cell_type": "markdown",
      "metadata": {
        "id": "view-in-github",
        "colab_type": "text"
      },
      "source": [
        "<a href=\"https://colab.research.google.com/github/mskang222/NLP_2023/blob/main/11%EC%9B%94_10%EC%9D%BC.ipynb\" target=\"_parent\"><img src=\"https://colab.research.google.com/assets/colab-badge.svg\" alt=\"Open In Colab\"/></a>"
      ]
    },
    {
      "cell_type": "code",
      "execution_count": null,
      "metadata": {
        "id": "qQk6-2xMPz--"
      },
      "outputs": [],
      "source": [
        "#3과 5의 배수를 모두 더하기\n",
        "# 먼저 1,000 미만의 자연수는 어떻게 구할 수 있을지 생각한다.\n",
        "n = 1  #방법1\n",
        "while n < 1000:\n",
        "    print(n)\n",
        "    n += 1"
      ]
    },
    {
      "cell_type": "code",
      "source": [
        "for n in range(1, 1000):   #방법2\n",
        "    print(n)"
      ],
      "metadata": {
        "id": "wgaD1QA4QaIk"
      },
      "execution_count": null,
      "outputs": []
    },
    {
      "cell_type": "code",
      "source": [
        "#3과 5의 배수를 구하는 방법을 알아본다.\n",
        "#% 연산자를 사용하면 3의 배수를 찾는다.\n",
        "for n in range(1, 1000):\n",
        "    if n % 3 == 0:\n",
        "        print(n)"
      ],
      "metadata": {
        "id": "fHAd4GHtQeB3"
      },
      "execution_count": null,
      "outputs": []
    },
    {
      "cell_type": "code",
      "source": [
        "#5의 배수는 n % 5가 0이 되는 수로 구할 수  있다.\n",
        "for n in range(1, 1000):\n",
        "    if n % 5 == 0:\n",
        "        print(n)"
      ],
      "metadata": {
        "id": "P1t8iLHEQwlF"
      },
      "execution_count": null,
      "outputs": []
    },
    {
      "cell_type": "code",
      "source": [
        "result = 0\n",
        "for n in range(1, 1000):\n",
        "    if n % 3 == 0 or n % 5 == 0:        #3으로도 5로도 나누어지는 15와 같은 수가 중복으로 더해질 수 있다. 그래서 중복으로 더하지 않도록 or 연산자를 사용.\n",
        "        result += n\n",
        "print(result)"
      ],
      "metadata": {
        "colab": {
          "base_uri": "https://localhost:8080/"
        },
        "id": "O7qIN5PQQ4U0",
        "outputId": "2e660f1d-a4d5-4840-8a60-c2b7068a3c47"
      },
      "execution_count": 5,
      "outputs": [
        {
          "output_type": "stream",
          "name": "stdout",
          "text": [
            "233168\n"
          ]
        }
      ]
    },
    {
      "cell_type": "code",
      "source": [],
      "metadata": {
        "id": "uBhesHJyQ7AI"
      },
      "execution_count": null,
      "outputs": []
    }
  ]
}