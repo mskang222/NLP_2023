{
  "nbformat": 4,
  "nbformat_minor": 0,
  "metadata": {
    "colab": {
      "provenance": [],
      "authorship_tag": "ABX9TyPKFaCi+uRIcDQIN8jCeI/Z",
      "include_colab_link": true
    },
    "kernelspec": {
      "name": "python3",
      "display_name": "Python 3"
    },
    "language_info": {
      "name": "python"
    }
  },
  "cells": [
    {
      "cell_type": "markdown",
      "metadata": {
        "id": "view-in-github",
        "colab_type": "text"
      },
      "source": [
        "<a href=\"https://colab.research.google.com/github/mskang222/NLP_2023/blob/main/9%EC%9B%94_26%EC%9D%BC.ipynb\" target=\"_parent\"><img src=\"https://colab.research.google.com/assets/colab-badge.svg\" alt=\"Open In Colab\"/></a>"
      ]
    },
    {
      "cell_type": "markdown",
      "source": [
        "#리스트 연산하기"
      ],
      "metadata": {
        "id": "bNOS96pL6qrI"
      }
    },
    {
      "cell_type": "markdown",
      "source": [
        "리스트 더하기"
      ],
      "metadata": {
        "id": "xJlo2Q4v6tSM"
      }
    },
    {
      "cell_type": "code",
      "execution_count": 2,
      "metadata": {
        "colab": {
          "base_uri": "https://localhost:8080/"
        },
        "id": "18_eDxB96i6C",
        "outputId": "8de48d53-f394-47bf-fb4c-c829dfeee944"
      },
      "outputs": [
        {
          "output_type": "execute_result",
          "data": {
            "text/plain": [
              "[1, 2, 3, 4, 5, 6]"
            ]
          },
          "metadata": {},
          "execution_count": 2
        }
      ],
      "source": [
        "a = [1, 2, 3]     #리스트 사이에서 +는 2개의 리스트를 합치는 기능\n",
        "b = [4, 5, 6]\n",
        "a + b"
      ]
    },
    {
      "cell_type": "markdown",
      "source": [
        "리스트 반복하기(*)"
      ],
      "metadata": {
        "id": "eBbgj4QB69Qo"
      }
    },
    {
      "cell_type": "code",
      "source": [
        "a = [1, 2, 3]      #[1, 2, 3] 리스트가 세 번 반복\n",
        "a * 3"
      ],
      "metadata": {
        "colab": {
          "base_uri": "https://localhost:8080/"
        },
        "id": "lKXmv7TU60ap",
        "outputId": "d8793405-5a20-4384-ba82-86f2e3175a7c"
      },
      "execution_count": 3,
      "outputs": [
        {
          "output_type": "execute_result",
          "data": {
            "text/plain": [
              "[1, 2, 3, 1, 2, 3, 1, 2, 3]"
            ]
          },
          "metadata": {},
          "execution_count": 3
        }
      ]
    },
    {
      "cell_type": "markdown",
      "source": [
        "리스트 길이 구하기"
      ],
      "metadata": {
        "id": "k_7JBFvT7ENj"
      }
    },
    {
      "cell_type": "code",
      "source": [
        "a = [1, 2, 3]\n",
        "len(a)"
      ],
      "metadata": {
        "colab": {
          "base_uri": "https://localhost:8080/"
        },
        "id": "3xUglgC86_y-",
        "outputId": "40dbc2b5-3ee9-465c-9d01-f10917ad6555"
      },
      "execution_count": 4,
      "outputs": [
        {
          "output_type": "execute_result",
          "data": {
            "text/plain": [
              "3"
            ]
          },
          "metadata": {},
          "execution_count": 4
        }
      ]
    },
    {
      "cell_type": "code",
      "source": [
        "#a = [1, 2, 3]\n",
        "# a[2] + \"hi\" 는 오류가 난다.\n",
        "#a[2]은 정수값이고, \"hi\"는 문자열이기 때문이다.\n",
        "#만약 숫자와 문자열을 더해서 '3hi'를 만들고 싶으면 숫자 3을 문자 '3'으로 바꾸어야 한다\n",
        "str(a[2]) + \"hi\""
      ],
      "metadata": {
        "colab": {
          "base_uri": "https://localhost:8080/",
          "height": 35
        },
        "id": "kQfMNgxu7RDA",
        "outputId": "2c9b7e5d-212d-41e4-831b-c08dc804dbdf"
      },
      "execution_count": 5,
      "outputs": [
        {
          "output_type": "execute_result",
          "data": {
            "text/plain": [
              "'3hi'"
            ],
            "application/vnd.google.colaboratory.intrinsic+json": {
              "type": "string"
            }
          },
          "metadata": {},
          "execution_count": 5
        }
      ]
    }
  ]
}