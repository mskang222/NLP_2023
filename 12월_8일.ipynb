{
  "nbformat": 4,
  "nbformat_minor": 0,
  "metadata": {
    "colab": {
      "provenance": [],
      "gpuType": "T4",
      "authorship_tag": "ABX9TyP7WCziiqxEX+T4Eno8849r",
      "include_colab_link": true
    },
    "kernelspec": {
      "name": "python3",
      "display_name": "Python 3"
    },
    "language_info": {
      "name": "python"
    },
    "accelerator": "GPU"
  },
  "cells": [
    {
      "cell_type": "markdown",
      "metadata": {
        "id": "view-in-github",
        "colab_type": "text"
      },
      "source": [
        "<a href=\"https://colab.research.google.com/github/mskang222/NLP_2023/blob/main/12%EC%9B%94_8%EC%9D%BC.ipynb\" target=\"_parent\"><img src=\"https://colab.research.google.com/assets/colab-badge.svg\" alt=\"Open In Colab\"/></a>"
      ]
    },
    {
      "cell_type": "markdown",
      "source": [
        "MNIST_feature_map(2)"
      ],
      "metadata": {
        "id": "AWraMb8NoWnx"
      }
    },
    {
      "cell_type": "code",
      "execution_count": 2,
      "metadata": {
        "id": "EGlmujmkoS3L"
      },
      "outputs": [],
      "source": [
        "import numpy as np\n",
        "import pandas as pd\n",
        "import os\n",
        "import matplotlib.pyplot as plt\n",
        "from keras.layers import Dense, Dropout, Flatten\n",
        "from keras.layers import Conv2D, MaxPooling2D, Input\n",
        "from keras.models import Model\n",
        "from sklearn.model_selection import train_test_split\n",
        "\n",
        "import tensorflow as tf\n",
        "from tensorflow.keras.datasets import mnist\n",
        "from tensorflow.keras.models import Sequential\n",
        "from tensorflow.keras.layers import Dense, Dropout, Flatten\n",
        "from tensorflow.keras.layers import Conv2D, MaxPooling2D\n",
        "from tensorflow.keras import backend as K\n",
        "from tensorflow.keras.losses import categorical_crossentropy\n",
        "from tensorflow.keras.optimizers import Adam\n",
        "from tensorflow.keras.callbacks import EarlyStopping, ModelCheckpoint"
      ]
    },
    {
      "cell_type": "code",
      "source": [
        "(X_train, y_train), (X_test, y_test) = tf.keras.datasets.mnist.load_data()"
      ],
      "metadata": {
        "colab": {
          "base_uri": "https://localhost:8080/"
        },
        "id": "OfU3RWv-og8t",
        "outputId": "6c3d3b68-05cd-4f54-d719-0dbdeccdb4c4"
      },
      "execution_count": 3,
      "outputs": [
        {
          "output_type": "stream",
          "name": "stdout",
          "text": [
            "Downloading data from https://storage.googleapis.com/tensorflow/tf-keras-datasets/mnist.npz\n",
            "11490434/11490434 [==============================] - 0s 0us/step\n"
          ]
        }
      ]
    },
    {
      "cell_type": "code",
      "source": [
        "X_train = X_train.astype('float32')\n",
        "X_test = X_test.astype('float32')\n",
        "\n",
        "gray_scale = 255\n",
        "X_train /= gray_scale\n",
        "X_test /= gray_scale"
      ],
      "metadata": {
        "id": "S_BDUq2zoi-i"
      },
      "execution_count": 4,
      "outputs": []
    },
    {
      "cell_type": "code",
      "source": [
        "num_classes = 10  #one hot encoding\n",
        "y_train = tf.keras.utils.to_categorical(y_train, num_classes)\n",
        "y_test = tf.keras.utils.to_categorical(y_test, num_classes)"
      ],
      "metadata": {
        "id": "uU1mOdLlol2M"
      },
      "execution_count": 5,
      "outputs": []
    },
    {
      "cell_type": "code",
      "source": [
        "def model():\n",
        "\n",
        "    inputs = Input(shape=(28,28,1))      #inputs:변수, Input:함수\n",
        "    x = Conv2D(24,kernel_size=(3,3),padding='same',activation=\"relu\")(inputs)\n",
        "    x = MaxPooling2D(pool_size=(2, 2))(x)\n",
        "    x = Conv2D(48, (3, 3), padding='same',activation='relu')(x)\n",
        "    x = MaxPooling2D(pool_size=(2, 2))(x)\n",
        "    x = Conv2D(64, (3, 3), padding='same',activation='relu')(x)\n",
        "    x = MaxPooling2D(pool_size=(2, 2))(x)\n",
        "    x = Flatten()(x)\n",
        "    x = Dense(128, activation='relu')(x)\n",
        "    x = Dropout(0.25)(x)\n",
        "    output = Dense(num_classes,activation=\"softmax\")(x)\n",
        "\n",
        "    model = Model(inputs,output)\n",
        "\n",
        "    model.compile(loss='categorical_crossentropy',\n",
        "              optimizer='adam',\n",
        "              metrics=['accuracy'])\n",
        "\n",
        "    return model"
      ],
      "metadata": {
        "id": "XZ39Vz_iosEr"
      },
      "execution_count": 6,
      "outputs": []
    },
    {
      "cell_type": "code",
      "source": [
        "model_s=model()\n",
        "model_s.summary()"
      ],
      "metadata": {
        "colab": {
          "base_uri": "https://localhost:8080/"
        },
        "id": "P9t5p-hyozfj",
        "outputId": "2b10ae4a-b3da-4d3f-df7e-1a51496d1e09"
      },
      "execution_count": 7,
      "outputs": [
        {
          "output_type": "stream",
          "name": "stdout",
          "text": [
            "Model: \"model\"\n",
            "_________________________________________________________________\n",
            " Layer (type)                Output Shape              Param #   \n",
            "=================================================================\n",
            " input_1 (InputLayer)        [(None, 28, 28, 1)]       0         \n",
            "                                                                 \n",
            " conv2d (Conv2D)             (None, 28, 28, 24)        240       \n",
            "                                                                 \n",
            " max_pooling2d (MaxPooling2  (None, 14, 14, 24)        0         \n",
            " D)                                                              \n",
            "                                                                 \n",
            " conv2d_1 (Conv2D)           (None, 14, 14, 48)        10416     \n",
            "                                                                 \n",
            " max_pooling2d_1 (MaxPoolin  (None, 7, 7, 48)          0         \n",
            " g2D)                                                            \n",
            "                                                                 \n",
            " conv2d_2 (Conv2D)           (None, 7, 7, 64)          27712     \n",
            "                                                                 \n",
            " max_pooling2d_2 (MaxPoolin  (None, 3, 3, 64)          0         \n",
            " g2D)                                                            \n",
            "                                                                 \n",
            " flatten (Flatten)           (None, 576)               0         \n",
            "                                                                 \n",
            " dense (Dense)               (None, 128)               73856     \n",
            "                                                                 \n",
            " dropout (Dropout)           (None, 128)               0         \n",
            "                                                                 \n",
            " dense_1 (Dense)             (None, 10)                1290      \n",
            "                                                                 \n",
            "=================================================================\n",
            "Total params: 113514 (443.41 KB)\n",
            "Trainable params: 113514 (443.41 KB)\n",
            "Non-trainable params: 0 (0.00 Byte)\n",
            "_________________________________________________________________\n"
          ]
        }
      ]
    },
    {
      "cell_type": "markdown",
      "source": [
        "학습하기"
      ],
      "metadata": {
        "id": "lmBoTyxSo8cx"
      }
    },
    {
      "cell_type": "code",
      "source": [
        "epochs = 30     #30번 학습\n",
        "batch_size=64\n",
        "\n",
        "model = model()\n",
        "history = model.fit(X_train,y_train,\n",
        "         epochs=epochs,\n",
        "         batch_size=batch_size,\n",
        "         validation_split=0.2)"
      ],
      "metadata": {
        "colab": {
          "base_uri": "https://localhost:8080/"
        },
        "id": "Qd6Prslso5FL",
        "outputId": "c057adcd-3a3f-4a48-e032-e83b6a8a0bbf"
      },
      "execution_count": 8,
      "outputs": [
        {
          "output_type": "stream",
          "name": "stdout",
          "text": [
            "Epoch 1/30\n",
            "750/750 [==============================] - 16s 5ms/step - loss: 0.2385 - accuracy: 0.9259 - val_loss: 0.0630 - val_accuracy: 0.9812\n",
            "Epoch 2/30\n",
            "750/750 [==============================] - 4s 6ms/step - loss: 0.0667 - accuracy: 0.9795 - val_loss: 0.0405 - val_accuracy: 0.9876\n",
            "Epoch 3/30\n",
            "750/750 [==============================] - 4s 5ms/step - loss: 0.0479 - accuracy: 0.9861 - val_loss: 0.0457 - val_accuracy: 0.9855\n",
            "Epoch 4/30\n",
            "750/750 [==============================] - 3s 5ms/step - loss: 0.0366 - accuracy: 0.9881 - val_loss: 0.0314 - val_accuracy: 0.9903\n",
            "Epoch 5/30\n",
            "750/750 [==============================] - 4s 5ms/step - loss: 0.0293 - accuracy: 0.9911 - val_loss: 0.0394 - val_accuracy: 0.9888\n",
            "Epoch 6/30\n",
            "750/750 [==============================] - 5s 6ms/step - loss: 0.0273 - accuracy: 0.9911 - val_loss: 0.0327 - val_accuracy: 0.9907\n",
            "Epoch 7/30\n",
            "750/750 [==============================] - 3s 5ms/step - loss: 0.0211 - accuracy: 0.9929 - val_loss: 0.0348 - val_accuracy: 0.9902\n",
            "Epoch 8/30\n",
            "750/750 [==============================] - 3s 4ms/step - loss: 0.0183 - accuracy: 0.9941 - val_loss: 0.0317 - val_accuracy: 0.9918\n",
            "Epoch 9/30\n",
            "750/750 [==============================] - 4s 5ms/step - loss: 0.0143 - accuracy: 0.9954 - val_loss: 0.0313 - val_accuracy: 0.9925\n",
            "Epoch 10/30\n",
            "750/750 [==============================] - 4s 6ms/step - loss: 0.0149 - accuracy: 0.9950 - val_loss: 0.0308 - val_accuracy: 0.9919\n",
            "Epoch 11/30\n",
            "750/750 [==============================] - 4s 5ms/step - loss: 0.0126 - accuracy: 0.9959 - val_loss: 0.0436 - val_accuracy: 0.9893\n",
            "Epoch 12/30\n",
            "750/750 [==============================] - 4s 5ms/step - loss: 0.0120 - accuracy: 0.9959 - val_loss: 0.0379 - val_accuracy: 0.9906\n",
            "Epoch 13/30\n",
            "750/750 [==============================] - 5s 6ms/step - loss: 0.0106 - accuracy: 0.9967 - val_loss: 0.0430 - val_accuracy: 0.9915\n",
            "Epoch 14/30\n",
            "750/750 [==============================] - 3s 4ms/step - loss: 0.0096 - accuracy: 0.9968 - val_loss: 0.0411 - val_accuracy: 0.9910\n",
            "Epoch 15/30\n",
            "750/750 [==============================] - 3s 5ms/step - loss: 0.0094 - accuracy: 0.9966 - val_loss: 0.0364 - val_accuracy: 0.9915\n",
            "Epoch 16/30\n",
            "750/750 [==============================] - 4s 5ms/step - loss: 0.0087 - accuracy: 0.9972 - val_loss: 0.0347 - val_accuracy: 0.9912\n",
            "Epoch 17/30\n",
            "750/750 [==============================] - 4s 6ms/step - loss: 0.0081 - accuracy: 0.9975 - val_loss: 0.0401 - val_accuracy: 0.9924\n",
            "Epoch 18/30\n",
            "750/750 [==============================] - 4s 5ms/step - loss: 0.0065 - accuracy: 0.9977 - val_loss: 0.0382 - val_accuracy: 0.9925\n",
            "Epoch 19/30\n",
            "750/750 [==============================] - 4s 5ms/step - loss: 0.0072 - accuracy: 0.9978 - val_loss: 0.0391 - val_accuracy: 0.9923\n",
            "Epoch 20/30\n",
            "750/750 [==============================] - 5s 6ms/step - loss: 0.0054 - accuracy: 0.9982 - val_loss: 0.0466 - val_accuracy: 0.9911\n",
            "Epoch 21/30\n",
            "750/750 [==============================] - 4s 5ms/step - loss: 0.0067 - accuracy: 0.9978 - val_loss: 0.0473 - val_accuracy: 0.9899\n",
            "Epoch 22/30\n",
            "750/750 [==============================] - 4s 5ms/step - loss: 0.0075 - accuracy: 0.9972 - val_loss: 0.0562 - val_accuracy: 0.9898\n",
            "Epoch 23/30\n",
            "750/750 [==============================] - 4s 5ms/step - loss: 0.0056 - accuracy: 0.9980 - val_loss: 0.0474 - val_accuracy: 0.9916\n",
            "Epoch 24/30\n",
            "750/750 [==============================] - 4s 6ms/step - loss: 0.0060 - accuracy: 0.9980 - val_loss: 0.0440 - val_accuracy: 0.9919\n",
            "Epoch 25/30\n",
            "750/750 [==============================] - 3s 4ms/step - loss: 0.0051 - accuracy: 0.9983 - val_loss: 0.0495 - val_accuracy: 0.9918\n",
            "Epoch 26/30\n",
            "750/750 [==============================] - 4s 5ms/step - loss: 0.0057 - accuracy: 0.9980 - val_loss: 0.0536 - val_accuracy: 0.9902\n",
            "Epoch 27/30\n",
            "750/750 [==============================] - 5s 6ms/step - loss: 0.0057 - accuracy: 0.9981 - val_loss: 0.0500 - val_accuracy: 0.9913\n",
            "Epoch 28/30\n",
            "750/750 [==============================] - 4s 5ms/step - loss: 0.0049 - accuracy: 0.9984 - val_loss: 0.0446 - val_accuracy: 0.9922\n",
            "Epoch 29/30\n",
            "750/750 [==============================] - 4s 5ms/step - loss: 0.0052 - accuracy: 0.9986 - val_loss: 0.0502 - val_accuracy: 0.9902\n",
            "Epoch 30/30\n",
            "750/750 [==============================] - 4s 5ms/step - loss: 0.0038 - accuracy: 0.9988 - val_loss: 0.0574 - val_accuracy: 0.9899\n"
          ]
        }
      ]
    },
    {
      "cell_type": "markdown",
      "source": [
        "학습된 모델 평가하기"
      ],
      "metadata": {
        "id": "1IBPMp-cpCsE"
      }
    },
    {
      "cell_type": "code",
      "source": [
        "X_test.shape  #문제지"
      ],
      "metadata": {
        "id": "PR8sRdi8pASm"
      },
      "execution_count": null,
      "outputs": []
    },
    {
      "cell_type": "code",
      "source": [
        "model.predict(X_test[50].reshape(1,28,28,1))"
      ],
      "metadata": {
        "colab": {
          "base_uri": "https://localhost:8080/"
        },
        "id": "zuLRzhmapFyC",
        "outputId": "f4afc5dc-1187-4a09-bd16-4523c8cfe89a"
      },
      "execution_count": 10,
      "outputs": [
        {
          "output_type": "stream",
          "name": "stdout",
          "text": [
            "1/1 [==============================] - 0s 172ms/step\n"
          ]
        },
        {
          "output_type": "execute_result",
          "data": {
            "text/plain": [
              "array([[5.8272972e-13, 2.1305079e-20, 3.3934870e-17, 2.7191359e-20,\n",
              "        1.7769646e-20, 5.8857677e-15, 1.0000000e+00, 8.7390581e-27,\n",
              "        1.5641176e-17, 1.6896349e-24]], dtype=float32)"
            ]
          },
          "metadata": {},
          "execution_count": 10
        }
      ]
    },
    {
      "cell_type": "code",
      "source": [
        "model.predict(X_test[50].reshape(1,28,28,1)).shape"
      ],
      "metadata": {
        "colab": {
          "base_uri": "https://localhost:8080/"
        },
        "id": "3g2IpbkXpH8F",
        "outputId": "2ab666c5-56b0-410e-e027-06c559624b29"
      },
      "execution_count": 11,
      "outputs": [
        {
          "output_type": "stream",
          "name": "stdout",
          "text": [
            "1/1 [==============================] - 0s 19ms/step\n"
          ]
        },
        {
          "output_type": "execute_result",
          "data": {
            "text/plain": [
              "(1, 10)"
            ]
          },
          "metadata": {},
          "execution_count": 11
        }
      ]
    },
    {
      "cell_type": "code",
      "source": [
        "figure = plt.figure(figsize=(20,20))\n",
        "for i in range(5):\n",
        "    figure.add_subplot(1,5,i+1)  # 1행 5열 그림에 , 그림순서 (순서는 1,2,3 이므로 i+1)\n",
        "    plt.imshow(X_test[i+50,:,:],cmap=\"gray\")\n",
        "    plt.axis(\"off\")\n",
        "    #print(np.squeeze(np.argmax(model.predict(X_test[i+50].reshape(1,28,28,1)),axis=1),axis=0),end=\"\\t\")\n",
        "    plt.title(np.argmax(model.predict(X_test[i+50].reshape(1,28,28,1)),axis=1))"
      ],
      "metadata": {
        "colab": {
          "base_uri": "https://localhost:8080/",
          "height": 455
        },
        "id": "5Hx04-cGpJo0",
        "outputId": "6e4f7088-c6e3-48a5-bec8-e05c8a5a1b06"
      },
      "execution_count": 12,
      "outputs": [
        {
          "output_type": "stream",
          "name": "stdout",
          "text": [
            "1/1 [==============================] - 0s 19ms/step\n",
            "1/1 [==============================] - 0s 17ms/step\n",
            "1/1 [==============================] - 0s 16ms/step\n",
            "1/1 [==============================] - ETA: 0s"
          ]
        },
        {
          "output_type": "stream",
          "name": "stderr",
          "text": [
            "/usr/local/lib/python3.10/dist-packages/matplotlib/text.py:1279: FutureWarning: elementwise comparison failed; returning scalar instead, but in the future will perform elementwise comparison\n",
            "  if s != self._text:\n"
          ]
        },
        {
          "output_type": "stream",
          "name": "stdout",
          "text": [
            "1/1 [==============================] - 0s 20ms/step\n",
            "1/1 [==============================] - 0s 20ms/step\n"
          ]
        },
        {
          "output_type": "display_data",
          "data": {
            "text/plain": [
              "<Figure size 2000x2000 with 5 Axes>"
            ],
            "image/png": "[encoded data removed]"
          },
          "metadata": {}
        }
      ]
    },
    {
      "cell_type": "code",
      "source": [
        "figure = plt.figure(figsize=(20,20))\n",
        "for i in range(5):\n",
        "    figure.add_subplot(1,5,i+1)  # 1행 5열 그림에 , 그림순서 (순서는 1,2,3 이므로 i+1)\n",
        "    plt.imshow(X_test[i+50,:,:],cmap=\"gray\")\n",
        "    plt.axis(\"off\")\n",
        "    #print(np.squeeze(np.argmax(model.predict(X_test[i+50].reshape(1,28,28,1)),axis=1),axis=0),end=\"\\t\")\n",
        "    plt.title(np.squeeze(np.argmax(model.predict(X_test[i+50].reshape(1,28,28,1)),axis=1)))"
      ],
      "metadata": {
        "colab": {
          "base_uri": "https://localhost:8080/",
          "height": 418
        },
        "id": "T-CwCnZmqMoT",
        "outputId": "d4f67e22-eb21-4b23-c8d1-c9ae76303411"
      },
      "execution_count": 13,
      "outputs": [
        {
          "output_type": "stream",
          "name": "stdout",
          "text": [
            "1/1 [==============================] - 0s 26ms/step\n",
            "1/1 [==============================] - 0s 29ms/step\n",
            "1/1 [==============================] - 0s 110ms/step\n",
            "1/1 [==============================] - 0s 90ms/step\n",
            "1/1 [==============================] - 0s 111ms/step\n"
          ]
        },
        {
          "output_type": "display_data",
          "data": {
            "text/plain": [
              "<Figure size 2000x2000 with 5 Axes>"
            ],
            "image/png": "[encoded data removed]"
          },
          "metadata": {}
        }
      ]
    },
    {
      "cell_type": "code",
      "source": [
        "model.summary()"
      ],
      "metadata": {
        "colab": {
          "base_uri": "https://localhost:8080/"
        },
        "id": "TByGg8xAqM3b",
        "outputId": "1f1d364b-e503-428f-a8a0-6c0cbeed4312"
      },
      "execution_count": 14,
      "outputs": [
        {
          "output_type": "stream",
          "name": "stdout",
          "text": [
            "Model: \"model_1\"\n",
            "_________________________________________________________________\n",
            " Layer (type)                Output Shape              Param #   \n",
            "=================================================================\n",
            " input_2 (InputLayer)        [(None, 28, 28, 1)]       0         \n",
            "                                                                 \n",
            " conv2d_3 (Conv2D)           (None, 28, 28, 24)        240       \n",
            "                                                                 \n",
            " max_pooling2d_3 (MaxPoolin  (None, 14, 14, 24)        0         \n",
            " g2D)                                                            \n",
            "                                                                 \n",
            " conv2d_4 (Conv2D)           (None, 14, 14, 48)        10416     \n",
            "                                                                 \n",
            " max_pooling2d_4 (MaxPoolin  (None, 7, 7, 48)          0         \n",
            " g2D)                                                            \n",
            "                                                                 \n",
            " conv2d_5 (Conv2D)           (None, 7, 7, 64)          27712     \n",
            "                                                                 \n",
            " max_pooling2d_5 (MaxPoolin  (None, 3, 3, 64)          0         \n",
            " g2D)                                                            \n",
            "                                                                 \n",
            " flatten_1 (Flatten)         (None, 576)               0         \n",
            "                                                                 \n",
            " dense_2 (Dense)             (None, 128)               73856     \n",
            "                                                                 \n",
            " dropout_1 (Dropout)         (None, 128)               0         \n",
            "                                                                 \n",
            " dense_3 (Dense)             (None, 10)                1290      \n",
            "                                                                 \n",
            "=================================================================\n",
            "Total params: 113514 (443.41 KB)\n",
            "Trainable params: 113514 (443.41 KB)\n",
            "Non-trainable params: 0 (0.00 Byte)\n",
            "_________________________________________________________________\n"
          ]
        }
      ]
    },
    {
      "cell_type": "code",
      "source": [
        "layer_outputs = [layer.output for layer in model.layers[1:7]] # 1~6까지 input후 flatten 전까지\n",
        "activation_model = Model(inputs=model.input,outputs=layer_outputs)  # 6개 결과를 내어놓는데, 각 layer의 결과를 볼수 있음"
      ],
      "metadata": {
        "id": "hAKyyrE9qQ2P"
      },
      "execution_count": 15,
      "outputs": []
    },
    {
      "cell_type": "code",
      "source": [
        "layer_outputs[0]"
      ],
      "metadata": {
        "colab": {
          "base_uri": "https://localhost:8080/"
        },
        "id": "kp1-WWQTqTFh",
        "outputId": "6449883b-1386-4b74-dfb7-5b98f08dde0a"
      },
      "execution_count": 17,
      "outputs": [
        {
          "output_type": "execute_result",
          "data": {
            "text/plain": [
              "<KerasTensor: shape=(None, 28, 28, 24) dtype=float32 (created by layer 'conv2d_3')>"
            ]
          },
          "metadata": {},
          "execution_count": 17
        }
      ]
    },
    {
      "cell_type": "code",
      "source": [
        "img =X_test[51].reshape(1,28,28,1)\n",
        "fig = plt.figure(figsize=(5,5))\n",
        "plt.imshow(img[0,:,:,0],cmap=\"gray\")\n",
        "plt.axis('off')"
      ],
      "metadata": {
        "colab": {
          "base_uri": "https://localhost:8080/",
          "height": 440
        },
        "id": "591Xd1ocqV9-",
        "outputId": "b5152072-6fb2-428a-a847-64bdf166bf3f"
      },
      "execution_count": 18,
      "outputs": [
        {
          "output_type": "execute_result",
          "data": {
            "text/plain": [
              "(-0.5, 27.5, 27.5, -0.5)"
            ]
          },
          "metadata": {},
          "execution_count": 18
        },
        {
          "output_type": "display_data",
          "data": {
            "text/plain": [
              "<Figure size 500x500 with 1 Axes>"
            ],
            "image/png": "[encoded data removed]"
          },
          "metadata": {}
        }
      ]
    }
  ]
}