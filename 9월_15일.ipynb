{
  "nbformat": 4,
  "nbformat_minor": 0,
  "metadata": {
    "colab": {
      "provenance": [],
      "authorship_tag": "ABX9TyOy8GHQ7/OmNXOPQzuxEPnr",
      "include_colab_link": true
    },
    "kernelspec": {
      "name": "python3",
      "display_name": "Python 3"
    },
    "language_info": {
      "name": "python"
    }
  },
  "cells": [
    {
      "cell_type": "markdown",
      "metadata": {
        "id": "view-in-github",
        "colab_type": "text"
      },
      "source": [
        "<a href=\"https://colab.research.google.com/github/mskang222/NLP_2023/blob/main/9%EC%9B%94_15%EC%9D%BC.ipynb\" target=\"_parent\"><img src=\"https://colab.research.google.com/assets/colab-badge.svg\" alt=\"Open In Colab\"/></a>"
      ]
    },
    {
      "cell_type": "code",
      "execution_count": 1,
      "metadata": {
        "colab": {
          "base_uri": "https://localhost:8080/",
          "height": 35
        },
        "id": "IWRKB4gBqiae",
        "outputId": "a4cace3e-dbe1-40e4-c713-b1996d069c86"
      },
      "outputs": [
        {
          "output_type": "execute_result",
          "data": {
            "text/plain": [
              "'한남대학교'"
            ],
            "application/vnd.google.colaboratory.intrinsic+json": {
              "type": "string"
            }
          },
          "metadata": {},
          "execution_count": 1
        }
      ],
      "source": [
        "a=\"한남\"\n",
        "b='대학교'\n",
        "c=a+b\n",
        "c"
      ]
    },
    {
      "cell_type": "markdown",
      "source": [
        "#문자열을 만드는 방법\n",
        "1.큰따옴표로 양쪽 둘러싸기"
      ],
      "metadata": {
        "id": "8h8ZtV_br1oh"
      }
    },
    {
      "cell_type": "code",
      "source": [
        "\"hello world\""
      ],
      "metadata": {
        "colab": {
          "base_uri": "https://localhost:8080/",
          "height": 35
        },
        "id": "FkOrRDOrq6q3",
        "outputId": "0f5ff60a-0d89-40f4-e0fd-228d5dc6b6ea"
      },
      "execution_count": 2,
      "outputs": [
        {
          "output_type": "execute_result",
          "data": {
            "text/plain": [
              "'hello world'"
            ],
            "application/vnd.google.colaboratory.intrinsic+json": {
              "type": "string"
            }
          },
          "metadata": {},
          "execution_count": 2
        }
      ]
    },
    {
      "cell_type": "markdown",
      "source": [
        "2.작은따옴표로 양쪽 둘러싸기"
      ],
      "metadata": {
        "id": "kF8sGPMqsFk8"
      }
    },
    {
      "cell_type": "code",
      "source": [
        "'python is fun'"
      ],
      "metadata": {
        "colab": {
          "base_uri": "https://localhost:8080/",
          "height": 35
        },
        "id": "FHxSR2y9sNlm",
        "outputId": "b74bd2d2-dab3-4d5e-db56-81b2e7722360"
      },
      "execution_count": 4,
      "outputs": [
        {
          "output_type": "execute_result",
          "data": {
            "text/plain": [
              "'python is fun'"
            ],
            "application/vnd.google.colaboratory.intrinsic+json": {
              "type": "string"
            }
          },
          "metadata": {},
          "execution_count": 4
        }
      ]
    },
    {
      "cell_type": "markdown",
      "source": [
        "3.큰따옴표 3개를 연속으로 써서 양쪽 둘러싸기"
      ],
      "metadata": {
        "id": "EKNR1GqssSOD"
      }
    },
    {
      "cell_type": "code",
      "source": [
        "\"\"\"python is fun\"\"\""
      ],
      "metadata": {
        "colab": {
          "base_uri": "https://localhost:8080/",
          "height": 35
        },
        "id": "bWxZQpJXsVFM",
        "outputId": "bbbcd05c-a8d3-424b-80e0-21f235be7dea"
      },
      "execution_count": 5,
      "outputs": [
        {
          "output_type": "execute_result",
          "data": {
            "text/plain": [
              "'python is fun'"
            ],
            "application/vnd.google.colaboratory.intrinsic+json": {
              "type": "string"
            }
          },
          "metadata": {},
          "execution_count": 5
        }
      ]
    },
    {
      "cell_type": "markdown",
      "source": [
        "4.작은따옴표 3개를 연속으로 써서 양쪽 둘러싸기"
      ],
      "metadata": {
        "id": "NkeLh6xCsj4l"
      }
    },
    {
      "cell_type": "code",
      "source": [
        "'''python is fun'''"
      ],
      "metadata": {
        "colab": {
          "base_uri": "https://localhost:8080/",
          "height": 35
        },
        "id": "5WQNrsCYsjX4",
        "outputId": "02b25a0e-cea1-4f2a-c49f-8c6f3a7a8248"
      },
      "execution_count": 6,
      "outputs": [
        {
          "output_type": "execute_result",
          "data": {
            "text/plain": [
              "'python is fun'"
            ],
            "application/vnd.google.colaboratory.intrinsic+json": {
              "type": "string"
            }
          },
          "metadata": {},
          "execution_count": 6
        }
      ]
    },
    {
      "cell_type": "markdown",
      "source": [
        "#문자열 안에 작은따옴표나 큰따옴표를 포함시키고 싶을 때\n",
        "1. 문자열에 작은따옴표,큰따옴표 포함하기"
      ],
      "metadata": {
        "id": "bKH6Rft7tDsN"
      }
    },
    {
      "cell_type": "code",
      "source": [
        "#a='phton's favorite color is green' 바깥쪽을 '로 가두면 안에 있는 '을 인식하지 못한다.\n",
        "#만약 안에 \" 가 있으면 ' ' 로 묶어줘야 \"을 문자열 기호로 인식하지 않는다.\n",
        "a=\"phton's favorite color is green\"\n",
        "a"
      ],
      "metadata": {
        "colab": {
          "base_uri": "https://localhost:8080/",
          "height": 35
        },
        "id": "t284sUrWtK1k",
        "outputId": "e7aac370-f5b7-4b3f-a05c-922bc4b70f82"
      },
      "execution_count": 9,
      "outputs": [
        {
          "output_type": "execute_result",
          "data": {
            "text/plain": [
              "\"phton's favorite color is green\""
            ],
            "application/vnd.google.colaboratory.intrinsic+json": {
              "type": "string"
            }
          },
          "metadata": {},
          "execution_count": 9
        }
      ]
    },
    {
      "cell_type": "markdown",
      "source": [
        "2.작은따옴표나 큰따옴표 앞에 역슬래시(\\)를 추가"
      ],
      "metadata": {
        "id": "KYU9V-sst9L5"
      }
    },
    {
      "cell_type": "code",
      "source": [
        "a = 'Python\\'s favorite food is perl'\n",
        "a"
      ],
      "metadata": {
        "colab": {
          "base_uri": "https://localhost:8080/",
          "height": 35
        },
        "id": "-hYN-wsXvbDD",
        "outputId": "5909474b-1244-4e4f-ad97-16b4636dbd21"
      },
      "execution_count": 12,
      "outputs": [
        {
          "output_type": "execute_result",
          "data": {
            "text/plain": [
              "\"Python's favorite food is perl\""
            ],
            "application/vnd.google.colaboratory.intrinsic+json": {
              "type": "string"
            }
          },
          "metadata": {},
          "execution_count": 12
        }
      ]
    }
  ]
}