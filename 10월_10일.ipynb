{
  "nbformat": 4,
  "nbformat_minor": 0,
  "metadata": {
    "colab": {
      "provenance": [],
      "authorship_tag": "ABX9TyMxQcrsnp+GDYQFxCTOf2kZ",
      "include_colab_link": true
    },
    "kernelspec": {
      "name": "python3",
      "display_name": "Python 3"
    },
    "language_info": {
      "name": "python"
    }
  },
  "cells": [
    {
      "cell_type": "markdown",
      "metadata": {
        "id": "view-in-github",
        "colab_type": "text"
      },
      "source": [
        "<a href=\"https://colab.research.google.com/github/mskang222/NLP_2023/blob/main/10%EC%9B%94_10%EC%9D%BC.ipynb\" target=\"_parent\"><img src=\"https://colab.research.google.com/assets/colab-badge.svg\" alt=\"Open In Colab\"/></a>"
      ]
    },
    {
      "cell_type": "markdown",
      "source": [
        "#딕셔너리 만들 때 주의할 사항"
      ],
      "metadata": {
        "id": "kN6OGgHhABmc"
      }
    },
    {
      "cell_type": "code",
      "execution_count": 2,
      "metadata": {
        "colab": {
          "base_uri": "https://localhost:8080/"
        },
        "id": "8lKvrfQg_zyg",
        "outputId": "661fce6b-7d90-487e-e42f-f8aec138f3ce"
      },
      "outputs": [
        {
          "output_type": "execute_result",
          "data": {
            "text/plain": [
              "{1: 'b'}"
            ]
          },
          "metadata": {},
          "execution_count": 2
        }
      ],
      "source": [
        "#딕셔너리에서 Key는 고유한 값이기 때문에 중복되는 Key 값을 설정해 놓으면 하나를 제외한 나머지 것들이 모두 무시된다\n",
        "a = {1:'a', 1:'b'}\n",
        "a"
      ]
    },
    {
      "cell_type": "markdown",
      "source": [
        "#딕셔너리 관련 함수"
      ],
      "metadata": {
        "id": "6Yuja6xEArHm"
      }
    },
    {
      "cell_type": "markdown",
      "source": [
        "Key 리스트 만들기 - keys"
      ],
      "metadata": {
        "id": "EqGRE0V_AvQd"
      }
    },
    {
      "cell_type": "code",
      "source": [
        "a = {'name': 'pey', 'phone': '010-9999-1234', 'birth': '1118'}\n",
        "a.keys()  #a.keys()는 딕셔너리 a의 Key만을 모아 dict_keys 객체를 리턴한다."
      ],
      "metadata": {
        "colab": {
          "base_uri": "https://localhost:8080/"
        },
        "id": "2Mwv3S_mAHJ8",
        "outputId": "0baa1159-01c3-4a18-df0d-0f213a6662b1"
      },
      "execution_count": 3,
      "outputs": [
        {
          "output_type": "execute_result",
          "data": {
            "text/plain": [
              "dict_keys(['name', 'phone', 'birth'])"
            ]
          },
          "metadata": {},
          "execution_count": 3
        }
      ]
    },
    {
      "cell_type": "markdown",
      "source": [
        "dict_keys 객체를 리스트로 변환하는 방법"
      ],
      "metadata": {
        "id": "hBzFAEToBWsw"
      }
    },
    {
      "cell_type": "code",
      "source": [
        "list(a.keys())"
      ],
      "metadata": {
        "colab": {
          "base_uri": "https://localhost:8080/"
        },
        "id": "EoalUX-hA56X",
        "outputId": "168c693f-35ee-48a6-ea5e-0b9daa56f82d"
      },
      "execution_count": 4,
      "outputs": [
        {
          "output_type": "execute_result",
          "data": {
            "text/plain": [
              "['name', 'phone', 'birth']"
            ]
          },
          "metadata": {},
          "execution_count": 4
        }
      ]
    },
    {
      "cell_type": "markdown",
      "source": [
        "Value 리스트 만들기 - values"
      ],
      "metadata": {
        "id": "TBaGmTGbBz9N"
      }
    },
    {
      "cell_type": "code",
      "source": [
        "a.values() #values 함수를 호출하면 dict_values 객체를 리턴한다."
      ],
      "metadata": {
        "colab": {
          "base_uri": "https://localhost:8080/"
        },
        "id": "mEn3ukwaBzUk",
        "outputId": "a5b1e93e-b1f7-4753-c7a6-7770a17c713e"
      },
      "execution_count": 5,
      "outputs": [
        {
          "output_type": "execute_result",
          "data": {
            "text/plain": [
              "dict_values(['pey', '010-9999-1234', '1118'])"
            ]
          },
          "metadata": {},
          "execution_count": 5
        }
      ]
    },
    {
      "cell_type": "markdown",
      "source": [
        "Key, Value 쌍 얻기 - items"
      ],
      "metadata": {
        "id": "3lMFMWfMCB-G"
      }
    },
    {
      "cell_type": "code",
      "source": [
        "a.items() #items 함수는 Key와 Value의 쌍을 튜플로 묶은 값을 dict_items 객체로 리턴한다."
      ],
      "metadata": {
        "colab": {
          "base_uri": "https://localhost:8080/"
        },
        "id": "JfMnUA2EBdEE",
        "outputId": "fafd134d-3ccf-4329-9946-31a73f503b7e"
      },
      "execution_count": 6,
      "outputs": [
        {
          "output_type": "execute_result",
          "data": {
            "text/plain": [
              "dict_items([('name', 'pey'), ('phone', '010-9999-1234'), ('birth', '1118')])"
            ]
          },
          "metadata": {},
          "execution_count": 6
        }
      ]
    },
    {
      "cell_type": "markdown",
      "source": [
        "Key: Value 쌍 모두 지우기 - clear"
      ],
      "metadata": {
        "id": "jLtzsPhFECxI"
      }
    },
    {
      "cell_type": "code",
      "source": [
        "a.clear()\n",
        "a"
      ],
      "metadata": {
        "colab": {
          "base_uri": "https://localhost:8080/"
        },
        "id": "7cib0oIMCKQ4",
        "outputId": "8024e153-6283-4826-8eff-f2798134fa03"
      },
      "execution_count": 7,
      "outputs": [
        {
          "output_type": "execute_result",
          "data": {
            "text/plain": [
              "{}"
            ]
          },
          "metadata": {},
          "execution_count": 7
        }
      ]
    }
  ]
}