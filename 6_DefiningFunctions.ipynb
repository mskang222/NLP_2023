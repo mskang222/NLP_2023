{
  "nbformat": 4,
  "nbformat_minor": 0,
  "metadata": {
    "colab": {
      "provenance": [],
      "include_colab_link": true
    },
    "kernelspec": {
      "name": "python3",
      "display_name": "Python 3"
    },
    "language_info": {
      "name": "python"
    }
  },
  "cells": [
    {
      "cell_type": "markdown",
      "metadata": {
        "id": "view-in-github",
        "colab_type": "text"
      },
      "source": [
        "<a href=\"https://colab.research.google.com/github/mskang222/NLP_2023/blob/main/6_DefiningFunctions.ipynb\" target=\"_parent\"><img src=\"https://colab.research.google.com/assets/colab-badge.svg\" alt=\"Open In Colab\"/></a>"
      ]
    },
    {
      "cell_type": "markdown",
      "source": [
        "## **Function 함수**"
      ],
      "metadata": {
        "id": "Z7LCdzhzPZdZ"
      }
    },
    {
      "cell_type": "markdown",
      "source": [
        "### **Return** statement in a function\n",
        "\n",
        "- Functions with a <font color = 'red'>return</font> statement produce <font color = 'red'> a value as its result</font>, and the function execution stops at that point.\n",
        "- Functions without a return statement still execute but implicitly return None.\n",
        "- Whether to use a return statement depends on whether you want the function to produce a value <font color = 'red'>**that can be used elsewhere**</font> in your code. If you don't need to return a result, not having a return statement is perfectly fine."
      ],
      "metadata": {
        "id": "RexAen-aOyMx"
      }
    },
    {
      "cell_type": "code",
      "execution_count": null,
      "metadata": {
        "id": "v-gjA5sdhg68"
      },
      "outputs": [],
      "source": [
        "#1. string argument 문자열 인자\n",
        "#a.\n",
        "def add_txt(t1,t2):    #string을 이용했을 때, 리턴값이 없는 함수 예시\n",
        "  print (t1 + t2)\n",
        "\n",
        "#b\n",
        "def add_txt(t1, t2):    #string을 이용했을 때, 리턴값이 있는 함수 예시\n",
        "    result = t1 + t2\n",
        "    return result\n"
      ]
    },
    {
      "cell_type": "code",
      "source": [
        "def add_txt(t1,t2):\n",
        "  result = t1+t2\n",
        "  return result\n",
        "\n",
        "text1 = \"Fall \"\n",
        "text2 = \"Semester\"\n",
        "\n",
        "combined_text = add_txt(text1,text2)\n",
        "print(combined_text)"
      ],
      "metadata": {
        "colab": {
          "base_uri": "https://localhost:8080/"
        },
        "id": "OdiYpMZNbV_B",
        "outputId": "4af82c3b-ab70-45ad-9c7f-7be324143137"
      },
      "execution_count": null,
      "outputs": [
        {
          "output_type": "stream",
          "name": "stdout",
          "text": [
            "Fall Semester\n"
          ]
        }
      ]
    },
    {
      "cell_type": "code",
      "source": [
        "#1.b\n",
        "\n",
        "def add_txt(t1, t2):\n",
        "    result = t1 + t2\n",
        "    return result\n",
        "\n",
        "# Define two strings as arguments\n",
        "text1 = \"Hello, \"\n",
        "text2 = \"World!\"\n",
        "\n",
        "# Calling the add_txt function with the defined arguments\n",
        "combined_text = add_txt(text1, text2)\n",
        "\n",
        "# Printing the result\n",
        "print(combined_text)"
      ],
      "metadata": {
        "id": "fGQY9jpNTqPe",
        "outputId": "800bb22c-44ad-4a34-9666-1115b3c4154e",
        "colab": {
          "base_uri": "https://localhost:8080/"
        }
      },
      "execution_count": null,
      "outputs": [
        {
          "output_type": "stream",
          "name": "stdout",
          "text": [
            "Hello, World!\n"
          ]
        }
      ]
    },
    {
      "cell_type": "code",
      "source": [
        "def add_number(n1,n2):\n",
        "  print(n1+n2)\n",
        "\n",
        "def add_number(n1,n2):\n",
        "  result = n1+n2\n",
        "  return result"
      ],
      "metadata": {
        "id": "f-ICLEFqcM02"
      },
      "execution_count": null,
      "outputs": []
    },
    {
      "cell_type": "code",
      "source": [
        "#2 number argument 숫자 인자\n",
        "#a\n",
        "def add_number(n1,n2):\n",
        "  print(n1 + n2)  #numbers를 이용했을 때, 리턴값이 없는 함수 예시\n",
        "\n",
        "#b\n",
        "def add_number(n1,n2):\n",
        "  result = n1 + n2     #numbers를 이용했을 때, 리턴값이 있는 함수 예시\n",
        "  return result"
      ],
      "metadata": {
        "id": "p9_K7wO1bexs"
      },
      "execution_count": null,
      "outputs": []
    },
    {
      "cell_type": "markdown",
      "source": [
        "## 🐹🐾 **Place holders<font color = 'gray'>(자리 표시자)**\n",
        "  - %d and %s are placeholders used for string formatting.\n",
        "  - They are used in strings to represent where you want to insert specific values, such as numbers or strings. Here's what they mean:\n",
        "\n",
        "    - <font color = 'red'> %d: This is a placeholder for formatting **integers (decimal integers)**. When you use %d in a string, it's _replaced with an integer value_.</font>\n",
        "\n",
        "    - <font color = 'green'> %s: This is a placeholder for formatting **strings**. When you use %s in a string, it's _replaced with a string value_.\n",
        "\n"
      ],
      "metadata": {
        "id": "725iuSrMwFlJ"
      }
    },
    {
      "cell_type": "code",
      "source": [
        "#Example of place holders such as %d and %s\n",
        "\n",
        "name = \"Alice\"\n",
        "score = 95\n",
        "age = 18\n",
        "\n",
        "\n",
        "# Using %s and %d for string formatting\n",
        "test_result = \"You scored %d on the test.\" % score\n",
        "print(test_result)\n",
        "\n",
        "greeting = \"Hello, %s! You turn to finally %d years old finally.\" % (name, age)\n",
        "print(greeting)\n",
        "\n",
        "\n",
        "\n",
        "#Alternatively\n",
        "print(\"You scored %d on the test.\" %score)\n",
        "print(\"Hello, %s! You turn to finally %d years old finally.\" %(name, age))"
      ],
      "metadata": {
        "id": "icGcG4O3wMof",
        "outputId": "81a82d39-78ae-42e0-bef4-126b2f5b2435",
        "colab": {
          "base_uri": "https://localhost:8080/"
        }
      },
      "execution_count": null,
      "outputs": [
        {
          "output_type": "stream",
          "name": "stdout",
          "text": [
            "You scored 95 on the test.\n",
            "Hello, Alice! You turn to finally 18 years old finally.\n",
            "You scored 95 on the test.\n",
            "Hello, Alice! You turn to finally 18 years old finally.\n"
          ]
        }
      ]
    },
    {
      "cell_type": "code",
      "source": [
        "name = \"Alice\"\n",
        "score = 95\n",
        "age = 18\n",
        "\n",
        "test_result = \"You scored %d on the test.\" %score\n",
        "print(test_result)\n",
        "\n",
        "greeting = \"Hello, %s! You turn to finally %d years old finally.\" %(name,age)\n",
        "print(greeting)\n",
        "\n",
        "print(\"You scored %d on the test.\" %score)\n",
        "print(\"Hello, %s! You turn to finally %d years old finally.\" %(name,age))"
      ],
      "metadata": {
        "colab": {
          "base_uri": "https://localhost:8080/"
        },
        "id": "iXXKbeS8c3uF",
        "outputId": "dfe8b25e-b100-41ce-d27f-0db8e6b785ef"
      },
      "execution_count": null,
      "outputs": [
        {
          "output_type": "stream",
          "name": "stdout",
          "text": [
            "You scored 95 on the test.\n",
            "Hello, Alice! You turn to finally 18 years old finally.\n",
            "You scored 95 on the test.\n",
            "Hello, Alice! You turn to finally 18 years old finally.\n"
          ]
        }
      ]
    },
    {
      "cell_type": "code",
      "source": [
        "age=24\n",
        "a= \"im %d years old.\" %age\n",
        "print(a)"
      ],
      "metadata": {
        "colab": {
          "base_uri": "https://localhost:8080/"
        },
        "id": "WcOmC7n4eIiB",
        "outputId": "c1f1ca7b-9ccb-469e-8715-cd61bb97d44a"
      },
      "execution_count": null,
      "outputs": [
        {
          "output_type": "stream",
          "name": "stdout",
          "text": [
            "im 24 years old.\n"
          ]
        }
      ]
    },
    {
      "cell_type": "code",
      "source": [
        "#2b\n",
        "\n",
        "def add(a, b):\n",
        "    result = a + b\n",
        "    return result\n",
        "\n",
        "num1 = 5\n",
        "num2 = 3\n",
        "\n",
        "sum_result = add(num1, num2)\n",
        "\n",
        "# Using the % operator for string formatting\n",
        "\n",
        "print(\"The sum of %d and %d is %d\" % (num1, num2, sum_result))"
      ],
      "metadata": {
        "id": "jDpKRpftWT0e",
        "outputId": "da08af90-6c37-4aa6-fa67-5461008be1a8",
        "colab": {
          "base_uri": "https://localhost:8080/"
        }
      },
      "execution_count": null,
      "outputs": [
        {
          "output_type": "stream",
          "name": "stdout",
          "text": [
            "The sum of 5 and 3 is 8\n"
          ]
        }
      ]
    },
    {
      "cell_type": "code",
      "source": [
        "def add(a,b):\n",
        "  result = a+b\n",
        "  return result\n",
        "\n",
        "num1 = 370000\n",
        "num2 = 730000\n",
        "sum_result = add(num1,num2)\n",
        "\n",
        "print(\"The sum of %d and %d is %d\" %(num1,num2,sum_result))"
      ],
      "metadata": {
        "colab": {
          "base_uri": "https://localhost:8080/"
        },
        "id": "GtWUvjyFfG1H",
        "outputId": "d6d108ab-edbe-43b3-cc8c-065933d61cb3"
      },
      "execution_count": null,
      "outputs": [
        {
          "output_type": "stream",
          "name": "stdout",
          "text": [
            "The sum of 370000 and 730000 is 1100000\n"
          ]
        }
      ]
    },
    {
      "cell_type": "code",
      "source": [
        "#2b'\n",
        "\n",
        "def add_and_print(a, b):\n",
        "    result = a + b\n",
        "    print(\"The sum of %d and %d is %d.\" % (a, b, result))\n",
        "    return result\n",
        "\n",
        "# Call the function\n",
        "sum_result = add_and_print(3, 4)"
      ],
      "metadata": {
        "id": "XNsEX5ijVCBJ",
        "outputId": "97aaccb6-bbee-4db4-af5d-d0873e64580d",
        "colab": {
          "base_uri": "https://localhost:8080/"
        }
      },
      "execution_count": null,
      "outputs": [
        {
          "output_type": "stream",
          "name": "stdout",
          "text": [
            "The sum of 3 and 4 is 7.\n"
          ]
        }
      ]
    },
    {
      "cell_type": "code",
      "source": [
        "def add_and_print(a,b):\n",
        "  result = a+b\n",
        "  print(\"The sum of %d and %d is %d\" %(a,b,result))\n",
        "  return result\n",
        "\n",
        "sum_result = add_and_print(3,4)"
      ],
      "metadata": {
        "colab": {
          "base_uri": "https://localhost:8080/"
        },
        "id": "kr66LSW6gFBm",
        "outputId": "94e997c5-73e7-4bf9-95ad-fe72f6553fdd"
      },
      "execution_count": null,
      "outputs": [
        {
          "output_type": "stream",
          "name": "stdout",
          "text": [
            "The sum of 3 and 4 is 7\n"
          ]
        }
      ]
    },
    {
      "cell_type": "markdown",
      "source": [
        "##### ⚡ 키워드 인자: 함수 호출 때 괄호 안에 등호를 사용하여 표시할 때 이를 키워드 인자라고 한다. 예시 add_txt1(t1='My friend', t2='Python')\n",
        "##### ⚡ 기본 인자 (e.g., t2='Python'): 함수 호출 때 t2 위치에 실제 값을 전달하지 않아도 'Python'이 기본값으로 대입됨\n"
      ],
      "metadata": {
        "id": "pgqX3r2RVFyE"
      }
    },
    {
      "cell_type": "code",
      "source": [
        "# 위의 함수 정의 및 호출 이해 완료\n",
        "def add_txt1(t1,t2='Python'): #add_txt1은 t1과 t2를 ':'로 연결한 뒤 출력하는 함수다.\n",
        "  print(t1 + ':' + t2) # 연결 기호 + 실수 했음\n",
        "\n",
        "add_txt1('Best') #add_txt1 함수를 호출하고 있음. 기본값 t2='Python'을 사용하며 호출\n",
        "add_txt1(t1='My friend', t2='Python') #add_txt1 함수를 호출하고 있음. 인자 이름을 명시하며 (=키워드 인자를 사용하며) 호출\n",
        "add_txt1(t1='My buddy')\n",
        "\n"
      ],
      "metadata": {
        "id": "NqusozFRVQ8Z",
        "outputId": "f5fbf1a1-961c-4ab1-dccc-18d87536d7b7",
        "colab": {
          "base_uri": "https://localhost:8080/"
        }
      },
      "execution_count": null,
      "outputs": [
        {
          "output_type": "stream",
          "name": "stdout",
          "text": [
            "Best:Python\n",
            "My friend:Python\n",
            "My buddy:Python\n"
          ]
        }
      ]
    },
    {
      "cell_type": "code",
      "source": [
        "def add_txt1(t1,t2='Python'):\n",
        "  print(t1 + ':' +t2)\n",
        "\n",
        "add_txt1('Best')\n",
        "add_txt1(t1='My friend', t2='Python')\n",
        "add_txt1(t1= 'My buddy')\n"
      ],
      "metadata": {
        "colab": {
          "base_uri": "https://localhost:8080/"
        },
        "id": "-haugyxXiO_2",
        "outputId": "d2be77c6-4f6d-488d-cbbd-79b482600848"
      },
      "execution_count": null,
      "outputs": [
        {
          "output_type": "stream",
          "name": "stdout",
          "text": [
            "Best:Python\n",
            "My friend:Python\n",
            "My buddy:Python\n"
          ]
        }
      ]
    },
    {
      "cell_type": "markdown",
      "source": [
        "#### ⚡ **<font color = 'red'> 가변 인자 (*args) </font>**는 인자의 개수가 명확치 않을 때 사용한다.\n",
        "- #### Variable-length arguments (i.e., varargs) allow you to pass different numbers of arguments to a function, and the function can work with them flexibly.\n",
        "- #### The *args parameter collects all the positional arguments passed to the function and makes them accessible as a _tuple_ within the function.\n",
        "\n"
      ],
      "metadata": {
        "id": "SmGNZArBgZq_"
      }
    },
    {
      "cell_type": "code",
      "source": [
        "def func_uncertain(*args):\n",
        "  print(args)\n",
        "\n",
        "func_uncertain() #*args에 아무값도 전달 안하고 함수를 호출하면 빈 튜플로 결과가 출력된다.\n",
        "\n",
        "# Calling the function with different numbers of positional arguments\n",
        "func_uncertain(1, 2, 3)\n",
        "func_uncertain('apple', 'banana', 'cherry', 'date')\n",
        "func_uncertain(True)"
      ],
      "metadata": {
        "id": "hUWjH2ZNiiTM",
        "outputId": "17c1d5c8-bc4d-4056-81b1-8c1569c92bcf",
        "colab": {
          "base_uri": "https://localhost:8080/"
        }
      },
      "execution_count": null,
      "outputs": [
        {
          "output_type": "stream",
          "name": "stdout",
          "text": [
            "()\n",
            "(1, 2, 3)\n",
            "('apple', 'banana', 'cherry', 'date')\n",
            "(True,)\n"
          ]
        }
      ]
    },
    {
      "cell_type": "code",
      "source": [
        "def func_uncertain(*args):\n",
        "  print(args)\n",
        "\n",
        "func_uncertain()\n",
        "\n",
        "func_uncertain(1,2,3)\n",
        "func_uncertain('apple','banana','cherry','date')\n",
        "func_uncertain(True)"
      ],
      "metadata": {
        "colab": {
          "base_uri": "https://localhost:8080/"
        },
        "id": "eR1lmTtvjZ1v",
        "outputId": "c93b8ddb-3a10-4190-c400-09ddfbab1f6d"
      },
      "execution_count": null,
      "outputs": [
        {
          "output_type": "stream",
          "name": "stdout",
          "text": [
            "()\n",
            "(1, 2, 3)\n",
            "('apple', 'banana', 'cherry', 'date')\n",
            "(True,)\n"
          ]
        }
      ]
    },
    {
      "cell_type": "markdown",
      "source": [
        "#### ⚡ <font color = 'blue'> 키워드 가변 인자 (**kwargs)</font>는 차후 어떤 키워드 인자가 필요한지 미확정 되었을 때 사용한다.\n",
        "- #### A <font color = 'blue'> **keyword argument**</font>, also known as a named argument, is a way to pass arguments to a function in a way that specifies **the parameter name along with the value**. In Python, you can use keyword arguments to make function calls more explicit and self-documenting by **explicitly naming the parameters you are providing values for**.\n"
      ],
      "metadata": {
        "id": "WXchx1DkjzML"
      }
    },
    {
      "cell_type": "code",
      "source": [
        "def func_kwa(width, height, **kwargs):  #함수 정의 때 TWO asterisks 인 것을 주의하자. 또한 인자는 string 이 아니기 때문에 ''를 동반 사용 X\n",
        "  print(kwargs)\n",
        "\n",
        "func_kwa(10, 20) #*kwargs에 아무값도 전달 안하면서 함수를 호출하면 empty dictionary(빈 사전)로 결과가 출력된다.\n",
        "func_kwa(10, 20, depth=30, color='blue') #kwargs(키워드인자) 두 개 추가."
      ],
      "metadata": {
        "id": "fJCbIeafeFcH",
        "outputId": "ae60559c-4048-4fed-f412-a20cdd62f659",
        "colab": {
          "base_uri": "https://localhost:8080/"
        }
      },
      "execution_count": null,
      "outputs": [
        {
          "output_type": "stream",
          "name": "stdout",
          "text": [
            "{}\n",
            "{'depth': 30, 'color': 'blue'}\n"
          ]
        }
      ]
    },
    {
      "cell_type": "code",
      "source": [
        "def func_kwa(width, height, **kwargs):\n",
        "  print(kwargs)\n",
        "\n",
        "func_kwa(10,20)\n",
        "func_kwa(10,20, depth = 30, color= 'blue')"
      ],
      "metadata": {
        "colab": {
          "base_uri": "https://localhost:8080/"
        },
        "id": "cuCM8xemkoL0",
        "outputId": "8081e9e4-fe16-4f43-bc9f-094898f62c35"
      },
      "execution_count": null,
      "outputs": [
        {
          "output_type": "stream",
          "name": "stdout",
          "text": [
            "{}\n",
            "{'depth': 30, 'color': 'blue'}\n"
          ]
        }
      ]
    },
    {
      "cell_type": "markdown",
      "source": [
        "#####  🌀 리스트의 요소 중 하나가 function 함수인 경우"
      ],
      "metadata": {
        "id": "od69Xw-YnZl8"
      }
    },
    {
      "cell_type": "code",
      "source": [
        "def myfunction():\n",
        "  print ('Hello World!')\n",
        "\n",
        "list = [1, 2, myfunction]\n",
        "\n",
        "#아래 각 코드라인에서, 리스트에서 2 번째 요소가 myfunction 함수라서, myfunction 함수에 인자 자리 ( )를 넣는 것과 list[2]( )는 같은 code line으로 볼 수 있다.\n",
        "list[2]()\n",
        "myfunction()"
      ],
      "metadata": {
        "id": "zwR-XAzLxXz_",
        "outputId": "9f60d010-27f3-498e-fb60-31ba48326414",
        "colab": {
          "base_uri": "https://localhost:8080/"
        }
      },
      "execution_count": null,
      "outputs": [
        {
          "output_type": "stream",
          "name": "stdout",
          "text": [
            "Hello World!\n",
            "Hello World!\n"
          ]
        }
      ]
    },
    {
      "cell_type": "code",
      "source": [
        "def myfunction():\n",
        "  print('Hello World!')\n",
        "\n",
        "list = [1,2,myfunction]\n",
        "\n",
        "list[2]()\n",
        "myfunction()"
      ],
      "metadata": {
        "colab": {
          "base_uri": "https://localhost:8080/"
        },
        "id": "Ia7TOvyzlmIa",
        "outputId": "5cb3015e-8edb-4b9b-f8bc-78e44a69b225"
      },
      "execution_count": null,
      "outputs": [
        {
          "output_type": "stream",
          "name": "stdout",
          "text": [
            "Hello World!\n",
            "Hello World!\n"
          ]
        }
      ]
    },
    {
      "cell_type": "markdown",
      "source": [
        "## 🔥🐹🐶🐤🐭 <font color = 'organge'>**Find a basic Python textbook, read and exercise the content about functions thoroughly!**"
      ],
      "metadata": {
        "id": "6gRdfX6wktcA"
      }
    }
  ]
}