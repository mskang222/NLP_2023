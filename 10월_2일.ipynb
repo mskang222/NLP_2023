{
  "nbformat": 4,
  "nbformat_minor": 0,
  "metadata": {
    "colab": {
      "provenance": [],
      "authorship_tag": "ABX9TyOTZf0oGqscDns3mJwmiMkG",
      "include_colab_link": true
    },
    "kernelspec": {
      "name": "python3",
      "display_name": "Python 3"
    },
    "language_info": {
      "name": "python"
    }
  },
  "cells": [
    {
      "cell_type": "markdown",
      "metadata": {
        "id": "view-in-github",
        "colab_type": "text"
      },
      "source": [
        "<a href=\"https://colab.research.google.com/github/mskang222/NLP_2023/blob/main/10%EC%9B%94_2%EC%9D%BC.ipynb\" target=\"_parent\"><img src=\"https://colab.research.google.com/assets/colab-badge.svg\" alt=\"Open In Colab\"/></a>"
      ]
    },
    {
      "cell_type": "markdown",
      "source": [
        "리스트에 요소 삽입 - insert"
      ],
      "metadata": {
        "id": "fXBe88JrnhkI"
      }
    },
    {
      "cell_type": "code",
      "execution_count": 1,
      "metadata": {
        "colab": {
          "base_uri": "https://localhost:8080/"
        },
        "id": "Y56rfZf1nYuW",
        "outputId": "916554e4-0fb6-4a7b-ad6a-ea9908a7e7bc"
      },
      "outputs": [
        {
          "output_type": "execute_result",
          "data": {
            "text/plain": [
              "[4, 1, 2, 3]"
            ]
          },
          "metadata": {},
          "execution_count": 1
        }
      ],
      "source": [
        "#insert(a, b)는 리스트의 a번째 위치에 b를 삽입하는 함수\n",
        "a = [1, 2, 3]\n",
        "a.insert(0, 4)\n",
        "a"
      ]
    },
    {
      "cell_type": "code",
      "source": [
        "a.insert(3, 5)\n",
        "a"
      ],
      "metadata": {
        "colab": {
          "base_uri": "https://localhost:8080/"
        },
        "id": "bJgR4OflnsOS",
        "outputId": "81bcf97d-7f47-4b4f-d2ec-50999528efd3"
      },
      "execution_count": 2,
      "outputs": [
        {
          "output_type": "execute_result",
          "data": {
            "text/plain": [
              "[4, 1, 2, 5, 3]"
            ]
          },
          "metadata": {},
          "execution_count": 2
        }
      ]
    },
    {
      "cell_type": "markdown",
      "source": [
        "리스트 요소 제거 - remove"
      ],
      "metadata": {
        "id": "hce3XVWWn0Tb"
      }
    },
    {
      "cell_type": "code",
      "source": [
        "#remove(x)는 리스트에서 첫 번째로 나오는 x를 삭제하는 함수\n",
        "a = [1, 2, 3, 1, 2, 3]\n",
        "a.remove(3)     #a가 3이라는 값을 2개 가지고 있을 경우, 첫 번째 3만 제거\n",
        "a"
      ],
      "metadata": {
        "colab": {
          "base_uri": "https://localhost:8080/"
        },
        "id": "s_y2CMGmnyTN",
        "outputId": "a831ce7a-7804-4ef4-a898-5d790b68decd"
      },
      "execution_count": 3,
      "outputs": [
        {
          "output_type": "execute_result",
          "data": {
            "text/plain": [
              "[1, 2, 1, 2, 3]"
            ]
          },
          "metadata": {},
          "execution_count": 3
        }
      ]
    },
    {
      "cell_type": "code",
      "source": [
        "a.remove(3)   #remove(3)을 한 번 더 실행하면 다시 3이 삭제된다.\n",
        "a"
      ],
      "metadata": {
        "colab": {
          "base_uri": "https://localhost:8080/"
        },
        "id": "Y5NVh8wwn8DZ",
        "outputId": "4e4ec871-6270-48b1-9c48-531cf71f2a4c"
      },
      "execution_count": 4,
      "outputs": [
        {
          "output_type": "execute_result",
          "data": {
            "text/plain": [
              "[1, 2, 1, 2]"
            ]
          },
          "metadata": {},
          "execution_count": 4
        }
      ]
    },
    {
      "cell_type": "markdown",
      "source": [
        "리스트 요소 끄집어 내기 - pop"
      ],
      "metadata": {
        "id": "V4RdCCPUoLEn"
      }
    },
    {
      "cell_type": "code",
      "source": [
        "#pop()은 리스트의 맨 마지막 요소를 리턴하고 그 요소는 삭제한다.\n",
        "a = [1, 2, 3]\n",
        "a.pop()"
      ],
      "metadata": {
        "colab": {
          "base_uri": "https://localhost:8080/"
        },
        "id": "i_9wQ9RloIt4",
        "outputId": "62b10720-3eca-41b8-f9e7-61dbbc7ad157"
      },
      "execution_count": 5,
      "outputs": [
        {
          "output_type": "execute_result",
          "data": {
            "text/plain": [
              "3"
            ]
          },
          "metadata": {},
          "execution_count": 5
        }
      ]
    },
    {
      "cell_type": "code",
      "source": [
        "a    #[1, 2, 3]에서 3을 끄집어 내고 최종적으로 [1, 2]만 남는다."
      ],
      "metadata": {
        "colab": {
          "base_uri": "https://localhost:8080/"
        },
        "id": "8Kl5SDf1oQ-H",
        "outputId": "aa8c175f-de1b-47ca-a6e8-f46073bcb834"
      },
      "execution_count": 6,
      "outputs": [
        {
          "output_type": "execute_result",
          "data": {
            "text/plain": [
              "[1, 2]"
            ]
          },
          "metadata": {},
          "execution_count": 6
        }
      ]
    },
    {
      "cell_type": "code",
      "source": [
        "#pop(x)는 리스트의 x번째 요소를 리턴하고 그 요소는 삭제한다\n",
        "a = [1, 2, 3]\n",
        "a.pop(1)  #a.pop(1)은 a[1]의 값을 끄집어 내어 리턴한다."
      ],
      "metadata": {
        "colab": {
          "base_uri": "https://localhost:8080/"
        },
        "id": "o2Ki4HF5oWTE",
        "outputId": "e38c9657-6cc3-428a-cf08-ac31dfe019fa"
      },
      "execution_count": 7,
      "outputs": [
        {
          "output_type": "execute_result",
          "data": {
            "text/plain": [
              "2"
            ]
          },
          "metadata": {},
          "execution_count": 7
        }
      ]
    },
    {
      "cell_type": "code",
      "source": [
        "a"
      ],
      "metadata": {
        "colab": {
          "base_uri": "https://localhost:8080/"
        },
        "id": "kh4hsAuuohiE",
        "outputId": "e31b5253-1049-43e2-aa99-834f5ea4e3cf"
      },
      "execution_count": 9,
      "outputs": [
        {
          "output_type": "execute_result",
          "data": {
            "text/plain": [
              "[1, 3]"
            ]
          },
          "metadata": {},
          "execution_count": 9
        }
      ]
    }
  ]
}