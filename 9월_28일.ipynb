{
  "nbformat": 4,
  "nbformat_minor": 0,
  "metadata": {
    "colab": {
      "provenance": [],
      "authorship_tag": "ABX9TyNQZi4eqNFk9ohscbsYhOlq",
      "include_colab_link": true
    },
    "kernelspec": {
      "name": "python3",
      "display_name": "Python 3"
    },
    "language_info": {
      "name": "python"
    }
  },
  "cells": [
    {
      "cell_type": "markdown",
      "metadata": {
        "id": "view-in-github",
        "colab_type": "text"
      },
      "source": [
        "<a href=\"https://colab.research.google.com/github/mskang222/NLP_2023/blob/main/9%EC%9B%94_28%EC%9D%BC.ipynb\" target=\"_parent\"><img src=\"https://colab.research.google.com/assets/colab-badge.svg\" alt=\"Open In Colab\"/></a>"
      ]
    },
    {
      "cell_type": "markdown",
      "source": [
        "라이브러리 임포트\n",
        "실습에 필요한 라이브러리를 임포트합니다."
      ],
      "metadata": {
        "id": "QCNSiPlzTA2E"
      }
    },
    {
      "cell_type": "code",
      "execution_count": null,
      "metadata": {
        "id": "S0r45PxLSfQN"
      },
      "outputs": [],
      "source": [
        "import pandas as pd\n",
        "import numpy as np\n",
        "\n",
        "# sklearn train_test_split의 동일한 결과 출력을 위해 선언합니다.\n",
        "np.random.seed(5)"
      ]
    },
    {
      "cell_type": "markdown",
      "source": [
        "데이터 수집"
      ],
      "metadata": {
        "id": "UaIhxXyGTERZ"
      }
    },
    {
      "cell_type": "code",
      "source": [
        "# 데이터를 수집합니다\n",
        "df = pd.read_csv(\"https://raw.githubusercontent.com/wikibook/machine-learning/2.0/data/csv/basketball_stat.csv\")"
      ],
      "metadata": {
        "id": "f-H_V6G8TDw5"
      },
      "execution_count": null,
      "outputs": []
    },
    {
      "cell_type": "code",
      "source": [
        "# 수집된 데이터 샘플을 확인합니다\n",
        "df.head()"
      ],
      "metadata": {
        "id": "ZRgllCikTJ5y"
      },
      "execution_count": null,
      "outputs": []
    },
    {
      "cell_type": "code",
      "source": [
        "df['Pos'] #df['??']: 데이터의 column(??)을 확인하는 방법"
      ],
      "metadata": {
        "id": "rpbXWUWJTN2E"
      },
      "execution_count": null,
      "outputs": []
    },
    {
      "cell_type": "code",
      "source": [
        "# 현재 가지고 있는 데이터에서, 포지션의 갯수를 확인한다\n",
        "df.Pos.value_counts()"
      ],
      "metadata": {
        "id": "2kZDc5wjTQJG"
      },
      "execution_count": null,
      "outputs": []
    }
  ]
}