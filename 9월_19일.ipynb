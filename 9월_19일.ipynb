{
  "nbformat": 4,
  "nbformat_minor": 0,
  "metadata": {
    "colab": {
      "provenance": [],
      "authorship_tag": "ABX9TyOEoCUQ/paoYP4A1U1vy9Dw",
      "include_colab_link": true
    },
    "kernelspec": {
      "name": "python3",
      "display_name": "Python 3"
    },
    "language_info": {
      "name": "python"
    }
  },
  "cells": [
    {
      "cell_type": "markdown",
      "metadata": {
        "id": "view-in-github",
        "colab_type": "text"
      },
      "source": [
        "<a href=\"https://colab.research.google.com/github/mskang222/NLP_2023/blob/main/9%EC%9B%94_19%EC%9D%BC.ipynb\" target=\"_parent\"><img src=\"https://colab.research.google.com/assets/colab-badge.svg\" alt=\"Open In Colab\"/></a>"
      ]
    },
    {
      "cell_type": "markdown",
      "source": [
        "#정렬과 공백"
      ],
      "metadata": {
        "id": "wdjUyPQ1ukdH"
      }
    },
    {
      "cell_type": "code",
      "execution_count": 1,
      "metadata": {
        "colab": {
          "base_uri": "https://localhost:8080/",
          "height": 35
        },
        "id": "aAlFuxlpuQnw",
        "outputId": "16d30f91-ba8c-4e61-f87a-63586d4f4523"
      },
      "outputs": [
        {
          "output_type": "execute_result",
          "data": {
            "text/plain": [
              "'        hi'"
            ],
            "application/vnd.google.colaboratory.intrinsic+json": {
              "type": "string"
            }
          },
          "metadata": {},
          "execution_count": 1
        }
      ],
      "source": [
        "\"%10s\" % \"hi\""
      ]
    },
    {
      "cell_type": "markdown",
      "source": [
        "%10s는 전체 길이가 10개인 문자열 공간에서 대입되는 값을 오른쪽으로 정렬하고 그 앞의 나머지는 공백으로 남겨 두라는 의미이다.  \n",
        "왼쪽 정렬은 %-10s이다."
      ],
      "metadata": {
        "id": "UXGRZBxquynU"
      }
    },
    {
      "cell_type": "markdown",
      "source": [
        "#소수점 표현하기"
      ],
      "metadata": {
        "id": "OwlyKGIeu9bs"
      }
    },
    {
      "cell_type": "code",
      "source": [
        "\"%0.4f\" % 3.42134234"
      ],
      "metadata": {
        "colab": {
          "base_uri": "https://localhost:8080/",
          "height": 35
        },
        "id": "tak6RomTurOG",
        "outputId": "687dcc3e-fc70-4040-a38d-755acf266fbc"
      },
      "execution_count": 2,
      "outputs": [
        {
          "output_type": "execute_result",
          "data": {
            "text/plain": [
              "'3.4213'"
            ],
            "application/vnd.google.colaboratory.intrinsic+json": {
              "type": "string"
            }
          },
          "metadata": {},
          "execution_count": 2
        }
      ]
    },
    {
      "cell_type": "markdown",
      "source": [],
      "metadata": {
        "id": "uJ7v-_qAvJ6g"
      }
    },
    {
      "cell_type": "code",
      "source": [
        "\"%10.4f\" % 3.42134234      # 3.42134234를 소수점 네 번째 자리까지만 표시하고 전체 길이가 10개인 문자열 공간에서 오른쪽으로 정렬"
      ],
      "metadata": {
        "colab": {
          "base_uri": "https://localhost:8080/",
          "height": 35
        },
        "id": "vNIxb_qEvAXM",
        "outputId": "df01ccd0-f34a-4ae8-8472-9a77172182d6"
      },
      "execution_count": 3,
      "outputs": [
        {
          "output_type": "execute_result",
          "data": {
            "text/plain": [
              "'    3.4213'"
            ],
            "application/vnd.google.colaboratory.intrinsic+json": {
              "type": "string"
            }
          },
          "metadata": {},
          "execution_count": 3
        }
      ]
    },
    {
      "cell_type": "markdown",
      "source": [
        "#format 함수를 사용한 포매팅"
      ],
      "metadata": {
        "id": "Ynb91P2ZvRLk"
      }
    },
    {
      "cell_type": "markdown",
      "source": [
        "숫자 바로 대입하기"
      ],
      "metadata": {
        "id": "-Fs6ZX69vV4a"
      }
    },
    {
      "cell_type": "code",
      "source": [
        "\"I eat {0} apples\".format(1)"
      ],
      "metadata": {
        "colab": {
          "base_uri": "https://localhost:8080/",
          "height": 35
        },
        "id": "0LQv1_DJvI1H",
        "outputId": "50f824bb-bec9-44c6-e5ba-701f2af3150e"
      },
      "execution_count": 6,
      "outputs": [
        {
          "output_type": "execute_result",
          "data": {
            "text/plain": [
              "'I eat 1 apples'"
            ],
            "application/vnd.google.colaboratory.intrinsic+json": {
              "type": "string"
            }
          },
          "metadata": {},
          "execution_count": 6
        }
      ]
    },
    {
      "cell_type": "markdown",
      "source": [
        "문자열 바로 대입하기"
      ],
      "metadata": {
        "id": "-_r65xqQvc2Y"
      }
    },
    {
      "cell_type": "code",
      "source": [
        "\"I eat {0} apples\".format(\"five\")"
      ],
      "metadata": {
        "colab": {
          "base_uri": "https://localhost:8080/",
          "height": 35
        },
        "id": "JioBPWouvYXF",
        "outputId": "4bd60953-a29e-435a-9d00-f6f66916c7a1"
      },
      "execution_count": 5,
      "outputs": [
        {
          "output_type": "execute_result",
          "data": {
            "text/plain": [
              "'I eat five apples'"
            ],
            "application/vnd.google.colaboratory.intrinsic+json": {
              "type": "string"
            }
          },
          "metadata": {},
          "execution_count": 5
        }
      ]
    },
    {
      "cell_type": "markdown",
      "source": [
        "숫자 값을 가진 변수로 대입하기"
      ],
      "metadata": {
        "id": "sODKDV-rvjsP"
      }
    },
    {
      "cell_type": "code",
      "source": [
        "a = 3\n",
        "\"I eat {0} apples\".format(a)"
      ],
      "metadata": {
        "colab": {
          "base_uri": "https://localhost:8080/",
          "height": 35
        },
        "id": "OGHTm43ovfbB",
        "outputId": "9e508bd2-49e8-4eea-85ee-b6d7a96962cb"
      },
      "execution_count": 7,
      "outputs": [
        {
          "output_type": "execute_result",
          "data": {
            "text/plain": [
              "'I eat 3 apples'"
            ],
            "application/vnd.google.colaboratory.intrinsic+json": {
              "type": "string"
            }
          },
          "metadata": {},
          "execution_count": 7
        }
      ]
    }
  ]
}