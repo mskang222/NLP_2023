{
  "nbformat": 4,
  "nbformat_minor": 0,
  "metadata": {
    "colab": {
      "provenance": [],
      "authorship_tag": "ABX9TyMbxUkqBV3xGB71V7IcfXbV",
      "include_colab_link": true
    },
    "kernelspec": {
      "name": "python3",
      "display_name": "Python 3"
    },
    "language_info": {
      "name": "python"
    }
  },
  "cells": [
    {
      "cell_type": "markdown",
      "metadata": {
        "id": "view-in-github",
        "colab_type": "text"
      },
      "source": [
        "<a href=\"https://colab.research.google.com/github/mskang222/NLP_2023/blob/main/11%EC%9B%94_17%EC%9D%BC.ipynb\" target=\"_parent\"><img src=\"https://colab.research.google.com/assets/colab-badge.svg\" alt=\"Open In Colab\"/></a>"
      ]
    },
    {
      "cell_type": "code",
      "execution_count": 1,
      "metadata": {
        "id": "HqNxpUmxsIWb"
      },
      "outputs": [],
      "source": [
        "str_data ='i love python'"
      ]
    },
    {
      "cell_type": "code",
      "source": [
        "print(str_data[1:5])"
      ],
      "metadata": {
        "colab": {
          "base_uri": "https://localhost:8080/"
        },
        "id": "soZO6cgjsb7k",
        "outputId": "340ddcbd-5f0d-463e-c8c1-1cc8550e3427"
      },
      "execution_count": 2,
      "outputs": [
        {
          "output_type": "stream",
          "name": "stdout",
          "text": [
            " lov\n"
          ]
        }
      ]
    },
    {
      "cell_type": "code",
      "source": [
        "print(str_data[:-3])"
      ],
      "metadata": {
        "colab": {
          "base_uri": "https://localhost:8080/"
        },
        "id": "j7V7yGiusd-y",
        "outputId": "852a9d30-6469-4f2e-953a-0c9451ae3cb1"
      },
      "execution_count": 3,
      "outputs": [
        {
          "output_type": "stream",
          "name": "stdout",
          "text": [
            "i love pyt\n"
          ]
        }
      ]
    },
    {
      "cell_type": "code",
      "source": [
        "print(str_data[::2]) # 처음부터 끝까지 스텝을 2로 해서 슬라이싱 하기"
      ],
      "metadata": {
        "colab": {
          "base_uri": "https://localhost:8080/"
        },
        "id": "osARLXPjsiqD",
        "outputId": "c075b994-3ace-4391-e0a1-c0c1687f8fd3"
      },
      "execution_count": 4,
      "outputs": [
        {
          "output_type": "stream",
          "name": "stdout",
          "text": [
            "ilv yhn\n"
          ]
        }
      ]
    },
    {
      "cell_type": "code",
      "source": [
        "strdata1 = 'i love'; strdata2='python'  # ;로 변수 분리"
      ],
      "metadata": {
        "id": "btBTEUWkspx0"
      },
      "execution_count": 5,
      "outputs": []
    },
    {
      "cell_type": "code",
      "source": [
        "print (strdata1 + strdata2)"
      ],
      "metadata": {
        "colab": {
          "base_uri": "https://localhost:8080/"
        },
        "id": "0E2HviJ5tHqy",
        "outputId": "d3e81ec3-be8d-44d7-bc9c-70b9b71df89e"
      },
      "execution_count": 6,
      "outputs": [
        {
          "output_type": "stream",
          "name": "stdout",
          "text": [
            "i lovepython\n"
          ]
        }
      ]
    },
    {
      "cell_type": "code",
      "source": [
        "print(strdata1*3)"
      ],
      "metadata": {
        "colab": {
          "base_uri": "https://localhost:8080/"
        },
        "id": "BlTzIB3ntLPI",
        "outputId": "7b04fdff-5765-46eb-ad9d-117d4a2bacc4"
      },
      "execution_count": 7,
      "outputs": [
        {
          "output_type": "stream",
          "name": "stdout",
          "text": [
            "i lovei lovei love\n"
          ]
        }
      ]
    },
    {
      "cell_type": "code",
      "source": [
        "strdata1 = 'i love'; strdata0 = ' '; strdata2='python'\n",
        "print (strdata1 + strdata0 + strdata2)"
      ],
      "metadata": {
        "colab": {
          "base_uri": "https://localhost:8080/"
        },
        "id": "4g4Ye33ktNlR",
        "outputId": "d7d71a54-d868-47e8-9ebc-5c0d36c634ab"
      },
      "execution_count": 8,
      "outputs": [
        {
          "output_type": "stream",
          "name": "stdout",
          "text": [
            "i love python\n"
          ]
        }
      ]
    },
    {
      "cell_type": "code",
      "source": [
        "str_data5 = 'i love python'\n",
        "print(len(str_data5)) #자료 크기 측정"
      ],
      "metadata": {
        "colab": {
          "base_uri": "https://localhost:8080/"
        },
        "id": "B_tW5fr2tXhl",
        "outputId": "8e88ddc4-b4bd-4887-ad25-3bc6eace102b"
      },
      "execution_count": 10,
      "outputs": [
        {
          "output_type": "stream",
          "name": "stdout",
          "text": [
            "13\n"
          ]
        }
      ]
    },
    {
      "cell_type": "code",
      "source": [
        "number = (1,2,3,4,5)\n",
        "for i in number:\n",
        " print(i)"
      ],
      "metadata": {
        "colab": {
          "base_uri": "https://localhost:8080/"
        },
        "id": "2sBenTuVthVx",
        "outputId": "6a3dbb04-5ae4-4f3a-9906-73944f2edb64"
      },
      "execution_count": 15,
      "outputs": [
        {
          "output_type": "stream",
          "name": "stdout",
          "text": [
            "1\n",
            "2\n",
            "3\n",
            "4\n",
            "5\n"
          ]
        }
      ]
    },
    {
      "cell_type": "code",
      "source": [
        "name = ['Sam', 'Tom', 'Can']\n",
        "\n",
        "for i in name:\n",
        "  print(i)"
      ],
      "metadata": {
        "colab": {
          "base_uri": "https://localhost:8080/"
        },
        "id": "GGYwNbRduUni",
        "outputId": "dbe7456a-f5c1-4d1f-93b4-6223db4f3bfe"
      },
      "execution_count": 17,
      "outputs": [
        {
          "output_type": "stream",
          "name": "stdout",
          "text": [
            "Sam\n",
            "Tom\n",
            "Can\n"
          ]
        }
      ]
    },
    {
      "cell_type": "code",
      "source": [],
      "metadata": {
        "id": "hdtE0BKTu2LY"
      },
      "execution_count": null,
      "outputs": []
    }
  ]
}