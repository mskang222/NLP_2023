{
  "nbformat": 4,
  "nbformat_minor": 0,
  "metadata": {
    "colab": {
      "provenance": [],
      "authorship_tag": "ABX9TyMU8eF5mbLsyLn+X/OgpMcY",
      "include_colab_link": true
    },
    "kernelspec": {
      "name": "python3",
      "display_name": "Python 3"
    },
    "language_info": {
      "name": "python"
    }
  },
  "cells": [
    {
      "cell_type": "markdown",
      "metadata": {
        "id": "view-in-github",
        "colab_type": "text"
      },
      "source": [
        "<a href=\"https://colab.research.google.com/github/mskang222/NLP_2023/blob/main/12%EC%9B%94_17%EC%9D%BC.ipynb\" target=\"_parent\"><img src=\"https://colab.research.google.com/assets/colab-badge.svg\" alt=\"Open In Colab\"/></a>"
      ]
    },
    {
      "cell_type": "code",
      "execution_count": 1,
      "metadata": {
        "id": "_afR2SF-E2PT"
      },
      "outputs": [],
      "source": [
        "#선형 회귀\n",
        "from tensorflow.keras import optimizers\n",
        "from tensorflow.keras.models import Sequential\n",
        "from tensorflow.keras.layers import Dense\n",
        "import numpy as np\n",
        "import matplotlib.pyplot as plt\n",
        "%matplotlib inline"
      ]
    },
    {
      "cell_type": "code",
      "source": [
        "#데이터 생성\n",
        "X = np.linspace(0, 10, 10)\n",
        "Y = X + np.random.randn(*X.shape)"
      ],
      "metadata": {
        "id": "m_9eY-W1FOmq"
      },
      "execution_count": 2,
      "outputs": []
    },
    {
      "cell_type": "code",
      "source": [
        "#데이터 조회\n",
        "for x, y in zip(X,Y):\n",
        "    print((round(x,1), round(y,1)))"
      ],
      "metadata": {
        "colab": {
          "base_uri": "https://localhost:8080/"
        },
        "id": "epZub9lMFTCc",
        "outputId": "6a0b717f-5e34-464d-8542-3b050304284c"
      },
      "execution_count": 3,
      "outputs": [
        {
          "output_type": "stream",
          "name": "stdout",
          "text": [
            "(0.0, -1.8)\n",
            "(1.1, 2.4)\n",
            "(2.2, 1.8)\n",
            "(3.3, 2.9)\n",
            "(4.4, 4.4)\n",
            "(5.6, 5.5)\n",
            "(6.7, 6.0)\n",
            "(7.8, 8.0)\n",
            "(8.9, 10.0)\n",
            "(10.0, 10.3)\n"
          ]
        }
      ]
    },
    {
      "cell_type": "code",
      "source": [
        "model = Sequential()\n",
        "model.add(Dense(input_dim=1, units=1, activation=\"linear\", use_bias=False))"
      ],
      "metadata": {
        "id": "30xGqd9LFYNi"
      },
      "execution_count": 4,
      "outputs": []
    },
    {
      "cell_type": "code",
      "source": [
        "sgd = optimizers.SGD(lr=0.05)\n",
        "model.compile(optimizer='sgd', loss='mse')"
      ],
      "metadata": {
        "colab": {
          "base_uri": "https://localhost:8080/"
        },
        "id": "Ty863qAWFan8",
        "outputId": "d110843b-0693-4d9a-f5f1-deddfc73dfce"
      },
      "execution_count": 5,
      "outputs": [
        {
          "output_type": "stream",
          "name": "stderr",
          "text": [
            "WARNING:absl:`lr` is deprecated in Keras optimizer, please use `learning_rate` or use the legacy optimizer, e.g.,tf.keras.optimizers.legacy.SGD.\n"
          ]
        }
      ]
    },
    {
      "cell_type": "code",
      "source": [
        "weights = model.layers[0].get_weights()\n",
        "w = weights[0][0][0]\n",
        "\n",
        "print('initial w is : ' + str(w))"
      ],
      "metadata": {
        "colab": {
          "base_uri": "https://localhost:8080/"
        },
        "id": "8lNIEOJ1FdD6",
        "outputId": "b5db090b-9314-49af-bb64-6e1a755d5d69"
      },
      "execution_count": 6,
      "outputs": [
        {
          "output_type": "stream",
          "name": "stdout",
          "text": [
            "initial w is : -1.0531014\n"
          ]
        }
      ]
    },
    {
      "cell_type": "code",
      "source": [
        "#선형 회귀 모델 학습\n",
        "model.fit(X, Y, batch_size=10,epochs=10, verbose=1)"
      ],
      "metadata": {
        "colab": {
          "base_uri": "https://localhost:8080/"
        },
        "id": "oRD6NeFzFgGX",
        "outputId": "60513d81-5d98-4a35-8370-695d272a4167"
      },
      "execution_count": 7,
      "outputs": [
        {
          "output_type": "stream",
          "name": "stdout",
          "text": [
            "Epoch 1/10\n",
            "1/1 [==============================] - 0s 284ms/step - loss: 152.8667\n",
            "Epoch 2/10\n",
            "1/1 [==============================] - 0s 8ms/step - loss: 14.0638\n",
            "Epoch 3/10\n",
            "1/1 [==============================] - 0s 9ms/step - loss: 1.8781\n",
            "Epoch 4/10\n",
            "1/1 [==============================] - 0s 10ms/step - loss: 0.8083\n",
            "Epoch 5/10\n",
            "1/1 [==============================] - 0s 11ms/step - loss: 0.7143\n",
            "Epoch 6/10\n",
            "1/1 [==============================] - 0s 9ms/step - loss: 0.7061\n",
            "Epoch 7/10\n",
            "1/1 [==============================] - 0s 10ms/step - loss: 0.7054\n",
            "Epoch 8/10\n",
            "1/1 [==============================] - 0s 9ms/step - loss: 0.7053\n",
            "Epoch 9/10\n",
            "1/1 [==============================] - 0s 8ms/step - loss: 0.7053\n",
            "Epoch 10/10\n",
            "1/1 [==============================] - 0s 9ms/step - loss: 0.7053\n"
          ]
        },
        {
          "output_type": "execute_result",
          "data": {
            "text/plain": [
              "<keras.src.callbacks.History at 0x7fbcdcce63b0>"
            ]
          },
          "metadata": {},
          "execution_count": 7
        }
      ]
    },
    {
      "cell_type": "code",
      "source": [
        "#학습된 선형 회귀 모델의, w(기울기)를 조회\n",
        "weights = model.layers[0].get_weights()\n",
        "w = weights[0][0][0]\n",
        "\n",
        "print('trained w is : ' + str(w))"
      ],
      "metadata": {
        "colab": {
          "base_uri": "https://localhost:8080/"
        },
        "id": "gvxW456mFkol",
        "outputId": "82cf3a71-1c6b-4628-b7e1-f66d6fba87cb"
      },
      "execution_count": 9,
      "outputs": [
        {
          "output_type": "stream",
          "name": "stdout",
          "text": [
            "trained w is : 1.0264522\n"
          ]
        }
      ]
    },
    {
      "cell_type": "code",
      "source": [
        "#시각화\n",
        "plt.plot(X, Y, label='data')\n",
        "plt.plot(X, w*X, label='prediction')\n",
        "plt.legend()\n",
        "plt.show()"
      ],
      "metadata": {
        "colab": {
          "base_uri": "https://localhost:8080/",
          "height": 430
        },
        "id": "LQN0ueI0FqvG",
        "outputId": "112a2d6a-9577-4544-8c6c-33e6c0865dce"
      },
      "execution_count": 10,
      "outputs": [
        {
          "output_type": "display_data",
          "data": {
            "text/plain": [
              "<Figure size 640x480 with 1 Axes>"
            ],
            "image/png": "[encoded data removed]"
          },
          "metadata": {}
        }
      ]
    }
  ]
}