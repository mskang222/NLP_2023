{
  "nbformat": 4,
  "nbformat_minor": 0,
  "metadata": {
    "colab": {
      "provenance": [],
      "authorship_tag": "ABX9TyPkaaYSdTjbWKz2J3wAl6/b",
      "include_colab_link": true
    },
    "kernelspec": {
      "name": "python3",
      "display_name": "Python 3"
    },
    "language_info": {
      "name": "python"
    }
  },
  "cells": [
    {
      "cell_type": "markdown",
      "metadata": {
        "id": "view-in-github",
        "colab_type": "text"
      },
      "source": [
        "<a href=\"https://colab.research.google.com/github/mskang222/NLP_2023/blob/main/10%EC%9B%94_20%EC%9D%BC.ipynb\" target=\"_parent\"><img src=\"https://colab.research.google.com/assets/colab-badge.svg\" alt=\"Open In Colab\"/></a>"
      ]
    },
    {
      "cell_type": "markdown",
      "source": [
        "다양한 조건을 판단하는 elif"
      ],
      "metadata": {
        "id": "RCuYI-YjQ046"
      }
    },
    {
      "cell_type": "code",
      "execution_count": 8,
      "metadata": {
        "colab": {
          "base_uri": "https://localhost:8080/"
        },
        "id": "Yqp7ogKRQrw1",
        "outputId": "7c1ea221-ae80-4164-a862-3f6efa56670d"
      },
      "outputs": [
        {
          "output_type": "stream",
          "name": "stdout",
          "text": [
            "택시를 타고가라\n"
          ]
        }
      ],
      "source": [
        "#예제: 주머니에 돈이 있으면 택시를 타고 가고, 주머니에 돈은 없지만 카드가 있으면 택시를 타고 가고, 돈도 없고 카드도 없으면 걸어가라.\n",
        "#if와 else로 표현할때\n",
        "pocket = ['paper', 'cellphone']\n",
        "card = True\n",
        "if 'money' in pocket:\n",
        "  print(\"택시를 타고가라\")\n",
        "else:\n",
        "   if card:\n",
        "       print(\"택시를 타고가라\")\n",
        "   else:\n",
        "      print(\"걸어가라\")"
      ]
    },
    {
      "cell_type": "code",
      "source": [
        "#elif를 사용할때(elif는 이전 조건문이 거짓일 때 수행된다.)\n",
        "pocket = ['paper', 'cellphone']\n",
        "card = True\n",
        "if 'money' in pocket:\n",
        "      print(\"택시를 타고가라\")\n",
        "elif card:\n",
        "      print(\"택시를 타고가라\")\n",
        "else:\n",
        "      print(\"걸어가라\")"
      ],
      "metadata": {
        "colab": {
          "base_uri": "https://localhost:8080/"
        },
        "id": "t5TvipimRaBQ",
        "outputId": "dd4aa3d6-4a1a-465d-bf6c-fa990ab027fb"
      },
      "execution_count": 9,
      "outputs": [
        {
          "output_type": "stream",
          "name": "stdout",
          "text": [
            "택시를 타고가라\n"
          ]
        }
      ]
    },
    {
      "cell_type": "markdown",
      "source": [
        "조건부 표현식"
      ],
      "metadata": {
        "id": "xf8SqH-dTYzc"
      }
    },
    {
      "cell_type": "code",
      "source": [
        "if score >= 60:\n",
        "    message = \"success\"\n",
        "else:\n",
        "    message = \"failure\""
      ],
      "metadata": {
        "id": "cAlald4PSEMi"
      },
      "execution_count": 12,
      "outputs": []
    },
    {
      "cell_type": "code",
      "source": [
        "#위의 식을 조건부 표현식으로 표현할때\n",
        "message = \"success\" if score >= 60 else \"failure\""
      ],
      "metadata": {
        "id": "Y6hc-Rw3Tcyu"
      },
      "execution_count": null,
      "outputs": []
    }
  ]
}