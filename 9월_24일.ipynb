{
  "nbformat": 4,
  "nbformat_minor": 0,
  "metadata": {
    "colab": {
      "provenance": [],
      "authorship_tag": "ABX9TyMS9lxzFY8wns0rl/8ainTj",
      "include_colab_link": true
    },
    "kernelspec": {
      "name": "python3",
      "display_name": "Python 3"
    },
    "language_info": {
      "name": "python"
    }
  },
  "cells": [
    {
      "cell_type": "markdown",
      "metadata": {
        "id": "view-in-github",
        "colab_type": "text"
      },
      "source": [
        "<a href=\"https://colab.research.google.com/github/mskang222/NLP_2023/blob/main/9%EC%9B%94_24%EC%9D%BC.ipynb\" target=\"_parent\"><img src=\"https://colab.research.google.com/assets/colab-badge.svg\" alt=\"Open In Colab\"/></a>"
      ]
    },
    {
      "cell_type": "markdown",
      "source": [
        "#리스트:대괄호([])로 감싸 주고 각 요솟값은 쉼표(,)로 구분해 준다"
      ],
      "metadata": {
        "id": "g_XzOVEEQ36K"
      }
    },
    {
      "cell_type": "code",
      "execution_count": 2,
      "metadata": {
        "colab": {
          "base_uri": "https://localhost:8080/"
        },
        "id": "CtgWiKTxQrTm",
        "outputId": "2560f29b-cfc2-4e54-c38e-8626f0e19380"
      },
      "outputs": [
        {
          "output_type": "execute_result",
          "data": {
            "text/plain": [
              "['a', 'b', 'c']"
            ]
          },
          "metadata": {},
          "execution_count": 2
        }
      ],
      "source": [
        "a = [1, 2, 3, ['a', 'b', 'c']]\n",
        "a[0]\n",
        "a[-1]\n",
        "a[3]\n",
        "#a[-1]은 문자열에서와 마찬가지로 리스트 a의 마지막 요솟값이다."
      ]
    },
    {
      "cell_type": "code",
      "source": [
        "a[-1][0]\n",
        "# a[-1]은 ['a', 'b', 'c']이고, 여기에서 첫번째 값을 불러온 것이다."
      ],
      "metadata": {
        "id": "SQjr8P6uRahX"
      },
      "execution_count": null,
      "outputs": []
    },
    {
      "cell_type": "markdown",
      "source": [
        "삼중 리스트에서 인덱싱하기"
      ],
      "metadata": {
        "id": "hVdCfSawRwkA"
      }
    },
    {
      "cell_type": "code",
      "source": [
        "a = [1, 2, ['a', 'b', ['Life', 'is']]]\n",
        "#'Life' 문자열만 끄집어 내기\n",
        "a[2][2][0]"
      ],
      "metadata": {
        "colab": {
          "base_uri": "https://localhost:8080/",
          "height": 35
        },
        "id": "sRznO0p7Rsqw",
        "outputId": "fbfb4001-4e53-460e-f6a6-76566026ac35"
      },
      "execution_count": 3,
      "outputs": [
        {
          "output_type": "execute_result",
          "data": {
            "text/plain": [
              "'Life'"
            ],
            "application/vnd.google.colaboratory.intrinsic+json": {
              "type": "string"
            }
          },
          "metadata": {},
          "execution_count": 3
        }
      ]
    }
  ]
}