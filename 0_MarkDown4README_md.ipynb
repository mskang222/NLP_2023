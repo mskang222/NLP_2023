{
  "nbformat": 4,
  "nbformat_minor": 0,
  "metadata": {
    "colab": {
      "provenance": [],
      "include_colab_link": true
    },
    "kernelspec": {
      "name": "python3",
      "display_name": "Python 3"
    },
    "language_info": {
      "name": "python"
    }
  },
  "cells": [
    {
      "cell_type": "markdown",
      "metadata": {
        "id": "view-in-github",
        "colab_type": "text"
      },
      "source": [
        "<a href=\"https://colab.research.google.com/github/mskang222/NLP_2023/blob/main/0_MarkDown4README_md.ipynb\" target=\"_parent\"><img src=\"https://colab.research.google.com/assets/colab-badge.svg\" alt=\"Open In Colab\"/></a>"
      ]
    },
    {
      "cell_type": "markdown",
      "source": [
        "# ✂️✏️📌 **How to Use <font color = 'red'> Markdown Language**\n",
        "* ## For <font color = 'orange'> more syntax</font> of markdown langauge, [Click here.](https://www.markdownguide.org/basic-syntax/)\n"
      ],
      "metadata": {
        "id": "nFyrb7heQOTL"
      }
    },
    {
      "cell_type": "markdown",
      "source": [
        "# ✂️✏️📌 **How to Use <font color = 'red'> Markdown Language**\n",
        "\n",
        "\n",
        "# **how to Use <font color = \"red\">Markdown Language**\n",
        "# **how to <font color = \"red\">Use </font>Markdown Language**\n",
        "\n",
        "* ## For <font color = 'orange'> more syntax</font> of  markdown langauge, [Click here.](https://www.markdownguide.org/basic-syntax/)\n",
        "\n",
        "* ## For  more syntax of  markdown langauge, [Markdown Language Syntax.](https://www.markdownguide.org/basic-syntax/)"
      ],
      "metadata": {
        "id": "eYhq68dNYzjG"
      }
    },
    {
      "cell_type": "markdown",
      "source": [
        "##  #:글자 크기 최대로 ,** ~ **:글자를굵게\n",
        "#<font color=\"red\">:빨강글씨"
      ],
      "metadata": {
        "id": "3t7XgAo3ZWJS"
      }
    },
    {
      "cell_type": "markdown",
      "source": [
        "# NLP_2023\n",
        "\n",
        "# 🐹🍦 **Python Language**🏈🌂🔨\n",
        "\n",
        "## **Learning Python** using **Colab** ([Visit Colab homepage](https://colab.research.google.com/?utm_source=scs-index)) and **Github** ([Visit Github homepage](https://github.com/))\n",
        "\n",
        "### **1. Sign up github** ([Visit a tutorial on Youtube](https://www.youtube.com/watch?v=c-NikCpec7U))\n",
        "### **2. Sign up Google Colaboratory** (aka. Colab) ([Visit a tutorial on Youtube](https://www.youtube.com/watch?v=2X_EU18OeYM))\n",
        "\n",
        "### **3. Useful References**\n",
        "- 교과서는 어떤 것으로 사용하나요?\n",
        "* 별표 사용해도 되나요?\n",
        "- Exercises 200 파이썬200제 by 장삼용. 정보문화사 2017\n",
        "- [Jump to Python](https://wikidocs.net/book/1)\n",
        "- [wikidocs for nltk](https://wikidocs.net/21667)\n",
        "\n",
        "### **4. Markdown Language**\n",
        "* [Emoji](https://gist.github.com/rxaviers/7360908)\n",
        "*[Markdown syntax](https://www.markdownguide.org/basic-syntax/)\n",
        "\n",
        "\n",
        "### **5. Class Materials**\n",
        "\n",
        "|# |Sessions |Keywords |\n",
        "|:-: |:-: |:-: |\n",
        "| 1|Code Cells 🏈|[variable,assign](https://github.com/mskang222/NLP_2023/blob/main/1_CodeCells_Basic.ipynb) |\n",
        "\n",
        "\n",
        "\n"
      ],
      "metadata": {
        "id": "OtctgkT2NOCS"
      }
    }
  ]
}