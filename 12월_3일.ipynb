{
  "nbformat": 4,
  "nbformat_minor": 0,
  "metadata": {
    "colab": {
      "provenance": [],
      "authorship_tag": "ABX9TyN1GB1da3KKkOSmHh4Ks0GI",
      "include_colab_link": true
    },
    "kernelspec": {
      "name": "python3",
      "display_name": "Python 3"
    },
    "language_info": {
      "name": "python"
    }
  },
  "cells": [
    {
      "cell_type": "markdown",
      "metadata": {
        "id": "view-in-github",
        "colab_type": "text"
      },
      "source": [
        "<a href=\"https://colab.research.google.com/github/mskang222/NLP_2023/blob/main/12%EC%9B%94_3%EC%9D%BC.ipynb\" target=\"_parent\"><img src=\"https://colab.research.google.com/assets/colab-badge.svg\" alt=\"Open In Colab\"/></a>"
      ]
    },
    {
      "cell_type": "code",
      "execution_count": 1,
      "metadata": {
        "colab": {
          "base_uri": "https://localhost:8080/"
        },
        "id": "vdAWO_mVk3BU",
        "outputId": "c2bf1b18-81bb-4846-eb50-65518bec57f5"
      },
      "outputs": [
        {
          "output_type": "stream",
          "name": "stdout",
          "text": [
            "You scored 50 on the test.\n",
            "Hello, Tom! You turn to finally 20 years old finally.\n",
            "You scored 50 on the test.\n",
            "Hello, Tom! You turn to finally 20 years old finally.\n"
          ]
        }
      ],
      "source": [
        "name = \"Tom\"\n",
        "score = 50\n",
        "age = 20\n",
        "\n",
        "\n",
        "test_result = \"You scored %d on the test.\" % score\n",
        "print(test_result)\n",
        "\n",
        "greeting = \"Hello, %s! You turn to finally %d years old finally.\" % (name, age)\n",
        "print(greeting)\n",
        "\n",
        "\n",
        "\n",
        "#Alternatively\n",
        "print(\"You scored %d on the test.\" %score)\n",
        "print(\"Hello, %s! You turn to finally %d years old finally.\" %(name, age))"
      ]
    },
    {
      "cell_type": "code",
      "source": [
        "age=13\n",
        "a= \"im %d years old.\" %age\n",
        "print(a)"
      ],
      "metadata": {
        "colab": {
          "base_uri": "https://localhost:8080/"
        },
        "id": "sutp47Kpv2O3",
        "outputId": "0efa0c75-a9aa-415c-e8ed-02616c9cc341"
      },
      "execution_count": 2,
      "outputs": [
        {
          "output_type": "stream",
          "name": "stdout",
          "text": [
            "im 13 years old.\n"
          ]
        }
      ]
    },
    {
      "cell_type": "code",
      "source": [
        "def add(a, b):\n",
        "  result = a + b\n",
        "  return result\n",
        "\n",
        "num1 = 10\n",
        "num2 = 200\n",
        "\n",
        "sum_result = add(num1, num2)\n",
        "\n",
        "print(\"The sum of %d and %d is %d\" % (num1, num2, sum_result))"
      ],
      "metadata": {
        "colab": {
          "base_uri": "https://localhost:8080/"
        },
        "id": "3wQq2IKwv379",
        "outputId": "c30392c7-dc56-4228-c438-1b89bbf5c2d8"
      },
      "execution_count": 3,
      "outputs": [
        {
          "output_type": "stream",
          "name": "stdout",
          "text": [
            "The sum of 10 and 200 is 210\n"
          ]
        }
      ]
    },
    {
      "cell_type": "code",
      "source": [
        "def add_and_print(a, b):\n",
        "    result = a + b\n",
        "    print(\"The sum of %d and %d is %d.\" % (a, b, result))\n",
        "    return result\n",
        "\n",
        "# Call the function\n",
        "sum_result = add_and_print(10, 15)"
      ],
      "metadata": {
        "colab": {
          "base_uri": "https://localhost:8080/"
        },
        "id": "Bfev9NdQwZb6",
        "outputId": "fe04471e-7941-4c23-f267-b2e631676a6a"
      },
      "execution_count": 4,
      "outputs": [
        {
          "output_type": "stream",
          "name": "stdout",
          "text": [
            "The sum of 10 and 15 is 25.\n"
          ]
        }
      ]
    },
    {
      "cell_type": "code",
      "source": [
        "def add_txt1(t1,t2='Python'):\n",
        "  print(t1 + ':' +t2)\n",
        "\n",
        "add_txt1('Best')\n",
        "add_txt1(t1='My friend', t2='Python')\n",
        "add_txt1(t1= 'My buddy')"
      ],
      "metadata": {
        "colab": {
          "base_uri": "https://localhost:8080/"
        },
        "id": "GQnuTWMTwtXr",
        "outputId": "cec1f8e3-bbd7-40af-aabc-b53e8eea6270"
      },
      "execution_count": 5,
      "outputs": [
        {
          "output_type": "stream",
          "name": "stdout",
          "text": [
            "Best:Python\n",
            "My friend:Python\n",
            "My buddy:Python\n"
          ]
        }
      ]
    },
    {
      "cell_type": "code",
      "source": [
        "def func_uncertain(*args):\n",
        "  print(args)\n",
        "\n",
        "func_uncertain()\n",
        "\n",
        "func_uncertain(6,7,8)\n",
        "func_uncertain('river','computer','pencil','dog')\n",
        "func_uncertain(True)"
      ],
      "metadata": {
        "colab": {
          "base_uri": "https://localhost:8080/"
        },
        "id": "x0YGlQS9x2oZ",
        "outputId": "9b6223d9-2045-43e5-ec61-db1395a1e564"
      },
      "execution_count": 6,
      "outputs": [
        {
          "output_type": "stream",
          "name": "stdout",
          "text": [
            "()\n",
            "(6, 7, 8)\n",
            "('river', 'computer', 'pencil', 'dog')\n",
            "(True,)\n"
          ]
        }
      ]
    }
  ]
}