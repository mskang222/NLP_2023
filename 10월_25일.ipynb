{
  "nbformat": 4,
  "nbformat_minor": 0,
  "metadata": {
    "colab": {
      "provenance": [],
      "authorship_tag": "ABX9TyPFXJ5bLm6ZWxLWnqWj5MjN",
      "include_colab_link": true
    },
    "kernelspec": {
      "name": "python3",
      "display_name": "Python 3"
    },
    "language_info": {
      "name": "python"
    }
  },
  "cells": [
    {
      "cell_type": "markdown",
      "metadata": {
        "id": "view-in-github",
        "colab_type": "text"
      },
      "source": [
        "<a href=\"https://colab.research.google.com/github/mskang222/NLP_2023/blob/main/10%EC%9B%94_25%EC%9D%BC.ipynb\" target=\"_parent\"><img src=\"https://colab.research.google.com/assets/colab-badge.svg\" alt=\"Open In Colab\"/></a>"
      ]
    },
    {
      "cell_type": "markdown",
      "source": [
        "#while문"
      ],
      "metadata": {
        "id": "bYvoGFUUrlHq"
      }
    },
    {
      "cell_type": "code",
      "execution_count": 1,
      "metadata": {
        "colab": {
          "base_uri": "https://localhost:8080/"
        },
        "id": "OO8EJ9XjrOAj",
        "outputId": "9eaf960f-9e26-4ef7-a936-135f27e07736"
      },
      "outputs": [
        {
          "output_type": "stream",
          "name": "stdout",
          "text": [
            "나무를 1번 찍었습니다.\n",
            "나무를 2번 찍었습니다.\n",
            "나무를 3번 찍었습니다.\n",
            "나무를 4번 찍었습니다.\n",
            "나무를 5번 찍었습니다.\n",
            "나무 넘어갑니다.\n"
          ]
        }
      ],
      "source": [
        "treeHit = 0\n",
        "while treeHit < 5:\n",
        "     treeHit = treeHit +1\n",
        "     print(\"나무를 %d번 찍었습니다.\" % treeHit)\n",
        "     if treeHit == 5:\n",
        "         print(\"나무 넘어갑니다.\")"
      ]
    },
    {
      "cell_type": "code",
      "source": [
        "#위의 코드설명\n",
        "#treeHit가 10보다 작은 동안 while 문에 포함된 문장들을 계속 수행한다.\n",
        "#whlie문 안의 문장을 보면 가장 먼저 treeHit = treeHit + 1로 treeHit 값이 계속 1씩 증가한다는 것을 알 수 있다.\n",
        "#treeHit가 5가 되면 \"나무 넘어갑니다.\"라는 문장을 출력한다.\n",
        "#그러고 나면 treeHit < 5 조건문이 거짓이 되므로 while 문을 빠져나가게 된다.\n",
        "#treeHit = treeHit + 1은 treeHit += 1처럼 작성해도 된다."
      ],
      "metadata": {
        "id": "MNBZW7O3sGLP"
      },
      "execution_count": 3,
      "outputs": []
    },
    {
      "cell_type": "markdown",
      "source": [
        "while 문 강제로 빠져나가기"
      ],
      "metadata": {
        "id": "lmNF8BrZtYAg"
      }
    },
    {
      "cell_type": "code",
      "source": [
        "coffee = 10\n",
        "money = 300\n",
        "while money:\n",
        "     print(\"돈을 받았으니 커피를 줍니다.\")\n",
        "     coffee = coffee -1\n",
        "     print(\"남은 커피의 양은 %d개입니다.\" % coffee)\n",
        "     if coffee == 0:\n",
        "         print(\"커피가 다 떨어졌습니다. 판매를 중지합니다.\")\n",
        "         break"
      ],
      "metadata": {
        "colab": {
          "base_uri": "https://localhost:8080/"
        },
        "id": "iCq86Dx5saFM",
        "outputId": "4ee62080-dcfb-42f4-ef2b-c1c00744c26e"
      },
      "execution_count": 4,
      "outputs": [
        {
          "output_type": "stream",
          "name": "stdout",
          "text": [
            "돈을 받았으니 커피를 줍니다.\n",
            "남은 커피의 양은 9개입니다.\n",
            "돈을 받았으니 커피를 줍니다.\n",
            "남은 커피의 양은 8개입니다.\n",
            "돈을 받았으니 커피를 줍니다.\n",
            "남은 커피의 양은 7개입니다.\n",
            "돈을 받았으니 커피를 줍니다.\n",
            "남은 커피의 양은 6개입니다.\n",
            "돈을 받았으니 커피를 줍니다.\n",
            "남은 커피의 양은 5개입니다.\n",
            "돈을 받았으니 커피를 줍니다.\n",
            "남은 커피의 양은 4개입니다.\n",
            "돈을 받았으니 커피를 줍니다.\n",
            "남은 커피의 양은 3개입니다.\n",
            "돈을 받았으니 커피를 줍니다.\n",
            "남은 커피의 양은 2개입니다.\n",
            "돈을 받았으니 커피를 줍니다.\n",
            "남은 커피의 양은 1개입니다.\n",
            "돈을 받았으니 커피를 줍니다.\n",
            "남은 커피의 양은 0개입니다.\n",
            "커피가 다 떨어졌습니다. 판매를 중지합니다.\n"
          ]
        }
      ]
    },
    {
      "cell_type": "code",
      "source": [
        "#위의 코드 설명\n",
        "#money가 300으로 고정되어 있고 while money:에서 조건문인 money는 0이 아니기 때문에 항상 참이다. 따라서 무한히 반복되는 무한 루프를 돌게 된다.\n",
        "# 그리고 while 문의 내용을 한 번 수행할 때마다 coffee = coffee - 1에 의해 coffee의 개수가 1개씩 줄어든다.\n",
        "#만약 coffee가 0이 되면 if coffee == 0: 문장에서 coffee == 0이 참이 되므로 if 문 다음 문장 \"커피가 다 떨어졌습니다. 판매를 중지합니다.\"가 출력되고 break 문이 호출되어 while 문을 빠져나가게 된다."
      ],
      "metadata": {
        "id": "LosVNgxQt7cs"
      },
      "execution_count": 5,
      "outputs": []
    },
    {
      "cell_type": "markdown",
      "source": [
        "while 문의 맨 처음으로 돌아가기"
      ],
      "metadata": {
        "id": "hhmOzjzGuLMA"
      }
    },
    {
      "cell_type": "code",
      "source": [
        "#continue 문: while 문을 빠져나가지 않고 while 문의 맨 처음(조건문)으로 다시 돌아가게 만들고 싶은 경우에 사용\n",
        "while a < 10:\n",
        "     a = a + 1\n",
        "     if a % 2 == 0: continue\n",
        "     print(a)"
      ],
      "metadata": {
        "colab": {
          "base_uri": "https://localhost:8080/"
        },
        "id": "6deJ8i2yt7wg",
        "outputId": "3618e66c-5ca8-4cc8-b9b8-ed7f6c99bd7c"
      },
      "execution_count": 6,
      "outputs": [
        {
          "output_type": "stream",
          "name": "stdout",
          "text": [
            "1\n",
            "3\n",
            "5\n",
            "7\n",
            "9\n"
          ]
        }
      ]
    },
    {
      "cell_type": "code",
      "source": [
        "#위의 코드 설명\n",
        "#a가 10보다 작은 동안 a는 1만큼씩 계속 증가한다.\n",
        "#a % 2 == 0(a를 2로 나누었을 때 나머지가 0인 경우)이 참이 되는 경우는 a가 짝수일 때이다.\n",
        "#continue 문은 while 문의 맨 처음인 조건문(a < 10)으로 돌아가게 하는 명령어이다.\n",
        "#위 예에서 a가 짝수이면 print(a) 문장은 수행되지 않을 것이다."
      ],
      "metadata": {
        "id": "ZVuvDx6XufEB"
      },
      "execution_count": null,
      "outputs": []
    }
  ]
}