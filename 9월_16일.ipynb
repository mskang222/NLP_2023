{
  "nbformat": 4,
  "nbformat_minor": 0,
  "metadata": {
    "colab": {
      "provenance": [],
      "authorship_tag": "ABX9TyNbjNUmeCQjAz9ijloXbBPf",
      "include_colab_link": true
    },
    "kernelspec": {
      "name": "python3",
      "display_name": "Python 3"
    },
    "language_info": {
      "name": "python"
    }
  },
  "cells": [
    {
      "cell_type": "markdown",
      "metadata": {
        "id": "view-in-github",
        "colab_type": "text"
      },
      "source": [
        "<a href=\"https://colab.research.google.com/github/mskang222/NLP_2023/blob/main/9%EC%9B%94_16%EC%9D%BC.ipynb\" target=\"_parent\"><img src=\"https://colab.research.google.com/assets/colab-badge.svg\" alt=\"Open In Colab\"/></a>"
      ]
    },
    {
      "cell_type": "markdown",
      "source": [
        "#이스케이프(escape) 코드: 프로그래밍할 때 사용할 수 있도록 미리 정의해 둔 문자 조합  \n",
        "\n",
        "1. \\n:\t문자열 안에서 줄을 바꿀 때 사용  \n",
        "2. \\t:\t문자열 사이에 탭 간격을 줄 때 사용  \n",
        "3. \\\\:\t\\를 그대로 표현할 때 사용  \n",
        "4. \\':\t작은따옴표(')를 그대로 표현할 때 사용\n",
        "5. \\\":\t큰따옴표(\")를 그대로 표현할 때 사용   \n",
        "6. \\r:\t캐리지 리턴(줄 바꿈 문자, 커서를 현재 줄의 가장 앞으로 이동)  \n",
        "7. \\f:\t폼 피드(줄 바꿈 문자, 커서를 현재 줄의 다음 줄로 이동)  \n",
        "8. \\a:\t벨 소리(출력할 때 PC 스피커에서 '삑' 소리가 난다)  \n",
        "9. \\b:\t백 스페이스  \n",
        "10.\\000: 널 문자  "
      ],
      "metadata": {
        "id": "2UD5eWcxXnf2"
      }
    },
    {
      "cell_type": "markdown",
      "source": [
        "#문자열 곱하기"
      ],
      "metadata": {
        "id": "IcBPXm7BYat-"
      }
    },
    {
      "cell_type": "code",
      "source": [
        "a = \"python\"\n",
        "a * 3\n"
      ],
      "metadata": {
        "colab": {
          "base_uri": "https://localhost:8080/",
          "height": 35
        },
        "id": "KjOHRGdcYUjB",
        "outputId": "ef3d7c6d-f917-4424-ccdb-f4ed7927ce42"
      },
      "execution_count": 3,
      "outputs": [
        {
          "output_type": "execute_result",
          "data": {
            "text/plain": [
              "'pythonpythonpython'"
            ],
            "application/vnd.google.colaboratory.intrinsic+json": {
              "type": "string"
            }
          },
          "metadata": {},
          "execution_count": 3
        }
      ]
    },
    {
      "cell_type": "markdown",
      "source": [
        "#문자열 길이 구하기"
      ],
      "metadata": {
        "id": "TYQ-T5ngYnte"
      }
    },
    {
      "cell_type": "code",
      "source": [
        " a = \"python is fun\"   #빈칸도 포함해서 문자열 길이를 나타낸다.\n",
        " len(a)"
      ],
      "metadata": {
        "colab": {
          "base_uri": "https://localhost:8080/"
        },
        "id": "qHBCfJqAYnX4",
        "outputId": "bf304bc8-fcff-40e3-e551-ebd142f25af8"
      },
      "execution_count": 4,
      "outputs": [
        {
          "output_type": "execute_result",
          "data": {
            "text/plain": [
              "13"
            ]
          },
          "metadata": {},
          "execution_count": 4
        }
      ]
    }
  ]
}